{
  "nbformat": 4,
  "nbformat_minor": 0,
  "metadata": {
    "colab": {
      "name": "Copy of E03 Leitura de Dados Rev2.ipynb",
      "provenance": [],
      "include_colab_link": true
    },
    "kernelspec": {
      "name": "python3",
      "display_name": "Python 3"
    },
    "language_info": {
      "name": "python"
    }
  },
  "cells": [
    {
      "cell_type": "markdown",
      "metadata": {
        "id": "view-in-github",
        "colab_type": "text"
      },
      "source": [
        "<a href=\"https://colab.research.google.com/github/mateusokp/Deep-Learning/blob/main/E03_Leitura_de_Dados_Rev2.ipynb\" target=\"_parent\"><img src=\"https://colab.research.google.com/assets/colab-badge.svg\" alt=\"Open In Colab\"/></a>"
      ]
    },
    {
      "cell_type": "code",
      "metadata": {
        "id": "cKYMrg1_FpW_"
      },
      "source": [
        "#@title\n",
        "%%capture\n",
        "!rm *\n",
        "!gdown --id '1BLyWu9zDytBTGR6vLL-UTSAZhpwRQD6b'\n",
        "!gdown --id '1a5jY17w-SINzRRdq2iH6SFEQiS_ZaAKj'\n",
        "!gdown --id '1RmUz5LqBQbfn02hvPdwP4ICpWVfa_bTV'\n",
        "!gdown --id '1ZkG09pQDz29mOFR5VTMPEirvwClVNj_F'\n",
        "!gdown --id '14zHXla8960NSNjqzf2j1ip8pFYqGyPRJ'\n",
        "#!gdown --id '1vWtNHG3ehZyjmWUlP85i9z4u7G7Ror7L'\n",
        "!gdown --id '1KNQKU68Y_XtFN2AS0guGpKDmiMM3YNij'\n",
        "!gdown --id '1R9LZJw-lvngWOVSInKNhKNkvTPpuS0KI'\n",
        "#!gdown --id '1UaAWEmE6Igp7P9C5EQJby_EykEiI_fZ1'\n",
        "!gdown --id '11vJUJtgumou5hkM1a8TribAXkHDlSpz_'\n",
        "!gdown --id '1jNFpdEtEbtcMgd51K6pjEvjB0hCFEI_E'\n",
        "!gdown --id '1dNZ8LvkczzE1oOdh_S7cu3Z5eG4T4EqG'\n",
        "!pip install git+https://github.com/grading/gradememaybe.git\n",
        "\n",
        "from IPython.display import YouTubeVideo\n",
        "from gofer import ok"
      ],
      "execution_count": null,
      "outputs": []
    },
    {
      "cell_type": "markdown",
      "metadata": {
        "id": "F9uRXrRQCPUT"
      },
      "source": [
        "# 1 Upload do Arquivo\n",
        "\n",
        "Use o espaço abaixo para fazer o upload do arquivo para o ambiente do Google Colab. Para isso você pode usar o comando `gdown` (lembre-se de colocar o sinal de exclamação `!` para chamar comandos na linha de comando, fora do Python)."
      ]
    },
    {
      "cell_type": "code",
      "metadata": {
        "id": "1_gkoGa0B2qK",
        "colab": {
          "base_uri": "https://localhost:8080/"
        },
        "outputId": "47ae2a5d-5d20-46d4-8417-c0d553fbfa52"
      },
      "source": [
        "# Seu código aqui\n",
        "!gdown https://drive.google.com/uc?id=1d3NbjXro_BfnYpFm66ETBfe7ubAZPAoL"
      ],
      "execution_count": null,
      "outputs": [
        {
          "output_type": "stream",
          "name": "stdout",
          "text": [
            "Downloading...\n",
            "From: https://drive.google.com/uc?id=1d3NbjXro_BfnYpFm66ETBfe7ubAZPAoL\n",
            "To: /content/Iris.csv\n",
            "\r  0% 0.00/5.11k [00:00<?, ?B/s]\r100% 5.11k/5.11k [00:00<00:00, 4.69MB/s]\n"
          ]
        }
      ]
    },
    {
      "cell_type": "code",
      "metadata": {
        "id": "jUnzAmJaF-NA",
        "colab": {
          "base_uri": "https://localhost:8080/",
          "height": 46
        },
        "outputId": "c5dc1fe5-7fc5-45c1-ef11-de09330c1e9a"
      },
      "source": [
        "ok.check('e03_1.py')"
      ],
      "execution_count": null,
      "outputs": [
        {
          "output_type": "execute_result",
          "data": {
            "text/html": [
              "\n",
              "    \n",
              "    \n",
              "        <p>All tests passed!</p>\n",
              "    \n",
              "    "
            ],
            "text/plain": [
              "<gofer.ok.OKTestsResult at 0x7f5ebbad3ed0>"
            ]
          },
          "metadata": {},
          "execution_count": 3
        }
      ]
    },
    {
      "cell_type": "markdown",
      "metadata": {
        "id": "jLT4YiBZInaI"
      },
      "source": [
        "# 2 Leitura do Arquivo\n",
        "\n",
        "Escreva um laço que leia todas as linhas do arquivo, criando uma lista numa variável de nome 'd0', onde cada elemento da lista é uma string que corresponde a uma linha do arquivo."
      ]
    },
    {
      "cell_type": "code",
      "metadata": {
        "id": "r0ErgTEHJFHa"
      },
      "source": [
        "# Seu código aqui\n",
        "f = open(\"/content/Iris.csv\")\n",
        "d0 = f.readlines()"
      ],
      "execution_count": null,
      "outputs": []
    },
    {
      "cell_type": "code",
      "metadata": {
        "id": "Qc2PA9M5K0Aj",
        "colab": {
          "base_uri": "https://localhost:8080/",
          "height": 46
        },
        "outputId": "e9da4a11-20b6-49d9-dd62-1817a437e8bd"
      },
      "source": [
        "ok.check('e03_2.py')"
      ],
      "execution_count": null,
      "outputs": [
        {
          "output_type": "execute_result",
          "data": {
            "text/html": [
              "\n",
              "    \n",
              "    \n",
              "        <p>All tests passed!</p>\n",
              "    \n",
              "    "
            ],
            "text/plain": [
              "<gofer.ok.OKTestsResult at 0x7f5ee2021a50>"
            ]
          },
          "metadata": {},
          "execution_count": 5
        }
      ]
    },
    {
      "cell_type": "markdown",
      "metadata": {
        "id": "l484x8LxMIuX"
      },
      "source": [
        "# 3 Remoção de Cabeçalho e Contagem de Linhas\n",
        "\n",
        "Utilizando a mesma variável `d0`, agora remova o cabeçalho (que deve ser o primeiro elemento da lista), e conte as linhas de dados. Grave o total de linhas numa variável de nome `total`."
      ]
    },
    {
      "cell_type": "code",
      "metadata": {
        "id": "wJf05VUmMG8S"
      },
      "source": [
        "# Seu código aqui\n",
        "d0.pop(0)\n",
        "total = len(d0)"
      ],
      "execution_count": null,
      "outputs": []
    },
    {
      "cell_type": "code",
      "metadata": {
        "id": "enzMyPuXNStY",
        "colab": {
          "base_uri": "https://localhost:8080/",
          "height": 46
        },
        "outputId": "43608eda-9be2-4e51-8762-8f48c6e61ea6"
      },
      "source": [
        "ok.check('e03_3.py')"
      ],
      "execution_count": null,
      "outputs": [
        {
          "output_type": "execute_result",
          "data": {
            "text/html": [
              "\n",
              "    \n",
              "    \n",
              "        <p>All tests passed!</p>\n",
              "    \n",
              "    "
            ],
            "text/plain": [
              "<gofer.ok.OKTestsResult at 0x7f5ec156a190>"
            ]
          },
          "metadata": {},
          "execution_count": 7
        }
      ]
    },
    {
      "cell_type": "markdown",
      "metadata": {
        "id": "QkryWu5dOa76"
      },
      "source": [
        "# 4 Remoção de Novas Linhas\n",
        "\n",
        "Crie uma nova lista numa variável de nome `d1` onde cada elemento de `d1` corresponda à versão do mesmo elemento em `d0`, removendo o caractere de nova linha `\\n` que aparece ao final de cada item. Assegure-se de que cada elemento da lista `d1` seja uma string simples (dependendo como você fez o upload, pode acontecer dos elementos estarem codificados, então decodifique caso necessário)."
      ]
    },
    {
      "cell_type": "code",
      "metadata": {
        "id": "7Chnp2TNOxH8"
      },
      "source": [
        "# Seu código aqui\n",
        "d1 = [line.strip('\\n') for line in d0]"
      ],
      "execution_count": null,
      "outputs": []
    },
    {
      "cell_type": "code",
      "metadata": {
        "id": "vDTFG50XP9Xt",
        "colab": {
          "base_uri": "https://localhost:8080/",
          "height": 46
        },
        "outputId": "964ffcda-2356-47ae-acae-d436b356d5a7"
      },
      "source": [
        "ok.check('e03_4.py')"
      ],
      "execution_count": null,
      "outputs": [
        {
          "output_type": "execute_result",
          "data": {
            "text/html": [
              "\n",
              "    \n",
              "    \n",
              "        <p>All tests passed!</p>\n",
              "    \n",
              "    "
            ],
            "text/plain": [
              "<gofer.ok.OKTestsResult at 0x7f5ebb5f7f50>"
            ]
          },
          "metadata": {},
          "execution_count": 9
        }
      ]
    },
    {
      "cell_type": "markdown",
      "metadata": {
        "id": "xjcb4NF-Skxg"
      },
      "source": [
        "# 5 Separação por Vírgulas\n",
        "\n",
        "Crie uma nova lista em uma variável de nome `d2` onde cada elemento dessa lista seja uma sublista contendo as strings correspondentes a cada dado da string original, usando a vírgula como separador.\n",
        "\n",
        "Por exemplo, transforme isso:\n",
        "\n",
        "`'14,4.3,3.0,1.1,0.1,Iris-setosa'`\n",
        "\n",
        "nisso:\n",
        "\n",
        "`['14', '4.3', '3.0', '1.1', '0.1', 'Iris-setosa']`\n",
        "\n",
        "Faça isso para todos elementos, na mesma ordem da lista original, gravando o resultado em `d2`.\n"
      ]
    },
    {
      "cell_type": "code",
      "metadata": {
        "id": "s08w5UV6Tij9"
      },
      "source": [
        "# Seu código aqui\n",
        "d2 = [line.split(',') for line in d1]\n"
      ],
      "execution_count": null,
      "outputs": []
    },
    {
      "cell_type": "code",
      "metadata": {
        "id": "7S7f_WeTUN_g",
        "colab": {
          "base_uri": "https://localhost:8080/",
          "height": 46
        },
        "outputId": "a6562188-d00a-47e5-cffb-058ae3971b38"
      },
      "source": [
        "ok.check('e03_5.py')"
      ],
      "execution_count": null,
      "outputs": [
        {
          "output_type": "execute_result",
          "data": {
            "text/html": [
              "\n",
              "    \n",
              "    \n",
              "        <p>All tests passed!</p>\n",
              "    \n",
              "    "
            ],
            "text/plain": [
              "<gofer.ok.OKTestsResult at 0x7f5ebb61f990>"
            ]
          },
          "metadata": {},
          "execution_count": 11
        }
      ]
    },
    {
      "cell_type": "markdown",
      "metadata": {
        "id": "bczh-ZCWVNyX"
      },
      "source": [
        "# 6 Entradas de Treinamento\n",
        "\n",
        "Crie uma matriz no formato `array` do NumPy, numa variável de nome `d3`, contendo todos os dados da segunda, terceira, quarta e quinta colunas de `d2` transformados para o formato ponto flutuante (convertendo de string para número). Não inclua nem a primeira coluna (que é o id), nem a última coluna nessa conversão. Essa será a matriz de entradas."
      ]
    },
    {
      "cell_type": "code",
      "metadata": {
        "id": "18CrGLTJVMlG"
      },
      "source": [
        "# Escreva seu código aqui\n",
        "import numpy as np\n",
        "d3 = np.zeros((total,4))\n",
        "for i,line in enumerate(d2):\n",
        "  sl = float(line[1])\n",
        "  sw = float(line[2])\n",
        "  pl = float(line[3])\n",
        "  pw = float(line[4])\n",
        "  d3[i:] = np.array([sl,sw,pl,pw])"
      ],
      "execution_count": null,
      "outputs": []
    },
    {
      "cell_type": "code",
      "metadata": {
        "id": "SZDaonjRW_Yk",
        "colab": {
          "base_uri": "https://localhost:8080/",
          "height": 46
        },
        "outputId": "588311ca-78bf-4a6f-b2cb-b6c379b31054"
      },
      "source": [
        "ok.check('e03_6.py')"
      ],
      "execution_count": null,
      "outputs": [
        {
          "output_type": "execute_result",
          "data": {
            "text/html": [
              "\n",
              "    \n",
              "    \n",
              "        <p>All tests passed!</p>\n",
              "    \n",
              "    "
            ],
            "text/plain": [
              "<gofer.ok.OKTestsResult at 0x7f5ec284eb90>"
            ]
          },
          "metadata": {},
          "execution_count": 13
        }
      ]
    },
    {
      "cell_type": "markdown",
      "metadata": {
        "id": "4RPaGiqvX2R7"
      },
      "source": [
        "# 7 Saídas Desejadas\n",
        "\n",
        "Crie um `array` do NumPy para as saídas desejadas, no formado _one-hot_. Para isso utilize as strings da última coluna de `d2`, verificando qual espécie de planta se refere cada string:\n",
        "\n",
        " `'Iris-setosa'` $\\rightarrow$ `[1.0, 0.0, 0.0]`\n",
        " \n",
        " `'Iris-versicolor'` $\\rightarrow$ `[0.0, 1.0, 0.0]`\n",
        "\n",
        " `'Iris-virginica'` $\\rightarrow$ `[0.0, 0.0, 1.0]`\n",
        "\n",
        " Grave o resultado em um `array` do NumPy de nome `d4`, com o mesmo número de linhas de `d3`, onde cada linha de `d4` corresponde ao vetor _one-hot_ da saída desejada da respectiva linha de entradas de `d4`."
      ]
    },
    {
      "cell_type": "code",
      "metadata": {
        "id": "BOUZLeZaY2cr"
      },
      "source": [
        "# Escreva seu código aqui\n",
        "d4 = np.zeros((total,3))\n",
        "cat = np.array(['Iris-setosa','Iris-versicolor','Iris-virginica'])\n",
        "for i,line in enumerate(d2):\n",
        "  d4[i:] = (cat == line[5]).astype('float')"
      ],
      "execution_count": null,
      "outputs": []
    },
    {
      "cell_type": "code",
      "metadata": {
        "id": "jwvATLI4cKue",
        "colab": {
          "base_uri": "https://localhost:8080/",
          "height": 46
        },
        "outputId": "940d9ad7-eed9-400b-e9ae-c9f463dce0b9"
      },
      "source": [
        "ok.check('e03_7.py')"
      ],
      "execution_count": null,
      "outputs": [
        {
          "output_type": "execute_result",
          "data": {
            "text/html": [
              "\n",
              "    \n",
              "    \n",
              "        <p>All tests passed!</p>\n",
              "    \n",
              "    "
            ],
            "text/plain": [
              "<gofer.ok.OKTestsResult at 0x7f5ebbae4a50>"
            ]
          },
          "metadata": {},
          "execution_count": 15
        }
      ]
    },
    {
      "cell_type": "markdown",
      "metadata": {
        "id": "M2hG7fHQccol"
      },
      "source": [
        "# 8 Normalização das Entradas\n",
        "\n",
        "Encontre o valor máximo e mínimo para cada uma das quatro colunas da matriz de entradas. Normalize os valores das entradas no intervalo entre zero e um, salvando o resultado em um `array` do NumPy de nome `d5`."
      ]
    },
    {
      "cell_type": "code",
      "metadata": {
        "id": "6LJLMP4GdNaB"
      },
      "source": [
        "# Escreva seu código aqui\n",
        "dmm = np.zeros((4,2))\n",
        "for i,number in enumerate(d3[0]):\n",
        "  dmm[i][0] = number\n",
        "  dmm[i][1] = number\n",
        "for line in d3:\n",
        "  for k,number in enumerate(line):\n",
        "    dmm[k][0] = number if number < dmm[k][0] else dmm[k][0]\n",
        "    dmm[k][1] = number if number > dmm[k][1] else dmm[k][1]\n",
        "d5 = d3\n",
        "for i,line in enumerate(d5):\n",
        "  for j,number in enumerate(line):\n",
        "    d5[i][j] = (number - dmm[j][0]) / (dmm[j][1] - dmm[j][0])\n"
      ],
      "execution_count": null,
      "outputs": []
    },
    {
      "cell_type": "code",
      "metadata": {
        "id": "2Y3LHDt9e4C_",
        "colab": {
          "base_uri": "https://localhost:8080/",
          "height": 46
        },
        "outputId": "dfd033b1-1592-4f69-9ed2-9cd41207b943"
      },
      "source": [
        "ok.check('e03_8.py')"
      ],
      "execution_count": null,
      "outputs": [
        {
          "output_type": "execute_result",
          "data": {
            "text/html": [
              "\n",
              "    \n",
              "    \n",
              "        <p>All tests passed!</p>\n",
              "    \n",
              "    "
            ],
            "text/plain": [
              "<gofer.ok.OKTestsResult at 0x7f5ebb5f7bd0>"
            ]
          },
          "metadata": {},
          "execution_count": 17
        }
      ]
    },
    {
      "cell_type": "markdown",
      "metadata": {
        "id": "2JMfjj63gdsZ"
      },
      "source": [
        "# 9 Embaralhamento dos Dados\n",
        "\n",
        "Misture as linhas dos dados dos valores de entradas de treinamento contidos em `d5` de forma aleatória. Faça o mesmo com as linhas das saídas desejadas em `d4`, de forma a manter a correspondência entre ambos. Chame a `array` resultante de dados de treinamento embaralhado de `x` e a `array` correspondente de saídas desejadas de `y`."
      ]
    },
    {
      "cell_type": "code",
      "metadata": {
        "id": "u0weu3mshbro"
      },
      "source": [
        "# Escreva seu código aqui\n",
        "import random\n",
        "z = list(zip(d5,d4))\n",
        "random.shuffle(z)\n",
        "x,y = zip(*z)\n"
      ],
      "execution_count": null,
      "outputs": []
    },
    {
      "cell_type": "code",
      "metadata": {
        "id": "g1OinS58n2eV",
        "colab": {
          "base_uri": "https://localhost:8080/",
          "height": 46
        },
        "outputId": "f31ed28f-3470-4e15-b1dd-76426179eafe"
      },
      "source": [
        "ok.check('e03_9.py')"
      ],
      "execution_count": null,
      "outputs": [
        {
          "output_type": "execute_result",
          "data": {
            "text/html": [
              "\n",
              "    \n",
              "    \n",
              "        <p>All tests passed!</p>\n",
              "    \n",
              "    "
            ],
            "text/plain": [
              "<gofer.ok.OKTestsResult at 0x7f5ebb62a2d0>"
            ]
          },
          "metadata": {},
          "execution_count": 19
        }
      ]
    },
    {
      "cell_type": "markdown",
      "metadata": {
        "id": "g7RxpU4CoscS"
      },
      "source": [
        "# 10 Separação de Dados de Treinamento e Validação\n",
        "\n",
        "Separe os pares de dados de treinamento e validação nas proporções 90%/10%, respectivamente. Chame a entrada e saída desejada dos pares de treinamento de `x_train` e `y_train`, e use os nomes `x_test` e `y_test` para os dados de validação. Os dados de validação devem corresponder às linhas finais dos pares de `array` originais `x` e `y`."
      ]
    },
    {
      "cell_type": "code",
      "metadata": {
        "id": "cKtuZjXfphhe"
      },
      "source": [
        "# Escreva seu código aqui\n",
        "\n",
        "x_train = np.array(x[:135])\n",
        "y_train = np.array(y[:135])\n",
        "x_test = np.array(x[135:])\n",
        "y_test = np.array(y[135:])"
      ],
      "execution_count": null,
      "outputs": []
    },
    {
      "cell_type": "code",
      "metadata": {
        "id": "jLfamQPqpu3w",
        "colab": {
          "base_uri": "https://localhost:8080/",
          "height": 46
        },
        "outputId": "63eefc61-f863-48c6-b6e9-6670d3736d4f"
      },
      "source": [
        "ok.check('e03_10.py')"
      ],
      "execution_count": null,
      "outputs": [
        {
          "output_type": "execute_result",
          "data": {
            "text/html": [
              "\n",
              "    \n",
              "    \n",
              "        <p>All tests passed!</p>\n",
              "    \n",
              "    "
            ],
            "text/plain": [
              "<gofer.ok.OKTestsResult at 0x7f5ebbabb210>"
            ]
          },
          "metadata": {},
          "execution_count": 21
        }
      ]
    },
    {
      "cell_type": "code",
      "source": [
        "def sigmoid(x):\n",
        "  return 1.0 / (1.0 + np.exp(-x))\n",
        "\n",
        "class Perceptron:\n",
        "  def __init__(self):\n",
        "\n",
        "    self.Wh = np.random.random((5,4))*2.0 - 1.0\n",
        "    self.bh = np.random.random((5,1))*2.0 - 1.0\n",
        "\n",
        "    self.Wh2 = np.random.random((4,5))*2.0 - 1.0\n",
        "    self.bh2 = np.random.random((4,1))*2.0 - 1.0\n",
        "\n",
        "    self.Wo = np.random.random((3,4))*2.0 - 1.0\n",
        "    self.bo = np.random.random((3,1))*2.0 - 1.0\n",
        "\n",
        "    self.eta = 0.0001\n",
        "\n",
        "  def forward(self,x):\n",
        "\n",
        "    x = np.reshape(x,(4,1))\n",
        "\n",
        "    self.sh = np.dot(self.Wh,x) + self.bh\n",
        "    self.zh = sigmoid(self.sh)\n",
        "\n",
        "    self.sh2 = np.dot(self.Wh2,self.zh) + self.bh2\n",
        "    self.zh2 = sigmoid(self.sh2)\n",
        "\n",
        "    self.so = np.dot(self.Wo,self.zh2) + self.bo\n",
        "    self.zo = sigmoid(self.so)\n",
        "    return self.zo\n",
        "\n",
        "  def train(self, X, Y):\n",
        "    Err = 0.0\n",
        "    total = X.shape[0]\n",
        "\n",
        "    for i in range(total):\n",
        "      x = X[i,:]\n",
        "      x = np.reshape(x,(4,1))\n",
        "\n",
        "      y_hat = Y[i,:]\n",
        "      y_hat = np.reshape(y_hat,(3,1))\n",
        "\n",
        "      y = self.forward(x)\n",
        "\n",
        "      err = (np.sum((y - y_hat)**2)) / 2.0\n",
        "      Err = Err + err\n",
        "\n",
        "      self.do = (y - y_hat) * self.zo * (1.0 - self.zo)\n",
        "\n",
        "      self.dh2 = np.dot(self.Wo.T, self.do) * self.zh2 * (1.0 - self.zh2)\n",
        "\n",
        "      self.dh = np.dot(self.Wh2.T, self.dh2) * self.zh * (1.0 - self.zh)\n",
        "  \n",
        "      self.Wo = self.Wo - self.eta * np.dot(self.do,self.zh2.T)\n",
        "      self.bo = self.bo - self.eta * self.do\n",
        "      self.Wh2 = self.Wh2 - self.eta * np.dot(self.dh2,self.zh.T)\n",
        "      self.bh2 = self.bh2 - self.eta * self.dh2\n",
        "      self.Wh = self.Wh - self.eta * np.dot(self.dh,x.T)\n",
        "      self.bh = self.bh - self.eta * self.dh\n",
        "    \n",
        "    Err = Err / total\n",
        "    return Err"
      ],
      "metadata": {
        "id": "pKhycam6AiK7"
      },
      "execution_count": null,
      "outputs": []
    },
    {
      "cell_type": "code",
      "source": [
        "p = Perceptron()\n",
        "erro = []\n",
        "for i in range(1000):\n",
        "  erro.append(p.train(x_train,y_train))\n",
        "\n",
        "x = np.linspace(0, len(erro),len(erro))\n",
        "from matplotlib import pyplot as plt\n",
        "plt.plot(x,erro)"
      ],
      "metadata": {
        "colab": {
          "base_uri": "https://localhost:8080/",
          "height": 282
        },
        "id": "tVwBkyvuAvkT",
        "outputId": "dff98067-ed91-4a63-b7b0-a82fed9f2015"
      },
      "execution_count": null,
      "outputs": [
        {
          "output_type": "execute_result",
          "data": {
            "text/plain": [
              "[<matplotlib.lines.Line2D at 0x7f5ebb040d90>]"
            ]
          },
          "metadata": {},
          "execution_count": 27
        },
        {
          "output_type": "display_data",
          "data": {
            "image/png": "[encoded data removed]",
            "text/plain": [
              "<Figure size 432x288 with 1 Axes>"
            ]
          },
          "metadata": {
            "needs_background": "light"
          }
        }
      ]
    }
  ]
}