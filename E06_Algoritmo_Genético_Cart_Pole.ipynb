{
  "nbformat": 4,
  "nbformat_minor": 0,
  "metadata": {
    "colab": {
      "name": "Copy of E06 Algoritmo Genético Cart-Pole.ipynb",
      "provenance": [],
      "include_colab_link": true
    },
    "kernelspec": {
      "name": "python3",
      "display_name": "Python 3"
    }
  },
  "cells": [
    {
      "cell_type": "markdown",
      "metadata": {
        "id": "view-in-github",
        "colab_type": "text"
      },
      "source": [
        "<a href=\"https://colab.research.google.com/github/mateusokp/Deep-Learning/blob/main/E06_Algoritmo_Gen%C3%A9tico_Cart_Pole.ipynb\" target=\"_parent\"><img src=\"https://colab.research.google.com/assets/colab-badge.svg\" alt=\"Open In Colab\"/></a>"
      ]
    },
    {
      "cell_type": "code",
      "metadata": {
        "id": "FUbWip5jBmAM"
      },
      "source": [
        "#@title\n",
        "%%capture\n",
        "!pip install gym pyvirtualdisplay\n",
        "!apt-get install -y xvfb python-opengl ffmpeg\n",
        "!apt-get install build-essential python-dev swig python-pygame\n",
        "!apt-get update\n",
        "!apt-get install cmake\n",
        "!pip install --upgrade setuptools\n",
        "!pip install ez_setup\n",
        "!pip install gym\n",
        "!pip install box2d-py\n",
        "\n",
        "import gym\n",
        "from gym.wrappers import Monitor\n",
        "import glob\n",
        "import io\n",
        "import base64\n",
        "from IPython.display import HTML, clear_output, YouTubeVideo\n",
        "from pyvirtualdisplay import Display\n",
        "from IPython import display as ipythondisplay\n",
        "\n",
        "display = Display(visible=0, size=(1400, 900))\n",
        "display.start()\n",
        "\n",
        "\"\"\"\n",
        "Utility functions to enable video recording of gym environment \n",
        "and displaying it.\n",
        "To enable video, just do \"env = wrap_env(env)\"\"\n",
        "\"\"\"\n",
        "\n",
        "def show_video():\n",
        "  mp4list = glob.glob('video/*.mp4')\n",
        "  if len(mp4list) > 0:\n",
        "    mp4 = mp4list[0]\n",
        "    video = io.open(mp4, 'r+b').read()\n",
        "    encoded = base64.b64encode(video)\n",
        "    ipythondisplay.display(HTML(data='''<video alt=\"test\" autoplay \n",
        "                loop controls style=\"height: 400px;\">\n",
        "                <source src=\"data:video/mp4;base64,{0}\" type=\"video/mp4\" />\n",
        "             </video>'''.format(encoded.decode('ascii'))))\n",
        "  else: \n",
        "    print(\"Could not find video\")\n",
        "    \n",
        "\n",
        "def wrap_env(env):\n",
        "  env = Monitor(env, './video', force=True)\n",
        "  return env"
      ],
      "execution_count": null,
      "outputs": []
    },
    {
      "cell_type": "markdown",
      "metadata": {
        "id": "C4XavvvHBO9e"
      },
      "source": [
        "# E06 Algoritmo Genético Cart-Pole\n",
        "\n",
        "Neste exercício você vai usar o que aprendeu sobre algoritmos genéticos e neuro-evolução para implementar um algoritmo genético capaz de evoluir os parâmetros de uma rede neural que deverá controlar um sistema de pêndulo invertido.\n",
        "\n",
        "Em inglês conhecido como _cart-pole_, o pêndulo invertido é um problema clássico muito usado para fins didáticos, principalmente em disciplinas ligadas à modelagem e controle de sistemas dinâmicos em engenharia.\n",
        "\n",
        "Para entender melhor o problema, veja o vídeo abaixo, onde um aluno de graduação apresenta seu projeto de TCC:"
      ]
    },
    {
      "cell_type": "code",
      "metadata": {
        "colab": {
          "base_uri": "https://localhost:8080/",
          "height": 322
        },
        "id": "5lqvckCw8HIK",
        "outputId": "a62bb546-c5b4-4a12-e97d-d1ef540f31f9"
      },
      "source": [
        "YouTubeVideo('Pf79Z32B5Kk')"
      ],
      "execution_count": null,
      "outputs": [
        {
          "output_type": "execute_result",
          "data": {
            "text/html": [
              "\n",
              "        <iframe\n",
              "            width=\"400\"\n",
              "            height=\"300\"\n",
              "            src=\"https://www.youtube.com/embed/Pf79Z32B5Kk\"\n",
              "            frameborder=\"0\"\n",
              "            allowfullscreen\n",
              "        ></iframe>\n",
              "        "
            ],
            "text/plain": [
              "<IPython.lib.display.YouTubeVideo at 0x7f191201ab90>"
            ],
            "image/jpeg": "[encoded data removed]"
          },
          "metadata": {},
          "execution_count": 3
        }
      ]
    },
    {
      "cell_type": "markdown",
      "metadata": {
        "id": "09stoaYjFCXr"
      },
      "source": [
        "## Introdução\n",
        "\n",
        "Neste trabalho, você tomará como ponto de partida o [código disponível neste link aqui](https://colab.research.google.com/drive/1X68CYfPYcKN7qvPfOlkgGURP6E0PLE5X?usp=sharing). De forma muito semelhante ao código do link acima, aqui também utilizaremos um ambiente do OpenAI Gym - só que desta vez, ao invés de tentarmos aterrizar foquetes, tentaremos equilibrar o pêndulo.\n",
        "\n",
        "Veja o exemplo de código abaixo:"
      ]
    },
    {
      "cell_type": "code",
      "metadata": {
        "colab": {
          "base_uri": "https://localhost:8080/",
          "height": 439
        },
        "id": "jenqKbWhHAIx",
        "outputId": "97e1939c-2644-4d93-bbdd-852167e7fe62"
      },
      "source": [
        "# Aqui importamos o NumPy para\n",
        "# gerar as ações aleatórias\n",
        "# que precisaremos mais abaixo\n",
        "\n",
        "import numpy as np\n",
        "\n",
        "# Esta linha de código cria o ambiente\n",
        "# usando o OpenAI Gym. Note que o comando\n",
        "# está usando a função wrap_env() que serve\n",
        "# para capturar as imagens e gerar um vídeo\n",
        "# que permita observar a saída gráfica\n",
        "# aqui no Google Colab.\n",
        "env = wrap_env(gym.make('CartPole-v0'))\n",
        "\n",
        "# Essa variável usaremos para somar o\n",
        "# reforço.\n",
        "R = 0.0\n",
        "\n",
        "# Aqui resetamos o ambiente\n",
        "obs = env.reset()\n",
        "\n",
        "# Laço principal\n",
        "while True:\n",
        "\n",
        "  # Escolhemos uma ação aleatória. São\n",
        "  # possíveis duas ações: ação 0 ou ação 1\n",
        "  action = np.random.randint(0,2)\n",
        "\n",
        "  # Rodamos um passo da simulação, enviando\n",
        "  # a ação escolhida e recebendo como retorno\n",
        "  # uma tupla de quatro elementos. O primeiro\n",
        "  # elemento é o vetor de observações, que tem\n",
        "  # tamanho 4. A variável reward é o reforço\n",
        "  # instantâneo referente a este passo (número\n",
        "  # escalar). A variável done é True quando o\n",
        "  # episódio encerrou. Por fim, info retorna\n",
        "  # algumas informações sobre a simulação.\n",
        "  obs, reward, done, info = env.step(action)\n",
        "\n",
        "  # Essa linha de código renderiza os gráficos\n",
        "  # gerando mais um quadro para o vídeo que\n",
        "  # será gerado ao final\n",
        "  env.render()\n",
        "\n",
        "  # Aqui somamos os reforços de cada quadro.\n",
        "  R += reward\n",
        "\n",
        "  # Se done for True (verdadeiro) então\n",
        "  # encerramos esse laço de simulação.\n",
        "  if done:\n",
        "    break\n",
        "\n",
        "# Aqui imprimimos o reforço acumulado\n",
        "print(R)\n",
        "\n",
        "# Encerramos o ambiente\n",
        "env.close()\n",
        "\n",
        "# Mostramos o vídeo gerado\n",
        "show_video()"
      ],
      "execution_count": null,
      "outputs": [
        {
          "output_type": "stream",
          "name": "stdout",
          "text": [
            "10.0\n"
          ]
        },
        {
          "output_type": "display_data",
          "data": {
            "text/html": [
              "<video alt=\"test\" autoplay \n",
              "                loop controls style=\"height: 400px;\">\n",
              "                <source src=\"data:video/mp4;base64,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\" type=\"video/mp4\" />\n",
              "             </video>"
            ],
            "text/plain": [
              "<IPython.core.display.HTML object>"
            ]
          },
          "metadata": {}
        }
      ]
    },
    {
      "cell_type": "markdown",
      "metadata": {
        "id": "V8SOKcivJQON"
      },
      "source": [
        "## Instruções\n",
        "\n",
        "Note que em termos dos formatos das entradas e saídas, este problema é muito semelhante ao do foguete. As diferenças principais se referem aos números: este problema conta com quatro variáveis observadas (entradas da rede neural) e com duas opções de ações (saídas da rede neural).\n",
        "\n",
        "Para resolver este problema, traga para cá o código de neuro-evolução que pousava o foguete, alterando-o conforme necessário para que desta vez faça o equilíbrio do pêndulo.\n",
        "\n",
        "A rede neural deverá possuir 4 entradas, 10 neurônios na camada escondida e 2 neurônios de saída. As entradas devem ser exatamente o vetor de observações da simulação (tamanho 4) e na saída, a maior deve ser considerada a ação escolhida.\n",
        "\n",
        "Ao final de seu código, para passar no teste, você deve garantir que a rede neural esteja gravada na variável global de nome **n**."
      ]
    },
    {
      "cell_type": "code",
      "metadata": {
        "id": "KRpNZweHK_FR"
      },
      "source": [
        "# Seu código abaixo\n",
        "from matplotlib import pyplot as plt"
      ],
      "execution_count": null,
      "outputs": []
    },
    {
      "cell_type": "code",
      "source": [
        "class Net():\n",
        "  def __init__(self, chromosome):\n",
        "    # 4 => 10 => 2 \n",
        "    self.w1 = chromosome[:40].reshape((10,4))\n",
        "    self.b1 = chromosome[40:50].reshape((10,))\n",
        "    self.w2 = chromosome[50:70].reshape((2,10))\n",
        "    self.b2 = chromosome[70:].reshape((2,))\n",
        "  def forward(self, x):\n",
        "    s1 = np.dot(self.w1, x) + self.b1\n",
        "    z1 = s1 * (s1 > 0.0)\n",
        "    s2 = np.dot(self.w2, z1) + self.b2\n",
        "    z2 = s2 * (s2 > 0.0)\n",
        "    return z2.argmax()"
      ],
      "metadata": {
        "id": "1D0phQcngnuQ"
      },
      "execution_count": null,
      "outputs": []
    },
    {
      "cell_type": "code",
      "source": [
        "def create_individual():\n",
        "  ''' Esta função cria o genótipo de um indivíduo\n",
        "      completamente aleatório\n",
        "  '''\n",
        "  N = 4*10+10+10*2+2\n",
        "  chromosome = np.random.normal(0, 10, size=(N,))\n",
        "  return chromosome, None"
      ],
      "metadata": {
        "id": "1AafCw2hhK1g"
      },
      "execution_count": null,
      "outputs": []
    },
    {
      "cell_type": "code",
      "source": [
        "def create_population(size):\n",
        "  ''' Aqui geramos uma população inteira\n",
        "  '''\n",
        "  # Nossa população será uma lista\n",
        "  population = list()\n",
        "  # Nesse laço criamos cada indivíduo\n",
        "  # e adicionamos à população\n",
        "  for _ in range(size):\n",
        "    population.append(create_individual())\n",
        "  return population"
      ],
      "metadata": {
        "id": "eLTP_GPJhPcX"
      },
      "execution_count": null,
      "outputs": []
    },
    {
      "cell_type": "code",
      "source": [
        "def get_phenotype(chromosome):\n",
        "  ''' Esta função gera a imagem a partir do\n",
        "      gene.\n",
        "  '''\n",
        "  n = Net(chromosome)\n",
        "  return n"
      ],
      "metadata": {
        "id": "hRexDV7jhSpd"
      },
      "execution_count": null,
      "outputs": []
    },
    {
      "cell_type": "code",
      "source": [
        "def fitness(n):\n",
        "  R = 0.0\n",
        "  trials = 6\n",
        "  env = gym.make('CartPole-v0')\n",
        "  for _ in range(trials):\n",
        "    obs = env.reset()\n",
        "    while True:\n",
        "      action = n.forward(obs)\n",
        "      obs, reward, done, info = env.step(action)\n",
        "      R += reward\n",
        "      if done:\n",
        "        break\n",
        "  env.close()\n",
        "  return (10000.0 + R/trials) / 10000.0"
      ],
      "metadata": {
        "id": "sQ9NlQUihUyA"
      },
      "execution_count": null,
      "outputs": []
    },
    {
      "cell_type": "code",
      "source": [
        "def crossover2point(chr1, chr2):\n",
        "  ''' Esta função combina os genes de\n",
        "      dois indivíduos, gerando um novo\n",
        "      cromossomo\n",
        "  '''\n",
        "  N = len(chr1)\n",
        "  idx1 = np.random.randint(0,N)\n",
        "  idx2 = np.random.randint(0,N)\n",
        "  if idx1 > idx2:\n",
        "    idx1, idx2 = idx2, idx1\n",
        "  new_chr1 = np.concatenate((chr1[0:idx1], chr2[idx1:idx2], chr1[idx2:]))\n",
        "  new_chr2 = np.concatenate((chr2[0:idx1], chr1[idx1:idx2], chr2[idx2:]))\n",
        "  return new_chr1, new_chr2"
      ],
      "metadata": {
        "id": "Zky5N2tThbn1"
      },
      "execution_count": null,
      "outputs": []
    },
    {
      "cell_type": "code",
      "source": [
        "def mutation(chr, p):\n",
        "  ''' Esta função aplica a mutação em um dos\n",
        "      genes de nosso cromossomo\n",
        "  '''\n",
        "  N = len(chr)\n",
        "  total = int(np.random.normal(p*N, p*N))\n",
        "  if total < 0:\n",
        "    total = 0\n",
        "  elif total > N:\n",
        "    total = N\n",
        "  for _ in range(total):\n",
        "    idx = np.random.randint(0, N)\n",
        "    if np.random.rand() > 0.5:\n",
        "      chr[idx] += np.random.normal(0, 1)\n",
        "    else:\n",
        "      chr[idx] = np.random.normal(0, 10)\n",
        "  return chr"
      ],
      "metadata": {
        "id": "_Lbb1QHxhfIS"
      },
      "execution_count": null,
      "outputs": []
    },
    {
      "cell_type": "code",
      "source": [
        "def compute_fitness(population):\n",
        "  ''' Esta função avalia cada indivíduo\n",
        "      e adiciona o seu score.\n",
        "  '''\n",
        "  scored = list()\n",
        "  for chromosome, score in population:\n",
        "    n = get_phenotype(chromosome)\n",
        "    score = fitness(n)\n",
        "    scored.append((chromosome, score))\n",
        "  scored.sort(key=lambda x:x[1], reverse=True)\n",
        "  return scored"
      ],
      "metadata": {
        "id": "0XQByc-rhh_4"
      },
      "execution_count": null,
      "outputs": []
    },
    {
      "cell_type": "code",
      "source": [
        "def roulette(population):\n",
        "  fitnesses = np.array([np.exp(fitness) \\\n",
        "                       for _, fitness in population])\n",
        "  total = np.sum(fitnesses)\n",
        "  fitnesses /= total\n",
        "  choice = np.random.rand()\n",
        "  subtotal = 0\n",
        "  idx = 0\n",
        "  for f in fitnesses:\n",
        "    subtotal += f\n",
        "    if subtotal >= choice or idx == len(fitnesses)-1:\n",
        "      break\n",
        "    idx += 1\n",
        "  return idx"
      ],
      "metadata": {
        "id": "uKQdOfRDhk5J"
      },
      "execution_count": null,
      "outputs": []
    },
    {
      "cell_type": "code",
      "source": [
        "def new_generation(population, size, mutation_rate):\n",
        "  new_population = list()\n",
        "  while len(new_population) < size:\n",
        "    idx1 = roulette(population)\n",
        "    idx2 = roulette(population)\n",
        "    if idx1 == idx2:\n",
        "      continue\n",
        "    chr1, _ = population[idx1]\n",
        "    chr2, _ = population[idx2]\n",
        "    new_chr1, new_chr2 = crossover2point(chr1, chr2)\n",
        "    new_chr1 = mutation(new_chr1, mutation_rate)\n",
        "    new_chr2 = mutation(new_chr2, mutation_rate)\n",
        "    new_population.append((new_chr1, None))\n",
        "    new_population.append((new_chr2, None))\n",
        "  return new_population[:size]"
      ],
      "metadata": {
        "id": "ouvTWR-lhpH-"
      },
      "execution_count": null,
      "outputs": []
    },
    {
      "cell_type": "code",
      "source": [
        "def genalg(pop_size, elite_size, \\\n",
        "           epochs, mutation_rate):\n",
        "  x = list()\n",
        "  y = list()\n",
        "\n",
        "  population = create_population(pop_size)\n",
        "\n",
        "  for generation in range(epochs+1):\n",
        "\n",
        "    population = compute_fitness(population)\n",
        "\n",
        "    chr, fit = population[0]\n",
        "    _, worst = population[-1]\n",
        "    n = get_phenotype(chr)\n",
        "    y.append(fit)\n",
        "    x.append(generation)\n",
        "\n",
        "    R = 0.0\n",
        "    env2 = wrap_env(gym.make('CartPole-v0'))\n",
        "    obs = env2.reset()\n",
        "    while True:\n",
        "      action = n.forward(obs)\n",
        "      obs, reward, done, info = env2.step(action)\n",
        "      env2.render()\n",
        "      R += reward\n",
        "      if done:\n",
        "        break\n",
        "    env2.close()\n",
        "\n",
        "    clear_output()\n",
        "    print('Geração', generation, ', melhor:', fit, ', pior', worst)\n",
        "    show_video()\n",
        "      \n",
        "    plt.plot(x, y)\n",
        "    plt.show()\n",
        "\n",
        "    elite = population[:elite_size]\n",
        "    population = new_generation(population, pop_size - elite_size,\\\n",
        "                                mutation_rate) + elite\n",
        "  return n, x, y"
      ],
      "metadata": {
        "id": "bWxgaSmVhrvn"
      },
      "execution_count": null,
      "outputs": []
    },
    {
      "cell_type": "code",
      "source": [
        "n, x, y = genalg(50, 3, 50, 0.03)"
      ],
      "metadata": {
        "colab": {
          "base_uri": "https://localhost:8080/",
          "height": 687
        },
        "id": "FiakNdoGhxBY",
        "outputId": "27b1df5f-a83d-4b7d-a9c9-76f0ee005a7f"
      },
      "execution_count": null,
      "outputs": [
        {
          "output_type": "stream",
          "name": "stdout",
          "text": [
            "Geração 50 , melhor: 1.02 , pior 1.00085\n"
          ]
        },
        {
          "output_type": "display_data",
          "data": {
            "text/html": [
              "<video alt=\"test\" autoplay \n",
              "                loop controls style=\"height: 400px;\">\n",
              "                <source src=\"data:video/mp4;base64,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\" type=\"video/mp4\" />\n",
              "             </video>"
            ],
            "text/plain": [
              "<IPython.core.display.HTML object>"
            ]
          },
          "metadata": {}
        },
        {
          "output_type": "display_data",
          "data": {
            "image/png": "[encoded data removed]",
            "text/plain": [
              "<Figure size 432x288 with 1 Axes>"
            ]
          },
          "metadata": {
            "needs_background": "light"
          }
        }
      ]
    },
    {
      "cell_type": "markdown",
      "metadata": {
        "id": "ZKOlKs1D_FKY"
      },
      "source": [
        "## Avaliação\n",
        "\n",
        "Para concluir com sucesso este exercício com avaliação 100%, seu algoritmo deve  gerar uma rede neural capaz de controlar o pêngulo gerando uma soma total de reforços R=1.02. Se você conseguir menos que 1.01 < R < 1.02 sua nota será reduzida para 70%, e se conseguir 0.5 < R < 1.0 sua nota será 50%. Se R < 0.5 ou se o código não executar, sua nota será nula para este exercício."
      ]
    }
  ]
}