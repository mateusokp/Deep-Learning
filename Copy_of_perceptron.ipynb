{
  "nbformat": 4,
  "nbformat_minor": 0,
  "metadata": {
    "colab": {
      "name": "Copy of perceptron.ipynb",
      "provenance": [],
      "include_colab_link": true
    },
    "kernelspec": {
      "name": "python3",
      "display_name": "Python 3"
    }
  },
  "cells": [
    {
      "cell_type": "markdown",
      "metadata": {
        "id": "view-in-github",
        "colab_type": "text"
      },
      "source": [
        "<a href=\"https://colab.research.google.com/github/mateusokp/Deep-Learning/blob/main/Copy_of_perceptron.ipynb\" target=\"_parent\"><img src=\"https://colab.research.google.com/assets/colab-badge.svg\" alt=\"Open In Colab\"/></a>"
      ]
    },
    {
      "cell_type": "code",
      "metadata": {
        "id": "4almV7GV6GrZ"
      },
      "source": [
        "import numpy as np"
      ],
      "execution_count": null,
      "outputs": []
    },
    {
      "cell_type": "code",
      "metadata": {
        "id": "gM00JQtsFQCr"
      },
      "source": [
        "def sigmoid(x):\n",
        "  return 1.0 / (1 + np.exp(-x))"
      ],
      "execution_count": null,
      "outputs": []
    },
    {
      "cell_type": "code",
      "metadata": {
        "id": "aq2Rm9jY6R4j"
      },
      "source": [
        "class Perceptron():\n",
        "  def __init__(self, n_inputs=4, n_hidden=8, n_outputs=1):\n",
        "    # Sinapses\n",
        "    self.w_ih = np.array([[1.12,0.92,1.28],[-0.88,-1.02,-1.46],[1.06,0.63,0.38],[-1.5,-1.99,-2.31]])\n",
        "    self.w_ho = np.array([[0.54,2.51,-1.81,5.15],[-6.22,-4.08,1.75,-3.47],[5.89,1.58,-1.72,-4.06]])\n",
        "    # Biases\n",
        "    self.b_hid = np.array([[-8.86],[+4.36],[-1.87],[+4.79]]) \n",
        "    self.b_out = np.array([[-0.82],[0.76],[-1.35]])\n",
        "  def compute(self, inputs):\n",
        "    # Garante que a entrada seja um vetor coluna\n",
        "    inputs = np.reshape(inputs,(len(inputs),1))\n",
        "    # Calcula as ativações, camada por camada\n",
        "    self.s_hid = np.dot(self.w_ih, inputs) + self.b_hid\n",
        "    self.z_hid = sigmoid(self.s_hid)\n",
        "    self.s_out = np.dot(self.w_ho, self.z_hid) + self.b_out\n",
        "    self.z_out = sigmoid(self.s_out)\n",
        "    return self.z_out"
      ],
      "execution_count": null,
      "outputs": []
    },
    {
      "cell_type": "code",
      "metadata": {
        "id": "GrLc0MhbFmZb",
        "colab": {
          "base_uri": "https://localhost:8080/"
        },
        "outputId": "4d3249be-d672-418c-fb91-ce2f01574495"
      },
      "source": [
        "p = Perceptron()\n",
        "p.compute([3,3,3])"
      ],
      "execution_count": null,
      "outputs": [
        {
          "output_type": "execute_result",
          "data": {
            "text/plain": [
              "array([[0.10034973],\n",
              "       [0.10042717],\n",
              "       [0.79839896]])"
            ]
          },
          "metadata": {},
          "execution_count": 6
        }
      ]
    }
  ]
}