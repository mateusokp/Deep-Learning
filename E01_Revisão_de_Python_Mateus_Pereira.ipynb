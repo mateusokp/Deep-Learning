{
  "nbformat": 4,
  "nbformat_minor": 0,
  "metadata": {
    "colab": {
      "name": "E01 - Revisão de Python - Mateus Pereira.ipynb",
      "provenance": [],
      "collapsed_sections": [],
      "include_colab_link": true
    },
    "kernelspec": {
      "name": "python3",
      "display_name": "Python 3"
    },
    "language_info": {
      "name": "python"
    }
  },
  "cells": [
    {
      "cell_type": "markdown",
      "metadata": {
        "id": "view-in-github",
        "colab_type": "text"
      },
      "source": [
        "<a href=\"https://colab.research.google.com/github/mateusokp/Deep-Learning/blob/main/E01_Revis%C3%A3o_de_Python_Mateus_Pereira.ipynb\" target=\"_parent\"><img src=\"https://colab.research.google.com/assets/colab-badge.svg\" alt=\"Open In Colab\"/></a>"
      ]
    },
    {
      "cell_type": "code",
      "metadata": {
        "id": "eMRulnnoZ-mf"
      },
      "source": [
        "#@title\n",
        "%%capture\n",
        "!rm *\n",
        "!gdown --id '1jEgIo5hl6n5gs64XN-2i11Iy6NFB1wi3'\n",
        "!gdown --id '179F2IKIg5Fpo3csJ6bw3xNPzkrEtBKnC'\n",
        "!gdown --id '1FJxgTNkWDuVIuT1CI_mh6UO1rTQJdf_6'\n",
        "!gdown --id '16psl0gHALG_u95Z25a9knnI020_oAruM'\n",
        "!gdown --id '1lRCJj82wXPMS7P0g41n0GCzLqbHKxjgl'\n",
        "!gdown --id '1SEeRrhk8v2CsO7E-re6RsnXRqah-bN6N'\n",
        "!gdown --id '1Km__JMeXgBqYRqQR3hAzpogTCGvLXqjd'\n",
        "!pip install git+https://github.com/grading/gradememaybe.git\n",
        "\n",
        "from IPython.display import YouTubeVideo\n",
        "from gofer import ok"
      ],
      "execution_count": null,
      "outputs": []
    },
    {
      "cell_type": "markdown",
      "metadata": {
        "id": "Q9sF-_ZoqXUM"
      },
      "source": [
        "#E01 - Revisão de Python\n",
        "\n",
        "Faça uma cópia deste documento e siga as instruções abaixo para solucionar os exercícios de $1$ a $7$. Após concluir todos exercícios, preencha o formulário de auto-avaliação para efetuar a entrega."
      ]
    },
    {
      "cell_type": "markdown",
      "metadata": {
        "id": "Z38hdMqo7gdu"
      },
      "source": [
        "# Parte 1 - Álgebra Linear"
      ]
    },
    {
      "cell_type": "code",
      "metadata": {
        "id": "xJoOX1MfamwE",
        "colab": {
          "base_uri": "https://localhost:8080/",
          "height": 321
        },
        "outputId": "f7ac474b-b0c6-4528-a3ae-519acd6fa5ba"
      },
      "source": [
        "YouTubeVideo('7oYe5Wikdxk')"
      ],
      "execution_count": null,
      "outputs": [
        {
          "output_type": "execute_result",
          "data": {
            "text/html": [
              "\n",
              "        <iframe\n",
              "            width=\"400\"\n",
              "            height=\"300\"\n",
              "            src=\"https://www.youtube.com/embed/7oYe5Wikdxk\"\n",
              "            frameborder=\"0\"\n",
              "            allowfullscreen\n",
              "        ></iframe>\n",
              "        "
            ],
            "text/plain": [
              "<IPython.lib.display.YouTubeVideo at 0x7f3510483210>"
            ],
            "image/jpeg": "[encoded data removed]"
          },
          "metadata": {},
          "execution_count": 4
        }
      ]
    },
    {
      "cell_type": "markdown",
      "metadata": {
        "id": "Cgv2ooRMuoJ8"
      },
      "source": [
        "## 1\n",
        "\n",
        "Após assistir ao vídeo acima, faça um código que importe a função \"cos\" do módulo \"math\" trocando o nome da função para \"cos1\". No mesmo código, também importe a função \"cos\" do módulo \"numpy\" e troque o nome para \"cos2\"."
      ]
    },
    {
      "cell_type": "code",
      "metadata": {
        "id": "BW3mXuDFV7td"
      },
      "source": [
        "# Seu código aqui\n",
        "from math import cos as cos1\n",
        "from numpy import cos as cos2"
      ],
      "execution_count": null,
      "outputs": []
    },
    {
      "cell_type": "code",
      "metadata": {
        "id": "v059ORwIegV9",
        "colab": {
          "base_uri": "https://localhost:8080/",
          "height": 46
        },
        "outputId": "ca114390-118c-4148-c334-c7bda2515501"
      },
      "source": [
        "ok.check('e01_1.py')"
      ],
      "execution_count": null,
      "outputs": [
        {
          "output_type": "execute_result",
          "data": {
            "text/html": [
              "\n",
              "    \n",
              "    \n",
              "        <p>All tests passed!</p>\n",
              "    \n",
              "    "
            ],
            "text/plain": [
              "<gofer.ok.OKTestsResult at 0x7f971d48e950>"
            ]
          },
          "metadata": {},
          "execution_count": 4
        }
      ]
    },
    {
      "cell_type": "code",
      "metadata": {
        "id": "JyM9JPJDvNVm",
        "colab": {
          "base_uri": "https://localhost:8080/",
          "height": 321
        },
        "outputId": "e1298796-fefa-4b14-e16c-1ae468b61b82"
      },
      "source": [
        "YouTubeVideo('Hv8JslLk4M0')"
      ],
      "execution_count": null,
      "outputs": [
        {
          "output_type": "execute_result",
          "data": {
            "text/html": [
              "\n",
              "        <iframe\n",
              "            width=\"400\"\n",
              "            height=\"300\"\n",
              "            src=\"https://www.youtube.com/embed/Hv8JslLk4M0\"\n",
              "            frameborder=\"0\"\n",
              "            allowfullscreen\n",
              "        ></iframe>\n",
              "        "
            ],
            "text/plain": [
              "<IPython.lib.display.YouTubeVideo at 0x7f350f121a10>"
            ],
            "image/jpeg": "[encoded data removed]"
          },
          "metadata": {},
          "execution_count": 7
        }
      ]
    },
    {
      "cell_type": "markdown",
      "metadata": {
        "id": "S1_2Bdbkvnp7"
      },
      "source": [
        "## 2\n",
        "\n",
        "Mostre o que acontece ao tentar multiplicar uma lista nativa do Python por um número inteiro. Para fazer isso, tome como ponto de partida a lista de nome `a` abaixo, multiplique esta lista por `5`, e salve o resultado numa variável de nome `b`."
      ]
    },
    {
      "cell_type": "code",
      "metadata": {
        "id": "wdtkTDX9vUdU"
      },
      "source": [
        "a = [1, 2, 3]\n",
        "\n",
        "# Escreva seu código abaixo\n",
        "\n",
        "b = a*5"
      ],
      "execution_count": null,
      "outputs": []
    },
    {
      "cell_type": "code",
      "metadata": {
        "id": "suBMZunAx_vH",
        "colab": {
          "base_uri": "https://localhost:8080/",
          "height": 46
        },
        "outputId": "699260bd-54e2-48a1-df90-0d1686bea048"
      },
      "source": [
        "ok.check('e01_2.py')"
      ],
      "execution_count": null,
      "outputs": [
        {
          "output_type": "execute_result",
          "data": {
            "text/html": [
              "\n",
              "    \n",
              "    \n",
              "        <p>All tests passed!</p>\n",
              "    \n",
              "    "
            ],
            "text/plain": [
              "<gofer.ok.OKTestsResult at 0x7f971c608fd0>"
            ]
          },
          "metadata": {},
          "execution_count": 6
        }
      ]
    },
    {
      "cell_type": "markdown",
      "metadata": {
        "id": "1pxt4NzrzCvN"
      },
      "source": [
        "##3\n",
        "\n",
        "Crie uma matriz usando `array` do NumPy, com $100$ linhas (numeradas de $0$ a $99$) e $5$ colunas (numeradas de $0$ a $4$), onde cada elemento da linha $i$ e coluna $j$ é o resultado da multiplicação $i*j$ (onde $i$ e $j$ são inteiros). Grave o resultado na variável `c`."
      ]
    },
    {
      "cell_type": "code",
      "metadata": {
        "id": "mT9nbqw1zCRT"
      },
      "source": [
        "# Seu código aqui\n",
        "\n",
        "import numpy as np\n",
        "c = np.array([np.arange(5)*j for j in range(100)])"
      ],
      "execution_count": null,
      "outputs": []
    },
    {
      "cell_type": "code",
      "metadata": {
        "id": "xxnQR3gG4Ecl",
        "colab": {
          "base_uri": "https://localhost:8080/",
          "height": 46
        },
        "outputId": "f9f565b9-cc86-495a-e353-f9b23b168afa"
      },
      "source": [
        "ok.check('e01_3.py')"
      ],
      "execution_count": null,
      "outputs": [
        {
          "output_type": "execute_result",
          "data": {
            "text/html": [
              "\n",
              "    \n",
              "    \n",
              "        <p>All tests passed!</p>\n",
              "    \n",
              "    "
            ],
            "text/plain": [
              "<gofer.ok.OKTestsResult at 0x7f9723e6a110>"
            ]
          },
          "metadata": {},
          "execution_count": 8
        }
      ]
    },
    {
      "cell_type": "markdown",
      "metadata": {
        "id": "-oVA5xfG6EwQ"
      },
      "source": [
        "## 4\n",
        "\n",
        "Faça um gráfico da função `y = 1.0 / (1.0 + np.exp(-x))` para $100$ valores de `x` distribuídos no intervalo entre $-5$ e $+5$. Seguindo o exemplo do vídeo, use linspsace do numpy, e a função plot do pyplot, submódulo do matplotlib. Salve a imagem para fazer upload no formulário de entrega desse exercício.\n"
      ]
    },
    {
      "cell_type": "code",
      "metadata": {
        "id": "s7LODpe16ZUH",
        "colab": {
          "base_uri": "https://localhost:8080/",
          "height": 265
        },
        "outputId": "b975d069-5603-433c-94fd-5dfe2c47396c"
      },
      "source": [
        "# Seu código aqui\n",
        "\n",
        "import matplotlib.pyplot as plt\n",
        "\n",
        "fig = plt.figure()\n",
        "ax = fig.add_subplot(1, 1, 1)\n",
        "ax.spines['left'].set_position('center')\n",
        "ax.spines['bottom'].set_position('center')\n",
        "ax.spines['right'].set_color('none')\n",
        "ax.spines['top'].set_color('none')\n",
        "ax.xaxis.set_ticks_position('bottom')\n",
        "ax.yaxis.set_ticks_position('left')\n",
        "\n",
        "x = np.linspace(-5,5,100)\n",
        "y = 1.0 / (1.0 + np.exp(-x))\n",
        "\n",
        "plt.plot(x,y, 'g')"
      ],
      "execution_count": null,
      "outputs": [
        {
          "output_type": "execute_result",
          "data": {
            "text/plain": [
              "[<matplotlib.lines.Line2D at 0x7f971c608810>]"
            ]
          },
          "metadata": {},
          "execution_count": 9
        },
        {
          "output_type": "display_data",
          "data": {
            "image/png": "[encoded data removed]",
            "text/plain": [
              "<Figure size 432x288 with 1 Axes>"
            ]
          },
          "metadata": {
            "needs_background": "light"
          }
        }
      ]
    },
    {
      "cell_type": "markdown",
      "metadata": {
        "id": "6iBiZeWg7lXd"
      },
      "source": [
        "# Parte 2 - Orientação a Objetos"
      ]
    },
    {
      "cell_type": "code",
      "metadata": {
        "id": "r7NCvQK-7J5c",
        "colab": {
          "base_uri": "https://localhost:8080/",
          "height": 321
        },
        "outputId": "00c0e645-8137-4852-9183-ffb35d1319a6"
      },
      "source": [
        "YouTubeVideo('TP1aAmGojPg')"
      ],
      "execution_count": null,
      "outputs": [
        {
          "output_type": "execute_result",
          "data": {
            "text/html": [
              "\n",
              "        <iframe\n",
              "            width=\"400\"\n",
              "            height=\"300\"\n",
              "            src=\"https://www.youtube.com/embed/TP1aAmGojPg\"\n",
              "            frameborder=\"0\"\n",
              "            allowfullscreen\n",
              "        ></iframe>\n",
              "        "
            ],
            "text/plain": [
              "<IPython.lib.display.YouTubeVideo at 0x7f350a7a51d0>"
            ],
            "image/jpeg": "[encoded data removed]"
          },
          "metadata": {},
          "execution_count": 46
        }
      ]
    },
    {
      "cell_type": "markdown",
      "metadata": {
        "id": "nKyjsxI-775f"
      },
      "source": [
        "##5\n",
        "\n",
        "Implemente o código das classes `Quadrado` e `Triangulo` como mostrado no vídeo."
      ]
    },
    {
      "cell_type": "code",
      "metadata": {
        "id": "dnmIlMvM77P8"
      },
      "source": [
        "# Escreva seu código aqui\n",
        "\n",
        "class Quadrado:\n",
        "  lado = 0\n",
        "  def __init__(self,l):\n",
        "    self.lado = l\n",
        "  def area(self):\n",
        "    return self.lado**2\n",
        "\n",
        "class Triangulo:\n",
        "  base = 0\n",
        "  altura = 0\n",
        "  def __init__(self,b,h):\n",
        "    self.base = b\n",
        "    self.altura = h\n",
        "  def area(self):\n",
        "    return self.base*self.altura/2.0"
      ],
      "execution_count": null,
      "outputs": []
    },
    {
      "cell_type": "code",
      "metadata": {
        "id": "aADwXuQHozDy",
        "colab": {
          "base_uri": "https://localhost:8080/",
          "height": 46
        },
        "outputId": "a774c3da-9215-45ca-c3af-f3ee551605cd"
      },
      "source": [
        "ok.check('e01_5.py')"
      ],
      "execution_count": null,
      "outputs": [
        {
          "output_type": "execute_result",
          "data": {
            "text/html": [
              "\n",
              "    \n",
              "    \n",
              "        <p>All tests passed!</p>\n",
              "    \n",
              "    "
            ],
            "text/plain": [
              "<gofer.ok.OKTestsResult at 0x7f971c55c210>"
            ]
          },
          "metadata": {},
          "execution_count": 11
        }
      ]
    },
    {
      "cell_type": "markdown",
      "metadata": {
        "id": "zFsVK1rG791c"
      },
      "source": [
        "## 6\n",
        "\n",
        "No mesmo código acrescente também o código da classe `Circulo`, recebendo o parâmetro `raio` no construtor definindo sua propriedade `raio` e método `area()`. Siga o exemplo das classes `Quadrado` e `Triangulo` modificando apenas onde for necessário.\n"
      ]
    },
    {
      "cell_type": "code",
      "metadata": {
        "id": "l8MkwVpv8CT1"
      },
      "source": [
        "# Escreva seu código aqui\n",
        "\n",
        "class Circulo:\n",
        "  raio = 0\n",
        "  def __init__(self,r):\n",
        "    self.raio = r\n",
        "  def area(self):\n",
        "    return self.raio**2*np.pi"
      ],
      "execution_count": null,
      "outputs": []
    },
    {
      "cell_type": "code",
      "metadata": {
        "id": "rWtHNS-4c91w",
        "colab": {
          "base_uri": "https://localhost:8080/",
          "height": 46
        },
        "outputId": "6172b4a7-ceb6-49c2-e96d-ab93ec08e2c3"
      },
      "source": [
        "ok.check('e01_6.py')"
      ],
      "execution_count": null,
      "outputs": [
        {
          "output_type": "execute_result",
          "data": {
            "text/html": [
              "\n",
              "    \n",
              "    \n",
              "        <p>All tests passed!</p>\n",
              "    \n",
              "    "
            ],
            "text/plain": [
              "<gofer.ok.OKTestsResult at 0x7f971c542550>"
            ]
          },
          "metadata": {},
          "execution_count": 13
        }
      ]
    },
    {
      "cell_type": "markdown",
      "metadata": {
        "id": "EYdTM5Bud3q_"
      },
      "source": [
        "## 7\n",
        "\n",
        "Utilizando as classes acima, crie uma lista com $20$ objetos de cada classe (total de $60$ objetos), todos com propriedades, tais como `lado`, `base`, `altura` e `raio` aleatórias, todas com valores sorteados no intervalo entre `1` e `10`. Para fazer isso, utilize laço `for` (criando $20$ objetos de cada classe) e para criar as propriedades aleatórias use a função `randint(1,10)` do submódulo `random` do `numpy` (por exemplo, use `from numpy.random import randint` no início do código). Coloque todos objetos em uma única lista (não faça uma lista de listas, mas sim uma única lista, que vai sendo preenchida em cada laço com os $60$ objetos). O nome da variável que deve conter essa lista final deve ser `objs`.\n"
      ]
    },
    {
      "cell_type": "code",
      "metadata": {
        "id": "9SxgVRR-fcoK"
      },
      "source": [
        "# Seu código aqui\n",
        "from numpy.random import randint\n",
        "objs = []\n",
        "for obj in range(20):\n",
        "  objs.append(Quadrado(randint(1,10)))\n",
        "  objs.append(Triangulo(randint(1,10),randint(1,10)))\n",
        "  objs.append(Circulo(randint(1,10)))\n"
      ],
      "execution_count": null,
      "outputs": []
    },
    {
      "cell_type": "code",
      "metadata": {
        "id": "LyFHcLlkgZgt",
        "colab": {
          "base_uri": "https://localhost:8080/",
          "height": 46
        },
        "outputId": "c515194b-9065-4957-eaf6-9a52157ebb3e"
      },
      "source": [
        "ok.check('e01_7.py')"
      ],
      "execution_count": null,
      "outputs": [
        {
          "output_type": "execute_result",
          "data": {
            "text/html": [
              "\n",
              "    \n",
              "    \n",
              "        <p>All tests passed!</p>\n",
              "    \n",
              "    "
            ],
            "text/plain": [
              "<gofer.ok.OKTestsResult at 0x7f9717f247d0>"
            ]
          },
          "metadata": {},
          "execution_count": 43
        }
      ]
    },
    {
      "cell_type": "markdown",
      "metadata": {
        "id": "5kCoNfZslgtG"
      },
      "source": [
        "## 8\n",
        "Use a função `shuffle()` para embaralhar a ordem dos elementos na lista. A função `shuffle` também está no submódulo `random` do módulo `numpy`, ou seja, precisa ser importada.\n",
        "\n",
        "Após tudo isso calcule a soma total de todas as áreas desses objetos que estão contidos na lista, e mostre o resultado.\n",
        "\n",
        "Salve a área total numa variável de nome `soma`"
      ]
    },
    {
      "cell_type": "code",
      "metadata": {
        "id": "g6Z3nBPZl88h"
      },
      "source": [
        "# Seu código aqui\n",
        "from numpy.random import shuffle\n",
        "shuffle(objs)\n",
        "soma = np.sum([obj.area() for obj in objs])"
      ],
      "execution_count": null,
      "outputs": []
    },
    {
      "cell_type": "code",
      "metadata": {
        "id": "SDygbVVOmGZj",
        "colab": {
          "base_uri": "https://localhost:8080/",
          "height": 46
        },
        "outputId": "f7b478d3-2e99-4a73-93b5-c9b09d883394"
      },
      "source": [
        "ok.check('e01_8.py')"
      ],
      "execution_count": null,
      "outputs": [
        {
          "output_type": "execute_result",
          "data": {
            "text/html": [
              "\n",
              "    \n",
              "    \n",
              "        <p>All tests passed!</p>\n",
              "    \n",
              "    "
            ],
            "text/plain": [
              "<gofer.ok.OKTestsResult at 0x7f971d475a90>"
            ]
          },
          "metadata": {},
          "execution_count": 48
        }
      ]
    }
  ]
}