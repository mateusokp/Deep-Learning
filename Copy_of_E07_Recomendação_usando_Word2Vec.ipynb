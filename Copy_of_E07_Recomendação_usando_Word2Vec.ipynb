{
  "nbformat": 4,
  "nbformat_minor": 0,
  "metadata": {
    "colab": {
      "name": "Copy of E07 Recomendação usando Word2Vec.ipynb",
      "provenance": [],
      "collapsed_sections": [],
      "include_colab_link": true
    },
    "kernelspec": {
      "name": "python3",
      "display_name": "Python 3"
    }
  },
  "cells": [
    {
      "cell_type": "markdown",
      "metadata": {
        "id": "view-in-github",
        "colab_type": "text"
      },
      "source": [
        "<a href=\"https://colab.research.google.com/github/mateusokp/Deep-Learning/blob/main/Copy_of_E07_Recomenda%C3%A7%C3%A3o_usando_Word2Vec.ipynb\" target=\"_parent\"><img src=\"https://colab.research.google.com/assets/colab-badge.svg\" alt=\"Open In Colab\"/></a>"
      ]
    },
    {
      "cell_type": "markdown",
      "metadata": {
        "id": "xJReOFtyGFSs"
      },
      "source": [
        "# E07 Sistema de Recomendação usando Word2Vec\n",
        "\n",
        "Neste exercício você irá desenvolver um sistema de recomendação usando _embeddings_ criados com Word2Vec. A partir de uma base de dados de _e-commerce_ onde estão registradas as compras de um site de vendas pela internet, vamos avaliar quais mercadorias foram compradas juntamente a quais outras mercadorias. O pressuposto aqui é que quando o cliente realiza uma compra online, ele possui um interesse temático em mente e acaba comprando itens que se correlacionam de alguma forma. Ainda que em alguns casos possam ser incluídos itens menos relacionados, em sua vasta maioria assumimos que as compras seguem algum tipo de correlação entre si. Por exemplo, um cliente pode estar fazendo compras para organizar uma festa infantil ou uma viagem, e de acordo com esse interesse, acaba comprando itens relacionados a essas atividades.\n",
        "\n",
        "Sendo assim, neste exercício, nosso interesse estará em tentar criar um embedding usando o algoritmo Word2Vec, usando como contexto de vizinhança a sequência de produtos comprados por um mesmo cliente em uma específica nota fiscal. Cada ordem de compra (carrinho de compras) vai conter uma lista de produtos, e os códigos de identificação destes produtos serão nossas \"palavras\", sendo que a sequência de produtos comprados formam as \"frases\" para nosso treinamento.\n",
        "\n",
        "Como neste exercício usaremos a biblioteca _gensim_, você perceberá que a parte mais trabalhosa do exercício estará na preparação dos dados, já que a ferramenta que cria o _embedding_ já estará pronta para uso. Então nesse exercício, você ficara encarregado da preparação dos dados.\n",
        "\n",
        "Para resolver o exercício, siga os passos, lendo as instruções e comentários, um a um, e preenchendo código onde for requisitado."
      ]
    },
    {
      "cell_type": "markdown",
      "metadata": {
        "id": "KEHafkstxrSx"
      },
      "source": [
        "## Passo 1: Baixar Dados\n",
        "\n",
        "Aqui usaremos uma planilha do Microsoft Excel com dados de compras de usuários em um sistema de varejo. O nome do arquivo é `retail.xlsx`."
      ]
    },
    {
      "cell_type": "code",
      "metadata": {
        "id": "y9J6QmO3xJ3t",
        "colab": {
          "base_uri": "https://localhost:8080/"
        },
        "outputId": "ad4b77a6-0bd7-4b4e-8a93-b49d61751baf"
      },
      "source": [
        "# O comando abaixo baixa o arquivo correspondente a essa planilha\n",
        "# do Excel para o computador remoto do Google Colab.\n",
        "\n",
        "!gdown https://drive.google.com/uc?id=1NK-2z0l-qTplDJJ2SHpTVBGRP3zWAK-n"
      ],
      "execution_count": null,
      "outputs": [
        {
          "output_type": "stream",
          "name": "stdout",
          "text": [
            "Downloading...\n",
            "From: https://drive.google.com/uc?id=1NK-2z0l-qTplDJJ2SHpTVBGRP3zWAK-n\n",
            "To: /content/retail.xlsx\n",
            "100% 23.7M/23.7M [00:00<00:00, 89.3MB/s]\n"
          ]
        }
      ]
    },
    {
      "cell_type": "markdown",
      "metadata": {
        "id": "XFZELJRCyLut"
      },
      "source": [
        "Usaremos a biblioteca `pandas` para fazer a leitura dos dados"
      ]
    },
    {
      "cell_type": "code",
      "metadata": {
        "id": "A_HXamB_yLIi"
      },
      "source": [
        "import pandas as pd"
      ],
      "execution_count": null,
      "outputs": []
    },
    {
      "cell_type": "markdown",
      "metadata": {
        "id": "qQqCAb-3yZRN"
      },
      "source": [
        "Aqui fazemos a leitura dos dados para um objeto `DataFrame` do `pandas`."
      ]
    },
    {
      "cell_type": "code",
      "metadata": {
        "id": "33NLQ2NgyciL"
      },
      "source": [
        "# Esta linha de código pode demorar cerca de 1 min para rodar\n",
        "df = pd.read_excel('retail.xlsx')"
      ],
      "execution_count": null,
      "outputs": []
    },
    {
      "cell_type": "markdown",
      "metadata": {
        "id": "0FLMkSqUyrWa"
      },
      "source": [
        "Agora podemos observar os dados para entender como estão organizados."
      ]
    },
    {
      "cell_type": "code",
      "metadata": {
        "id": "TE4oGyTqyqdT",
        "colab": {
          "base_uri": "https://localhost:8080/",
          "height": 423
        },
        "outputId": "4315fb23-7c56-4f31-ee2f-38db2ed7e2a0"
      },
      "source": [
        "df"
      ],
      "execution_count": null,
      "outputs": [
        {
          "output_type": "execute_result",
          "data": {
            "text/html": [
              "\n",
              "  <div id=\"df-6a6f26e4-b519-4fe9-aa82-a2a97e665356\">\n",
              "    <div class=\"colab-df-container\">\n",
              "      <div>\n",
              "<style scoped>\n",
              "    .dataframe tbody tr th:only-of-type {\n",
              "        vertical-align: middle;\n",
              "    }\n",
              "\n",
              "    .dataframe tbody tr th {\n",
              "        vertical-align: top;\n",
              "    }\n",
              "\n",
              "    .dataframe thead th {\n",
              "        text-align: right;\n",
              "    }\n",
              "</style>\n",
              "<table border=\"1\" class=\"dataframe\">\n",
              "  <thead>\n",
              "    <tr style=\"text-align: right;\">\n",
              "      <th></th>\n",
              "      <th>InvoiceNo</th>\n",
              "      <th>StockCode</th>\n",
              "      <th>Description</th>\n",
              "      <th>Quantity</th>\n",
              "      <th>InvoiceDate</th>\n",
              "      <th>UnitPrice</th>\n",
              "      <th>CustomerID</th>\n",
              "      <th>Country</th>\n",
              "    </tr>\n",
              "  </thead>\n",
              "  <tbody>\n",
              "    <tr>\n",
              "      <th>0</th>\n",
              "      <td>536365</td>\n",
              "      <td>85123A</td>\n",
              "      <td>WHITE HANGING HEART T-LIGHT HOLDER</td>\n",
              "      <td>6</td>\n",
              "      <td>2010-12-01 08:26:00</td>\n",
              "      <td>2.55</td>\n",
              "      <td>17850.0</td>\n",
              "      <td>United Kingdom</td>\n",
              "    </tr>\n",
              "    <tr>\n",
              "      <th>1</th>\n",
              "      <td>536365</td>\n",
              "      <td>71053</td>\n",
              "      <td>WHITE METAL LANTERN</td>\n",
              "      <td>6</td>\n",
              "      <td>2010-12-01 08:26:00</td>\n",
              "      <td>3.39</td>\n",
              "      <td>17850.0</td>\n",
              "      <td>United Kingdom</td>\n",
              "    </tr>\n",
              "    <tr>\n",
              "      <th>2</th>\n",
              "      <td>536365</td>\n",
              "      <td>84406B</td>\n",
              "      <td>CREAM CUPID HEARTS COAT HANGER</td>\n",
              "      <td>8</td>\n",
              "      <td>2010-12-01 08:26:00</td>\n",
              "      <td>2.75</td>\n",
              "      <td>17850.0</td>\n",
              "      <td>United Kingdom</td>\n",
              "    </tr>\n",
              "    <tr>\n",
              "      <th>3</th>\n",
              "      <td>536365</td>\n",
              "      <td>84029G</td>\n",
              "      <td>KNITTED UNION FLAG HOT WATER BOTTLE</td>\n",
              "      <td>6</td>\n",
              "      <td>2010-12-01 08:26:00</td>\n",
              "      <td>3.39</td>\n",
              "      <td>17850.0</td>\n",
              "      <td>United Kingdom</td>\n",
              "    </tr>\n",
              "    <tr>\n",
              "      <th>4</th>\n",
              "      <td>536365</td>\n",
              "      <td>84029E</td>\n",
              "      <td>RED WOOLLY HOTTIE WHITE HEART.</td>\n",
              "      <td>6</td>\n",
              "      <td>2010-12-01 08:26:00</td>\n",
              "      <td>3.39</td>\n",
              "      <td>17850.0</td>\n",
              "      <td>United Kingdom</td>\n",
              "    </tr>\n",
              "    <tr>\n",
              "      <th>...</th>\n",
              "      <td>...</td>\n",
              "      <td>...</td>\n",
              "      <td>...</td>\n",
              "      <td>...</td>\n",
              "      <td>...</td>\n",
              "      <td>...</td>\n",
              "      <td>...</td>\n",
              "      <td>...</td>\n",
              "    </tr>\n",
              "    <tr>\n",
              "      <th>541904</th>\n",
              "      <td>581587</td>\n",
              "      <td>22613</td>\n",
              "      <td>PACK OF 20 SPACEBOY NAPKINS</td>\n",
              "      <td>12</td>\n",
              "      <td>2011-12-09 12:50:00</td>\n",
              "      <td>0.85</td>\n",
              "      <td>12680.0</td>\n",
              "      <td>France</td>\n",
              "    </tr>\n",
              "    <tr>\n",
              "      <th>541905</th>\n",
              "      <td>581587</td>\n",
              "      <td>22899</td>\n",
              "      <td>CHILDREN'S APRON DOLLY GIRL</td>\n",
              "      <td>6</td>\n",
              "      <td>2011-12-09 12:50:00</td>\n",
              "      <td>2.10</td>\n",
              "      <td>12680.0</td>\n",
              "      <td>France</td>\n",
              "    </tr>\n",
              "    <tr>\n",
              "      <th>541906</th>\n",
              "      <td>581587</td>\n",
              "      <td>23254</td>\n",
              "      <td>CHILDRENS CUTLERY DOLLY GIRL</td>\n",
              "      <td>4</td>\n",
              "      <td>2011-12-09 12:50:00</td>\n",
              "      <td>4.15</td>\n",
              "      <td>12680.0</td>\n",
              "      <td>France</td>\n",
              "    </tr>\n",
              "    <tr>\n",
              "      <th>541907</th>\n",
              "      <td>581587</td>\n",
              "      <td>23255</td>\n",
              "      <td>CHILDRENS CUTLERY CIRCUS PARADE</td>\n",
              "      <td>4</td>\n",
              "      <td>2011-12-09 12:50:00</td>\n",
              "      <td>4.15</td>\n",
              "      <td>12680.0</td>\n",
              "      <td>France</td>\n",
              "    </tr>\n",
              "    <tr>\n",
              "      <th>541908</th>\n",
              "      <td>581587</td>\n",
              "      <td>22138</td>\n",
              "      <td>BAKING SET 9 PIECE RETROSPOT</td>\n",
              "      <td>3</td>\n",
              "      <td>2011-12-09 12:50:00</td>\n",
              "      <td>4.95</td>\n",
              "      <td>12680.0</td>\n",
              "      <td>France</td>\n",
              "    </tr>\n",
              "  </tbody>\n",
              "</table>\n",
              "<p>541909 rows × 8 columns</p>\n",
              "</div>\n",
              "      <button class=\"colab-df-convert\" onclick=\"convertToInteractive('df-6a6f26e4-b519-4fe9-aa82-a2a97e665356')\"\n",
              "              title=\"Convert this dataframe to an interactive table.\"\n",
              "              style=\"display:none;\">\n",
              "        \n",
              "  <svg xmlns=\"http://www.w3.org/2000/svg\" height=\"24px\"viewBox=\"0 0 24 24\"\n",
              "       width=\"24px\">\n",
              "    <path d=\"M0 0h24v24H0V0z\" fill=\"none\"/>\n",
              "    <path d=\"M18.56 5.44l.94 2.06.94-2.06 2.06-.94-2.06-.94-.94-2.06-.94 2.06-2.06.94zm-11 1L8.5 8.5l.94-2.06 2.06-.94-2.06-.94L8.5 2.5l-.94 2.06-2.06.94zm10 10l.94 2.06.94-2.06 2.06-.94-2.06-.94-.94-2.06-.94 2.06-2.06.94z\"/><path d=\"M17.41 7.96l-1.37-1.37c-.4-.4-.92-.59-1.43-.59-.52 0-1.04.2-1.43.59L10.3 9.45l-7.72 7.72c-.78.78-.78 2.05 0 2.83L4 21.41c.39.39.9.59 1.41.59.51 0 1.02-.2 1.41-.59l7.78-7.78 2.81-2.81c.8-.78.8-2.07 0-2.86zM5.41 20L4 18.59l7.72-7.72 1.47 1.35L5.41 20z\"/>\n",
              "  </svg>\n",
              "      </button>\n",
              "      \n",
              "  <style>\n",
              "    .colab-df-container {\n",
              "      display:flex;\n",
              "      flex-wrap:wrap;\n",
              "      gap: 12px;\n",
              "    }\n",
              "\n",
              "    .colab-df-convert {\n",
              "      background-color: #E8F0FE;\n",
              "      border: none;\n",
              "      border-radius: 50%;\n",
              "      cursor: pointer;\n",
              "      display: none;\n",
              "      fill: #1967D2;\n",
              "      height: 32px;\n",
              "      padding: 0 0 0 0;\n",
              "      width: 32px;\n",
              "    }\n",
              "\n",
              "    .colab-df-convert:hover {\n",
              "      background-color: #E2EBFA;\n",
              "      box-shadow: 0px 1px 2px rgba(60, 64, 67, 0.3), 0px 1px 3px 1px rgba(60, 64, 67, 0.15);\n",
              "      fill: #174EA6;\n",
              "    }\n",
              "\n",
              "    [theme=dark] .colab-df-convert {\n",
              "      background-color: #3B4455;\n",
              "      fill: #D2E3FC;\n",
              "    }\n",
              "\n",
              "    [theme=dark] .colab-df-convert:hover {\n",
              "      background-color: #434B5C;\n",
              "      box-shadow: 0px 1px 3px 1px rgba(0, 0, 0, 0.15);\n",
              "      filter: drop-shadow(0px 1px 2px rgba(0, 0, 0, 0.3));\n",
              "      fill: #FFFFFF;\n",
              "    }\n",
              "  </style>\n",
              "\n",
              "      <script>\n",
              "        const buttonEl =\n",
              "          document.querySelector('#df-6a6f26e4-b519-4fe9-aa82-a2a97e665356 button.colab-df-convert');\n",
              "        buttonEl.style.display =\n",
              "          google.colab.kernel.accessAllowed ? 'block' : 'none';\n",
              "\n",
              "        async function convertToInteractive(key) {\n",
              "          const element = document.querySelector('#df-6a6f26e4-b519-4fe9-aa82-a2a97e665356');\n",
              "          const dataTable =\n",
              "            await google.colab.kernel.invokeFunction('convertToInteractive',\n",
              "                                                     [key], {});\n",
              "          if (!dataTable) return;\n",
              "\n",
              "          const docLinkHtml = 'Like what you see? Visit the ' +\n",
              "            '<a target=\"_blank\" href=https://colab.research.google.com/notebooks/data_table.ipynb>data table notebook</a>'\n",
              "            + ' to learn more about interactive tables.';\n",
              "          element.innerHTML = '';\n",
              "          dataTable['output_type'] = 'display_data';\n",
              "          await google.colab.output.renderOutput(dataTable, element);\n",
              "          const docLink = document.createElement('div');\n",
              "          docLink.innerHTML = docLinkHtml;\n",
              "          element.appendChild(docLink);\n",
              "        }\n",
              "      </script>\n",
              "    </div>\n",
              "  </div>\n",
              "  "
            ],
            "text/plain": [
              "       InvoiceNo StockCode  ... CustomerID         Country\n",
              "0         536365    85123A  ...    17850.0  United Kingdom\n",
              "1         536365     71053  ...    17850.0  United Kingdom\n",
              "2         536365    84406B  ...    17850.0  United Kingdom\n",
              "3         536365    84029G  ...    17850.0  United Kingdom\n",
              "4         536365    84029E  ...    17850.0  United Kingdom\n",
              "...          ...       ...  ...        ...             ...\n",
              "541904    581587     22613  ...    12680.0          France\n",
              "541905    581587     22899  ...    12680.0          France\n",
              "541906    581587     23254  ...    12680.0          France\n",
              "541907    581587     23255  ...    12680.0          France\n",
              "541908    581587     22138  ...    12680.0          France\n",
              "\n",
              "[541909 rows x 8 columns]"
            ]
          },
          "metadata": {},
          "execution_count": 4
        }
      ]
    },
    {
      "cell_type": "markdown",
      "metadata": {
        "id": "HChM_88szGTN"
      },
      "source": [
        "A tabela acima mostra a estrutura da planilha. Podemos observar os campos:\n",
        "\n",
        "- **InvoiceNo**: Este é um identificador único para cada compra.\n",
        "- **StockCode**: Identificador único para cada produto.\n",
        "- **Description**: Descrição do produto.\n",
        "- **Quantidade**: Quantidade daquele produto, naquela compra.\n",
        "- **InvoiceDate**: Dia e hora da compra.\n",
        "- **CustomerID**: Identificador único do cliente."
      ]
    },
    {
      "cell_type": "code",
      "metadata": {
        "id": "oN-jtPHe0VKz",
        "colab": {
          "base_uri": "https://localhost:8080/"
        },
        "outputId": "e5f587a8-4c68-4463-c8cd-fc54f1803907"
      },
      "source": [
        "df.shape"
      ],
      "execution_count": null,
      "outputs": [
        {
          "output_type": "execute_result",
          "data": {
            "text/plain": [
              "(541909, 8)"
            ]
          },
          "metadata": {},
          "execution_count": 5
        }
      ]
    },
    {
      "cell_type": "markdown",
      "metadata": {
        "id": "TfS_FBWK0Y_Y"
      },
      "source": [
        "Acima vemos que essa base de dados possui 541.909 registros. Cada registro representa uma linha, ou seja, um produto comprado (cuja quantidade pode ser maior que 1). Diferentes linhas podem representar diferentes itens de uma mesma compra."
      ]
    },
    {
      "cell_type": "markdown",
      "metadata": {
        "id": "zwgPe3f90tSw"
      },
      "source": [
        "## Passo 2: Remoção de Dados Nulos\n",
        "\n",
        "Neste passo vamos remover da base de dados os dados relativos a compras de produtos onde algum dos dados de interesse estejam faltando."
      ]
    },
    {
      "cell_type": "markdown",
      "metadata": {
        "id": "AeSIJZ9x1Cuv"
      },
      "source": [
        "Começamos observando a quantidade de dados nulos"
      ]
    },
    {
      "cell_type": "code",
      "metadata": {
        "id": "jJmozJlf1Aze",
        "colab": {
          "base_uri": "https://localhost:8080/"
        },
        "outputId": "c2d9dd07-31c8-4d68-e017-09da6d4e77da"
      },
      "source": [
        "df.isnull().sum()"
      ],
      "execution_count": null,
      "outputs": [
        {
          "output_type": "execute_result",
          "data": {
            "text/plain": [
              "InvoiceNo           0\n",
              "StockCode           0\n",
              "Description      1454\n",
              "Quantity            0\n",
              "InvoiceDate         0\n",
              "UnitPrice           0\n",
              "CustomerID     135080\n",
              "Country             0\n",
              "dtype: int64"
            ]
          },
          "metadata": {},
          "execution_count": 6
        }
      ]
    },
    {
      "cell_type": "markdown",
      "metadata": {
        "id": "KWgIGnJL1M9b"
      },
      "source": [
        "Acima podemos observar há 1.454 registros sem a descrição do produto, e 135.080 registros sem a identificação do cliente comprador."
      ]
    },
    {
      "cell_type": "markdown",
      "metadata": {
        "id": "H7RR0IK82HuT"
      },
      "source": [
        "No código abaixo você deve remover todos os registros onde aparece pelo menos um dos campos nulos. Para entender como fazer isso, veja esse trecho da videoaula sobre pandas (especificamente a partir de 19m41s no vídeo, até mais ou menos 21m).\n",
        "\n"
      ]
    },
    {
      "cell_type": "code",
      "metadata": {
        "id": "-77dPKr1Wcz3",
        "outputId": "d213a42b-dce6-4c75-812b-b69d867f6bc8",
        "colab": {
          "base_uri": "https://localhost:8080/",
          "height": 322
        }
      },
      "source": [
        "from IPython.display import YouTubeVideo\n",
        "YouTubeVideo('usmbTUx9zdY', start=1181)"
      ],
      "execution_count": null,
      "outputs": [
        {
          "output_type": "execute_result",
          "data": {
            "text/html": [
              "\n",
              "        <iframe\n",
              "            width=\"400\"\n",
              "            height=\"300\"\n",
              "            src=\"https://www.youtube.com/embed/usmbTUx9zdY?start=1181\"\n",
              "            frameborder=\"0\"\n",
              "            allowfullscreen\n",
              "        ></iframe>\n",
              "        "
            ],
            "text/plain": [
              "<IPython.lib.display.YouTubeVideo at 0x7f3a210ffb90>"
            ],
            "image/jpeg": "[encoded data removed]"
          },
          "metadata": {},
          "execution_count": 7
        }
      ]
    },
    {
      "cell_type": "code",
      "metadata": {
        "id": "1ZrVo84f2OmJ"
      },
      "source": [
        "# Insira aqui seu código para remover os dados nulos.\n",
        "# Ao final do código, a variável df deve ser um DataFrame\n",
        "# do pandas contendo apenas os registros onde nenhuma\n",
        "# coluna é nula. O resultado deve ser sobrescrito na\n",
        "# na própria variável df. Há duas formas de fazer isso\n",
        "# no pandas\n",
        "#\n",
        "#  Opção 1 Usando inplace: df.função(argumentos, inplace=True)\n",
        "#  Opção 2 Usando atribuição: df = df.função(argumentos)\n",
        "df.dropna(inplace=True)\n",
        "# SEU CÓDIGO AQUI!"
      ],
      "execution_count": null,
      "outputs": []
    },
    {
      "cell_type": "code",
      "metadata": {
        "id": "pJL2FDvJVOF1",
        "colab": {
          "base_uri": "https://localhost:8080/"
        },
        "outputId": "5ae83bc9-2468-4521-82d5-8d385e12961a"
      },
      "source": [
        "# Verifica novamente. Dessa vez os valores\n",
        "# da soma devem estar zerados para todas\n",
        "# colunas.\n",
        "\n",
        "df.isnull().sum()"
      ],
      "execution_count": null,
      "outputs": [
        {
          "output_type": "execute_result",
          "data": {
            "text/plain": [
              "InvoiceNo      0\n",
              "StockCode      0\n",
              "Description    0\n",
              "Quantity       0\n",
              "InvoiceDate    0\n",
              "UnitPrice      0\n",
              "CustomerID     0\n",
              "Country        0\n",
              "dtype: int64"
            ]
          },
          "metadata": {},
          "execution_count": 9
        }
      ]
    },
    {
      "cell_type": "markdown",
      "metadata": {
        "id": "nlj5sCY7SNs8"
      },
      "source": [
        "## Passo 3: Dicionário de Produtos"
      ]
    },
    {
      "cell_type": "markdown",
      "metadata": {
        "id": "xd7p7gROY2Dq"
      },
      "source": [
        "Agora vamos preparar um dicionário de códigos e respectivas descrições dos produtos. Esse dicionário servirá para que nós, humanos, possamos inspecionar o resultado de nossas operações no _embedding_, já que o _embedding_ vai ser treinado com base nos códigos dos produtos. Como os códigos não permitem inspeção intuitiva da natureza de cada produto, vamos precisar desse dicionário para entender qual é a descrição do produto correspondente a cada código."
      ]
    },
    {
      "cell_type": "markdown",
      "metadata": {
        "id": "CVIvmK9v3O96"
      },
      "source": [
        "### Passo 3.1: Conversão dos Códigos para Strings\n",
        "\n",
        "Começamos convertendo os códigos de produto (coluna **StockCode**) para string, para usar como \"palavras\" no treinamento de um modelo word2vec no `gensim` mais tarde.\n",
        "\n",
        "Para fazer isso você pode usar o método `.astype(tipo)` do pandas. Com esse comando, você consegue converter uma coluna específica do DataFrame para o tipo de dado que quiser. Por exemplo, se tivéssemos um DataFrame `d` com uma coluna chamada `idade` no formato `int` e se quiséssemos converter para o formato `float`, bastaria executar o comando:\n",
        "\n",
        "`# Converte idade para float`\n",
        "\n",
        "`d['idade'] = d['idade'].astype(float)`\n",
        "\n",
        "No nosso caso, queremos transformar o campo `StockCode` do DataFrame `df` para o formato string (`str`). Após a alteração, os elementos da coluna `StockCode` de `df` deverão ser strings.\n"
      ]
    },
    {
      "cell_type": "code",
      "metadata": {
        "id": "Wvr77qNr2yKh"
      },
      "source": [
        "# Escreva abaixo seu código para converter os códigos\n",
        "# de produtos (campo 'StockCode') para o formato string\n",
        "# no DataFrame df.\n",
        "df['StockCode'] = df['StockCode'].astype(str)\n",
        "# SEU CÓDIGO AQUI!"
      ],
      "execution_count": null,
      "outputs": []
    },
    {
      "cell_type": "markdown",
      "metadata": {
        "id": "0HLn63a1TYfX"
      },
      "source": [
        "### Passo 3.2\n",
        "\n",
        "Agora criaremos um novo _DataFrame_, de nome `products`. Selecionaremos apenas as colunas `StockCode` e `Description` do _DataFrame_ original, `df`.\n",
        "\n",
        "Para entender como selecionar colunas específicas, veja o vídeo abaixo a partir de 21m07s até 21m35s."
      ]
    },
    {
      "cell_type": "code",
      "metadata": {
        "id": "suIsqNd2Z-qL",
        "colab": {
          "base_uri": "https://localhost:8080/",
          "height": 322
        },
        "outputId": "5229b621-5edc-4d9d-c70d-37d44645c268"
      },
      "source": [
        "YouTubeVideo('usmbTUx9zdY', start=1267)"
      ],
      "execution_count": null,
      "outputs": [
        {
          "output_type": "execute_result",
          "data": {
            "text/html": [
              "\n",
              "        <iframe\n",
              "            width=\"400\"\n",
              "            height=\"300\"\n",
              "            src=\"https://www.youtube.com/embed/usmbTUx9zdY?start=1267\"\n",
              "            frameborder=\"0\"\n",
              "            allowfullscreen\n",
              "        ></iframe>\n",
              "        "
            ],
            "text/plain": [
              "<IPython.lib.display.YouTubeVideo at 0x7f3a0d9b9050>"
            ],
            "image/jpeg": "[encoded data removed]"
          },
          "metadata": {},
          "execution_count": 11
        }
      ]
    },
    {
      "cell_type": "markdown",
      "metadata": {
        "id": "DdB8mxOuy4bl"
      },
      "source": [
        "Escreva seu código abaixo, criando o `DataFrame` de nome `products` que seleciona apenas as colunas `StockCode` e `Description`."
      ]
    },
    {
      "cell_type": "code",
      "metadata": {
        "id": "mZhbpw2PSUUL",
        "colab": {
          "base_uri": "https://localhost:8080/",
          "height": 423
        },
        "outputId": "d7f1f3a0-2a1b-4a2d-f0d6-3252e0434ba2"
      },
      "source": [
        "# Escreva aqui abaixo seu código para separar apenas\n",
        "# as colunas de código de produto, nome 'StockCode'\n",
        "# e descrição, nome 'Description'. O novo DataFrame\n",
        "# deve ser gravado na variável de nome products.\n",
        "products = df[['StockCode','Description']].copy()\n",
        "products\n",
        "# SEU CÓDIGO AQUI!"
      ],
      "execution_count": null,
      "outputs": [
        {
          "output_type": "execute_result",
          "data": {
            "text/html": [
              "\n",
              "  <div id=\"df-e34be5e4-bc00-44be-89dc-2bd8cd644152\">\n",
              "    <div class=\"colab-df-container\">\n",
              "      <div>\n",
              "<style scoped>\n",
              "    .dataframe tbody tr th:only-of-type {\n",
              "        vertical-align: middle;\n",
              "    }\n",
              "\n",
              "    .dataframe tbody tr th {\n",
              "        vertical-align: top;\n",
              "    }\n",
              "\n",
              "    .dataframe thead th {\n",
              "        text-align: right;\n",
              "    }\n",
              "</style>\n",
              "<table border=\"1\" class=\"dataframe\">\n",
              "  <thead>\n",
              "    <tr style=\"text-align: right;\">\n",
              "      <th></th>\n",
              "      <th>StockCode</th>\n",
              "      <th>Description</th>\n",
              "    </tr>\n",
              "  </thead>\n",
              "  <tbody>\n",
              "    <tr>\n",
              "      <th>0</th>\n",
              "      <td>85123A</td>\n",
              "      <td>WHITE HANGING HEART T-LIGHT HOLDER</td>\n",
              "    </tr>\n",
              "    <tr>\n",
              "      <th>1</th>\n",
              "      <td>71053</td>\n",
              "      <td>WHITE METAL LANTERN</td>\n",
              "    </tr>\n",
              "    <tr>\n",
              "      <th>2</th>\n",
              "      <td>84406B</td>\n",
              "      <td>CREAM CUPID HEARTS COAT HANGER</td>\n",
              "    </tr>\n",
              "    <tr>\n",
              "      <th>3</th>\n",
              "      <td>84029G</td>\n",
              "      <td>KNITTED UNION FLAG HOT WATER BOTTLE</td>\n",
              "    </tr>\n",
              "    <tr>\n",
              "      <th>4</th>\n",
              "      <td>84029E</td>\n",
              "      <td>RED WOOLLY HOTTIE WHITE HEART.</td>\n",
              "    </tr>\n",
              "    <tr>\n",
              "      <th>...</th>\n",
              "      <td>...</td>\n",
              "      <td>...</td>\n",
              "    </tr>\n",
              "    <tr>\n",
              "      <th>541904</th>\n",
              "      <td>22613</td>\n",
              "      <td>PACK OF 20 SPACEBOY NAPKINS</td>\n",
              "    </tr>\n",
              "    <tr>\n",
              "      <th>541905</th>\n",
              "      <td>22899</td>\n",
              "      <td>CHILDREN'S APRON DOLLY GIRL</td>\n",
              "    </tr>\n",
              "    <tr>\n",
              "      <th>541906</th>\n",
              "      <td>23254</td>\n",
              "      <td>CHILDRENS CUTLERY DOLLY GIRL</td>\n",
              "    </tr>\n",
              "    <tr>\n",
              "      <th>541907</th>\n",
              "      <td>23255</td>\n",
              "      <td>CHILDRENS CUTLERY CIRCUS PARADE</td>\n",
              "    </tr>\n",
              "    <tr>\n",
              "      <th>541908</th>\n",
              "      <td>22138</td>\n",
              "      <td>BAKING SET 9 PIECE RETROSPOT</td>\n",
              "    </tr>\n",
              "  </tbody>\n",
              "</table>\n",
              "<p>406829 rows × 2 columns</p>\n",
              "</div>\n",
              "      <button class=\"colab-df-convert\" onclick=\"convertToInteractive('df-e34be5e4-bc00-44be-89dc-2bd8cd644152')\"\n",
              "              title=\"Convert this dataframe to an interactive table.\"\n",
              "              style=\"display:none;\">\n",
              "        \n",
              "  <svg xmlns=\"http://www.w3.org/2000/svg\" height=\"24px\"viewBox=\"0 0 24 24\"\n",
              "       width=\"24px\">\n",
              "    <path d=\"M0 0h24v24H0V0z\" fill=\"none\"/>\n",
              "    <path d=\"M18.56 5.44l.94 2.06.94-2.06 2.06-.94-2.06-.94-.94-2.06-.94 2.06-2.06.94zm-11 1L8.5 8.5l.94-2.06 2.06-.94-2.06-.94L8.5 2.5l-.94 2.06-2.06.94zm10 10l.94 2.06.94-2.06 2.06-.94-2.06-.94-.94-2.06-.94 2.06-2.06.94z\"/><path d=\"M17.41 7.96l-1.37-1.37c-.4-.4-.92-.59-1.43-.59-.52 0-1.04.2-1.43.59L10.3 9.45l-7.72 7.72c-.78.78-.78 2.05 0 2.83L4 21.41c.39.39.9.59 1.41.59.51 0 1.02-.2 1.41-.59l7.78-7.78 2.81-2.81c.8-.78.8-2.07 0-2.86zM5.41 20L4 18.59l7.72-7.72 1.47 1.35L5.41 20z\"/>\n",
              "  </svg>\n",
              "      </button>\n",
              "      \n",
              "  <style>\n",
              "    .colab-df-container {\n",
              "      display:flex;\n",
              "      flex-wrap:wrap;\n",
              "      gap: 12px;\n",
              "    }\n",
              "\n",
              "    .colab-df-convert {\n",
              "      background-color: #E8F0FE;\n",
              "      border: none;\n",
              "      border-radius: 50%;\n",
              "      cursor: pointer;\n",
              "      display: none;\n",
              "      fill: #1967D2;\n",
              "      height: 32px;\n",
              "      padding: 0 0 0 0;\n",
              "      width: 32px;\n",
              "    }\n",
              "\n",
              "    .colab-df-convert:hover {\n",
              "      background-color: #E2EBFA;\n",
              "      box-shadow: 0px 1px 2px rgba(60, 64, 67, 0.3), 0px 1px 3px 1px rgba(60, 64, 67, 0.15);\n",
              "      fill: #174EA6;\n",
              "    }\n",
              "\n",
              "    [theme=dark] .colab-df-convert {\n",
              "      background-color: #3B4455;\n",
              "      fill: #D2E3FC;\n",
              "    }\n",
              "\n",
              "    [theme=dark] .colab-df-convert:hover {\n",
              "      background-color: #434B5C;\n",
              "      box-shadow: 0px 1px 3px 1px rgba(0, 0, 0, 0.15);\n",
              "      filter: drop-shadow(0px 1px 2px rgba(0, 0, 0, 0.3));\n",
              "      fill: #FFFFFF;\n",
              "    }\n",
              "  </style>\n",
              "\n",
              "      <script>\n",
              "        const buttonEl =\n",
              "          document.querySelector('#df-e34be5e4-bc00-44be-89dc-2bd8cd644152 button.colab-df-convert');\n",
              "        buttonEl.style.display =\n",
              "          google.colab.kernel.accessAllowed ? 'block' : 'none';\n",
              "\n",
              "        async function convertToInteractive(key) {\n",
              "          const element = document.querySelector('#df-e34be5e4-bc00-44be-89dc-2bd8cd644152');\n",
              "          const dataTable =\n",
              "            await google.colab.kernel.invokeFunction('convertToInteractive',\n",
              "                                                     [key], {});\n",
              "          if (!dataTable) return;\n",
              "\n",
              "          const docLinkHtml = 'Like what you see? Visit the ' +\n",
              "            '<a target=\"_blank\" href=https://colab.research.google.com/notebooks/data_table.ipynb>data table notebook</a>'\n",
              "            + ' to learn more about interactive tables.';\n",
              "          element.innerHTML = '';\n",
              "          dataTable['output_type'] = 'display_data';\n",
              "          await google.colab.output.renderOutput(dataTable, element);\n",
              "          const docLink = document.createElement('div');\n",
              "          docLink.innerHTML = docLinkHtml;\n",
              "          element.appendChild(docLink);\n",
              "        }\n",
              "      </script>\n",
              "    </div>\n",
              "  </div>\n",
              "  "
            ],
            "text/plain": [
              "       StockCode                          Description\n",
              "0         85123A   WHITE HANGING HEART T-LIGHT HOLDER\n",
              "1          71053                  WHITE METAL LANTERN\n",
              "2         84406B       CREAM CUPID HEARTS COAT HANGER\n",
              "3         84029G  KNITTED UNION FLAG HOT WATER BOTTLE\n",
              "4         84029E       RED WOOLLY HOTTIE WHITE HEART.\n",
              "...          ...                                  ...\n",
              "541904     22613          PACK OF 20 SPACEBOY NAPKINS\n",
              "541905     22899         CHILDREN'S APRON DOLLY GIRL \n",
              "541906     23254        CHILDRENS CUTLERY DOLLY GIRL \n",
              "541907     23255      CHILDRENS CUTLERY CIRCUS PARADE\n",
              "541908     22138        BAKING SET 9 PIECE RETROSPOT \n",
              "\n",
              "[406829 rows x 2 columns]"
            ]
          },
          "metadata": {},
          "execution_count": 15
        }
      ]
    },
    {
      "cell_type": "markdown",
      "metadata": {
        "id": "VzMELP7uzeUM"
      },
      "source": [
        "### Passo 3.3 Remoção de Itens Duplicados\n",
        "\n",
        "Obviamente muitos produtos foram comprados mais de uma vez. Em nosso dicionário de códigos e descrições, como a finalidade é simplesmente identificar a descrição que corresponde a um determinado código, então não faz sentido ter itens duplicados.\n",
        "\n",
        "No código abaixo faça uma remoção de todas entradas onde o código do produto (coluna `StockCode`) seja duplicado.\n",
        "\n",
        "Para entender como fazer isso, veja o vídeo abaixo a partir de 21m41s até 22m10s."
      ]
    },
    {
      "cell_type": "code",
      "metadata": {
        "id": "Y20WJ3up0nLO",
        "colab": {
          "base_uri": "https://localhost:8080/",
          "height": 322
        },
        "outputId": "fb049bce-695a-4298-8a85-1bfa3889fd02"
      },
      "source": [
        "YouTubeVideo('usmbTUx9zdY', start=1301)"
      ],
      "execution_count": null,
      "outputs": [
        {
          "output_type": "execute_result",
          "data": {
            "text/html": [
              "\n",
              "        <iframe\n",
              "            width=\"400\"\n",
              "            height=\"300\"\n",
              "            src=\"https://www.youtube.com/embed/usmbTUx9zdY?start=1301\"\n",
              "            frameborder=\"0\"\n",
              "            allowfullscreen\n",
              "        ></iframe>\n",
              "        "
            ],
            "text/plain": [
              "<IPython.lib.display.YouTubeVideo at 0x7f3a0d9d3950>"
            ],
            "image/jpeg": "[encoded data removed]"
          },
          "metadata": {},
          "execution_count": 13
        }
      ]
    },
    {
      "cell_type": "code",
      "metadata": {
        "id": "BtdlOtbOzIJ8",
        "colab": {
          "base_uri": "https://localhost:8080/",
          "height": 423
        },
        "outputId": "51a1d19f-0bef-4435-b3de-1dd946b78f2b"
      },
      "source": [
        "# Escreva abaixo o código para remover os itens duplicados\n",
        "# do DataFrame de produtos. Ao fazer isso garanta que o nome\n",
        "# do DataFrame seja o mesmo, ou seja, o resultado deve ser\n",
        "# gravado na própria variável products.\n",
        "products.drop_duplicates(inplace=True,subset='StockCode',keep='last')\n",
        "products\n",
        "# SEU CÓDIGO AQUI!"
      ],
      "execution_count": null,
      "outputs": [
        {
          "output_type": "execute_result",
          "data": {
            "text/html": [
              "\n",
              "  <div id=\"df-a56a5f16-883f-4331-b59a-4f5760a827b0\">\n",
              "    <div class=\"colab-df-container\">\n",
              "      <div>\n",
              "<style scoped>\n",
              "    .dataframe tbody tr th:only-of-type {\n",
              "        vertical-align: middle;\n",
              "    }\n",
              "\n",
              "    .dataframe tbody tr th {\n",
              "        vertical-align: top;\n",
              "    }\n",
              "\n",
              "    .dataframe thead th {\n",
              "        text-align: right;\n",
              "    }\n",
              "</style>\n",
              "<table border=\"1\" class=\"dataframe\">\n",
              "  <thead>\n",
              "    <tr style=\"text-align: right;\">\n",
              "      <th></th>\n",
              "      <th>StockCode</th>\n",
              "      <th>Description</th>\n",
              "    </tr>\n",
              "  </thead>\n",
              "  <tbody>\n",
              "    <tr>\n",
              "      <th>107</th>\n",
              "      <td>84854</td>\n",
              "      <td>GIRLY PINK TOOL SET</td>\n",
              "    </tr>\n",
              "    <tr>\n",
              "      <th>902</th>\n",
              "      <td>21895</td>\n",
              "      <td>POTTING SHED SOW 'N' GROW SET</td>\n",
              "    </tr>\n",
              "    <tr>\n",
              "      <th>1985</th>\n",
              "      <td>20957</td>\n",
              "      <td>PORCELAIN HANGING BELL SMALL</td>\n",
              "    </tr>\n",
              "    <tr>\n",
              "      <th>2313</th>\n",
              "      <td>82615</td>\n",
              "      <td>PINK MARSHMALLOW SCARF KNITTING KIT</td>\n",
              "    </tr>\n",
              "    <tr>\n",
              "      <th>2457</th>\n",
              "      <td>21488</td>\n",
              "      <td>RED WHITE SCARF  HOT WATER BOTTLE</td>\n",
              "    </tr>\n",
              "    <tr>\n",
              "      <th>...</th>\n",
              "      <td>...</td>\n",
              "      <td>...</td>\n",
              "    </tr>\n",
              "    <tr>\n",
              "      <th>541904</th>\n",
              "      <td>22613</td>\n",
              "      <td>PACK OF 20 SPACEBOY NAPKINS</td>\n",
              "    </tr>\n",
              "    <tr>\n",
              "      <th>541905</th>\n",
              "      <td>22899</td>\n",
              "      <td>CHILDREN'S APRON DOLLY GIRL</td>\n",
              "    </tr>\n",
              "    <tr>\n",
              "      <th>541906</th>\n",
              "      <td>23254</td>\n",
              "      <td>CHILDRENS CUTLERY DOLLY GIRL</td>\n",
              "    </tr>\n",
              "    <tr>\n",
              "      <th>541907</th>\n",
              "      <td>23255</td>\n",
              "      <td>CHILDRENS CUTLERY CIRCUS PARADE</td>\n",
              "    </tr>\n",
              "    <tr>\n",
              "      <th>541908</th>\n",
              "      <td>22138</td>\n",
              "      <td>BAKING SET 9 PIECE RETROSPOT</td>\n",
              "    </tr>\n",
              "  </tbody>\n",
              "</table>\n",
              "<p>3684 rows × 2 columns</p>\n",
              "</div>\n",
              "      <button class=\"colab-df-convert\" onclick=\"convertToInteractive('df-a56a5f16-883f-4331-b59a-4f5760a827b0')\"\n",
              "              title=\"Convert this dataframe to an interactive table.\"\n",
              "              style=\"display:none;\">\n",
              "        \n",
              "  <svg xmlns=\"http://www.w3.org/2000/svg\" height=\"24px\"viewBox=\"0 0 24 24\"\n",
              "       width=\"24px\">\n",
              "    <path d=\"M0 0h24v24H0V0z\" fill=\"none\"/>\n",
              "    <path d=\"M18.56 5.44l.94 2.06.94-2.06 2.06-.94-2.06-.94-.94-2.06-.94 2.06-2.06.94zm-11 1L8.5 8.5l.94-2.06 2.06-.94-2.06-.94L8.5 2.5l-.94 2.06-2.06.94zm10 10l.94 2.06.94-2.06 2.06-.94-2.06-.94-.94-2.06-.94 2.06-2.06.94z\"/><path d=\"M17.41 7.96l-1.37-1.37c-.4-.4-.92-.59-1.43-.59-.52 0-1.04.2-1.43.59L10.3 9.45l-7.72 7.72c-.78.78-.78 2.05 0 2.83L4 21.41c.39.39.9.59 1.41.59.51 0 1.02-.2 1.41-.59l7.78-7.78 2.81-2.81c.8-.78.8-2.07 0-2.86zM5.41 20L4 18.59l7.72-7.72 1.47 1.35L5.41 20z\"/>\n",
              "  </svg>\n",
              "      </button>\n",
              "      \n",
              "  <style>\n",
              "    .colab-df-container {\n",
              "      display:flex;\n",
              "      flex-wrap:wrap;\n",
              "      gap: 12px;\n",
              "    }\n",
              "\n",
              "    .colab-df-convert {\n",
              "      background-color: #E8F0FE;\n",
              "      border: none;\n",
              "      border-radius: 50%;\n",
              "      cursor: pointer;\n",
              "      display: none;\n",
              "      fill: #1967D2;\n",
              "      height: 32px;\n",
              "      padding: 0 0 0 0;\n",
              "      width: 32px;\n",
              "    }\n",
              "\n",
              "    .colab-df-convert:hover {\n",
              "      background-color: #E2EBFA;\n",
              "      box-shadow: 0px 1px 2px rgba(60, 64, 67, 0.3), 0px 1px 3px 1px rgba(60, 64, 67, 0.15);\n",
              "      fill: #174EA6;\n",
              "    }\n",
              "\n",
              "    [theme=dark] .colab-df-convert {\n",
              "      background-color: #3B4455;\n",
              "      fill: #D2E3FC;\n",
              "    }\n",
              "\n",
              "    [theme=dark] .colab-df-convert:hover {\n",
              "      background-color: #434B5C;\n",
              "      box-shadow: 0px 1px 3px 1px rgba(0, 0, 0, 0.15);\n",
              "      filter: drop-shadow(0px 1px 2px rgba(0, 0, 0, 0.3));\n",
              "      fill: #FFFFFF;\n",
              "    }\n",
              "  </style>\n",
              "\n",
              "      <script>\n",
              "        const buttonEl =\n",
              "          document.querySelector('#df-a56a5f16-883f-4331-b59a-4f5760a827b0 button.colab-df-convert');\n",
              "        buttonEl.style.display =\n",
              "          google.colab.kernel.accessAllowed ? 'block' : 'none';\n",
              "\n",
              "        async function convertToInteractive(key) {\n",
              "          const element = document.querySelector('#df-a56a5f16-883f-4331-b59a-4f5760a827b0');\n",
              "          const dataTable =\n",
              "            await google.colab.kernel.invokeFunction('convertToInteractive',\n",
              "                                                     [key], {});\n",
              "          if (!dataTable) return;\n",
              "\n",
              "          const docLinkHtml = 'Like what you see? Visit the ' +\n",
              "            '<a target=\"_blank\" href=https://colab.research.google.com/notebooks/data_table.ipynb>data table notebook</a>'\n",
              "            + ' to learn more about interactive tables.';\n",
              "          element.innerHTML = '';\n",
              "          dataTable['output_type'] = 'display_data';\n",
              "          await google.colab.output.renderOutput(dataTable, element);\n",
              "          const docLink = document.createElement('div');\n",
              "          docLink.innerHTML = docLinkHtml;\n",
              "          element.appendChild(docLink);\n",
              "        }\n",
              "      </script>\n",
              "    </div>\n",
              "  </div>\n",
              "  "
            ],
            "text/plain": [
              "       StockCode                          Description\n",
              "107        84854                  GIRLY PINK TOOL SET\n",
              "902        21895        POTTING SHED SOW 'N' GROW SET\n",
              "1985       20957         PORCELAIN HANGING BELL SMALL\n",
              "2313       82615  PINK MARSHMALLOW SCARF KNITTING KIT\n",
              "2457       21488    RED WHITE SCARF  HOT WATER BOTTLE\n",
              "...          ...                                  ...\n",
              "541904     22613          PACK OF 20 SPACEBOY NAPKINS\n",
              "541905     22899         CHILDREN'S APRON DOLLY GIRL \n",
              "541906     23254        CHILDRENS CUTLERY DOLLY GIRL \n",
              "541907     23255      CHILDRENS CUTLERY CIRCUS PARADE\n",
              "541908     22138        BAKING SET 9 PIECE RETROSPOT \n",
              "\n",
              "[3684 rows x 2 columns]"
            ]
          },
          "metadata": {},
          "execution_count": 16
        }
      ]
    },
    {
      "cell_type": "markdown",
      "metadata": {
        "id": "d_Zh1f1P1MfN"
      },
      "source": [
        "### Passo 3.4 Criação do Dicionário\n",
        "\n",
        "Agora você vai criar um dicionário nativo do Python, onde as chaves serão os códigos dos produtos (`StockCode`) e os valores serão as respectivas strings de descrição (`Description`).\n",
        "\n",
        "Para entender como converter este DataFrame em um dicionário, assista o vídeo abaixo, a partir de 22min35s até 23min03s."
      ]
    },
    {
      "cell_type": "code",
      "metadata": {
        "id": "QkNkTizRvFu_",
        "colab": {
          "base_uri": "https://localhost:8080/",
          "height": 322
        },
        "outputId": "e680f2b6-19a8-4bda-f7c3-eacf9d9fdc82"
      },
      "source": [
        "YouTubeVideo('usmbTUx9zdY', start=1355)"
      ],
      "execution_count": null,
      "outputs": [
        {
          "output_type": "execute_result",
          "data": {
            "text/html": [
              "\n",
              "        <iframe\n",
              "            width=\"400\"\n",
              "            height=\"300\"\n",
              "            src=\"https://www.youtube.com/embed/usmbTUx9zdY?start=1355\"\n",
              "            frameborder=\"0\"\n",
              "            allowfullscreen\n",
              "        ></iframe>\n",
              "        "
            ],
            "text/plain": [
              "<IPython.lib.display.YouTubeVideo at 0x7f3a0b19e110>"
            ],
            "image/jpeg": "[encoded data removed]"
          },
          "metadata": {},
          "execution_count": 17
        }
      ]
    },
    {
      "cell_type": "code",
      "metadata": {
        "id": "An0BgKa91RTl"
      },
      "source": [
        "# Escreva aqui seu código para criar um dicionário do\n",
        "# Python a partir do DataFrame products. O nome do\n",
        "# dicionário deverá ser prodcuts_dict\n",
        "products_dict = products.groupby('StockCode')['Description'].apply(list).to_dict()\n",
        "# SEU CÓDIGO AQUI!"
      ],
      "execution_count": null,
      "outputs": []
    },
    {
      "cell_type": "code",
      "metadata": {
        "id": "0GtvB9h7Sm-1",
        "colab": {
          "base_uri": "https://localhost:8080/"
        },
        "outputId": "d978f3ee-5a2f-4d68-a193-ca40b92f7502"
      },
      "source": [
        "# Teste do dicionário: na linha de código abaixo\n",
        "# consultamos um código de produto no seu dicionário.\n",
        "# Se você cumpriu todos passos corretamente até\n",
        "# aqui, então o resultado deve ser uma lista contendo\n",
        "# uma única string, que é a descrição do produto\n",
        "# correspondente àquele código.\n",
        "\n",
        "products_dict['84029E']"
      ],
      "execution_count": null,
      "outputs": [
        {
          "output_type": "execute_result",
          "data": {
            "text/plain": [
              "['RED WOOLLY HOTTIE WHITE HEART.']"
            ]
          },
          "metadata": {},
          "execution_count": 19
        }
      ]
    },
    {
      "cell_type": "markdown",
      "metadata": {
        "id": "XzH4dqdM2bPg"
      },
      "source": [
        "## Passo 4: Preparação dos Dados\n",
        "\n",
        "Neste passo vamos preprarar os dados transformando o histórico de compras de cada consumidor numa espécie de \"frase\", onde cada \"palavra\" é um produto comprado."
      ]
    },
    {
      "cell_type": "markdown",
      "metadata": {
        "id": "qev247Zd3fq2"
      },
      "source": [
        "### Passo 4.1: Contagem dos Clientes Únicos\n",
        "\n",
        "Nesta base de dados temos o registro de cada compra de cada cliente ao longo de um ano. Isso significa que não apenas podemos ter o mesmo produto sendo comprado por diferentes clientes, mas também teremos o mesmo cliente, fazendo diferentes compras em diferentes momentos.\n",
        "\n",
        "Para avaliar nosso sistema de forma mais justa e próxima de um uso real, vamos tentar separar dados de validação e dados de treinamento de forma que não usemos compras de um mesmo cliente nos dados de validação e nos dados de treinamento (mesmo que em momentos diferentes). Em outras palavras, vamos separar _todas as compras_ de certos clientes para treinamento e _todas as compras_ de certos outros clientes para validação, ou seja, a separação será pelo cliente que realizou a compra. Assim todas compras de um determinado cliente estarão exclusivamente nos dados de validação ou exclusivamente nos dados de treinamento, nunca em ambos. Isso servirá para que possamos avaliar se o sistema de recomendação funciona, mesmo quando treinado para clientes diferentes daqueles para os quais estamos recomendando no momento: quer dizer que podemos treinar o sistema com as compras dos clientes escolhidos para o grupo de treinamento e avaliar as recomendações num grupo de clientes que o sistema nunca viu antes.\n",
        "\n",
        "Para fazer isso, seria interessante começar confirmando exatamente quantos clientes únicos temos nessa base de dados.\n",
        "\n",
        "A partir do DataFrame `df` selecione a coluna `CustomerID` e usando os métodos `unique()` e a conversão `tolist()`, gere uma lista com todos os ids de clientes únicos. Essa lista deverá se chamar `customers`.\n",
        "\n",
        "O vídeo abaixo, a partir de 23m59s até 25m16s, mostra como isso pode ser feito."
      ]
    },
    {
      "cell_type": "code",
      "metadata": {
        "id": "uVQZtVkT0Mqh",
        "colab": {
          "base_uri": "https://localhost:8080/",
          "height": 322
        },
        "outputId": "2cdd6734-4d16-440d-885f-fd91e9e09cc5"
      },
      "source": [
        "YouTubeVideo('usmbTUx9zdY', start=1439)"
      ],
      "execution_count": null,
      "outputs": [
        {
          "output_type": "execute_result",
          "data": {
            "text/html": [
              "\n",
              "        <iframe\n",
              "            width=\"400\"\n",
              "            height=\"300\"\n",
              "            src=\"https://www.youtube.com/embed/usmbTUx9zdY?start=1439\"\n",
              "            frameborder=\"0\"\n",
              "            allowfullscreen\n",
              "        ></iframe>\n",
              "        "
            ],
            "text/plain": [
              "<IPython.lib.display.YouTubeVideo at 0x7f3a2117ae50>"
            ],
            "image/jpeg": "[encoded data removed]"
          },
          "metadata": {},
          "execution_count": 20
        }
      ]
    },
    {
      "cell_type": "code",
      "metadata": {
        "id": "SLGQA2VZ3lpc"
      },
      "source": [
        "# Escreva abaixo o código que cria uma lista \n",
        "# coletando os ids da coluna CustomerID de df,\n",
        "# selecionando apenas ids únicos (não recolhe\n",
        "# ids repetidos). Esta lista deve ser uma lista\n",
        "# nativa do Python, de nome customers.\n",
        "customers = df['CustomerID'].unique().tolist()\n",
        "# SEU CÓDIGO AQUI!"
      ],
      "execution_count": null,
      "outputs": []
    },
    {
      "cell_type": "code",
      "metadata": {
        "id": "Em6vNYCjzU8K",
        "colab": {
          "base_uri": "https://localhost:8080/"
        },
        "outputId": "d36571a2-548f-456c-a3a5-6160fa09ce9c"
      },
      "source": [
        "len(customers)"
      ],
      "execution_count": null,
      "outputs": [
        {
          "output_type": "execute_result",
          "data": {
            "text/plain": [
              "4372"
            ]
          },
          "metadata": {},
          "execution_count": 22
        }
      ]
    },
    {
      "cell_type": "markdown",
      "metadata": {
        "id": "2ZTGaq3n35dn"
      },
      "source": [
        "Se tudo deu certo até aqui, então verificamos que há exatamente 4.372 clientes na nossa base de dados. Para cada um desses clientes vamos verificar o histórico de compras, criando 4.372 sequências de compras."
      ]
    },
    {
      "cell_type": "markdown",
      "metadata": {
        "id": "cIMP9AOiHWOr"
      },
      "source": [
        "### Passo 4.2: Embaralhamento dos Dados\n",
        "\n",
        "Agora escreva código para embaralhar a ordem dos ids dos clientes na lista `customers`, usando o método `shuffle`. O resultado deve estar na própria variável `customers` (não mude o nome da variável)."
      ]
    },
    {
      "cell_type": "code",
      "metadata": {
        "id": "MvRoZx2wHOXv"
      },
      "source": [
        "# No espaço abaixo, importe o módulo random\n",
        "# e chame a função shuffle embaralhando os\n",
        "# itens na lista customers\n",
        "import random\n",
        "random.shuffle(customers)\n",
        "# SEU CÓDIGO AQUI!"
      ],
      "execution_count": null,
      "outputs": []
    },
    {
      "cell_type": "markdown",
      "metadata": {
        "id": "cQYdfD3RJI75"
      },
      "source": [
        "### Passo 4.3: Separação dos Dados de Treinamento e Validação\n",
        "\n",
        "Agora vamos separar dados de treinamento e de validação. Vamos separar 10% dos dados para validação e 90% dos dados para treinamento. Mas esses percentuais serão separados em termos de clientes. Isso significa que faremos o seguinte:\n",
        "\n",
        "1. Definiremos uma lista de clientes de treinamento, contendo 90% dos itens da variável `customers`. Vamos chamar essa variável de `customers_train`.\n",
        "2. Definiremos uma lista de clientes de validação, contendo 10% dos itens da variável `customers`. Vamos chamar essa variável de `customers_val`.\n",
        "3. Em nosso dataset `df`, selecionaremos todas as linhas onde o campo `CustomerID` contenha um código de cliente presente na lista `customers_train`. Essa seleção será um novo dataset de nome `df_train`.\n",
        "4. Faremos o mesmo com os  dados de validação,  selecionando as linhas de `df` onde `CustomerID` está contido em `customers_val`. Essa seleção chamaremos de `df_val`.\n",
        "\n",
        "Dica: para os passos 3 e 4 acima, use o método `.isin(nome_da_lista)`. Veja o vídeo abaixo a partir de 25m19s até o final do vídeo.\n",
        "\n"
      ]
    },
    {
      "cell_type": "code",
      "metadata": {
        "id": "ckUuDo_JYF5l",
        "colab": {
          "base_uri": "https://localhost:8080/",
          "height": 322
        },
        "outputId": "c2796542-ecc4-4643-fb71-f34e8b9d92e9"
      },
      "source": [
        "YouTubeVideo('usmbTUx9zdY', start=1519)"
      ],
      "execution_count": null,
      "outputs": [
        {
          "output_type": "execute_result",
          "data": {
            "text/html": [
              "\n",
              "        <iframe\n",
              "            width=\"400\"\n",
              "            height=\"300\"\n",
              "            src=\"https://www.youtube.com/embed/usmbTUx9zdY?start=1519\"\n",
              "            frameborder=\"0\"\n",
              "            allowfullscreen\n",
              "        ></iframe>\n",
              "        "
            ],
            "text/plain": [
              "<IPython.lib.display.YouTubeVideo at 0x7f3a0ae10810>"
            ],
            "image/jpeg": "[encoded data removed]"
          },
          "metadata": {},
          "execution_count": 26
        }
      ]
    },
    {
      "cell_type": "code",
      "metadata": {
        "id": "Kq6yEiaQJIjr"
      },
      "source": [
        "# Calcule a quantidade de clientes que usaremos\n",
        "# para treinamento. Essa quantidade deve ser 90%\n",
        "# do total de clientes na variável customers.\n",
        "# Transforme o resultado em um número inteiro.\n",
        "# O resultado deve ser gravado na variável de\n",
        "# nome train_size.\n",
        "train_size = int(len(customers)*0.9)\n",
        "# SEU CÓDIGO AQUI!\n",
        "\n",
        "# Use o slicing do Python para separar\n",
        "# os consumidores em duas listas: uma para\n",
        "# treinamento e a outra para validação. Para\n",
        "# definir o ponto de corte do slicing, use\n",
        "# a variável train_size definida acima. A lista\n",
        "# de consumidores para treinamento deve se\n",
        "# chamar customers_train e incluir exatamente\n",
        "# o trecho da lista customers começando\n",
        "# do início, com quantidade igual a train_size.\n",
        "# Os demais devem itens ser colocados na lista\n",
        "# de nome customers_val (lista ids de validação)\n",
        "customers_train = customers[:train_size]\n",
        "customers_test = customers[train_size:]\n",
        "# SEU CÓDIGO AQUI!\n",
        "\n",
        "# Agora, baseado nos ids separados nas listas\n",
        "# customers_train e customers_val acima, crie\n",
        "# dois datasets a partir do dataset original df,\n",
        "# selecionando em df_train as linhas que contem\n",
        "# ids da lista customers_train no campo CustomerID,\n",
        "# e em df_val as linhas que contem  ids da lista\n",
        "# customers_val.\n",
        "df_train = df[df['CustomerID'].isin(customers_train)]\n",
        "df_test= df[df['CustomerID'].isin(customers_test)]\n",
        "# SEU CÓDIGO AQUI!"
      ],
      "execution_count": null,
      "outputs": []
    },
    {
      "cell_type": "markdown",
      "metadata": {
        "id": "IPSvCp8LKB5n"
      },
      "source": [
        "### Passo 4.4: Função que compila sequência de compras de cada cliente.\n",
        "\n",
        "Com essas listas de clientes criamos abaixo as sequências de compras de acordo com os históricos de cada cliente."
      ]
    },
    {
      "cell_type": "code",
      "metadata": {
        "id": "Cp8qT1FJKPY2"
      },
      "source": [
        "def compile_orders(customers, df):\n",
        "  ''' Essa função coleta todas compras do histórico\n",
        "      de cada cliente. O parâmetro customers é a lista\n",
        "      de ids de clientes e o parâmetro df é o objeto\n",
        "      DataFrame do pandas com os dados de cada compra.\n",
        "      O valor retornado é uma lista de listas, onde cada\n",
        "      lista interna contém a seguência de códigos de produto\n",
        "      de cada compra, na ordem que se apresentava no\n",
        "      histórico.\n",
        "  '''\n",
        "\n",
        "  # Essa será a lista de compras -- lista de listas de produtos\n",
        "  orders = []\n",
        "  \n",
        "  # Coletaremos as compras de cada cliente\n",
        "  for customer in customers:\n",
        "\n",
        "    # Aqui convertemos os códigos de produtos das compras\n",
        "    # de cada cliente para uma lista única\n",
        "    order = df[df['CustomerID'] == customer]['StockCode'].tolist()\n",
        "\n",
        "    # Essa lista de itens será a lista de produtos que será adicionada\n",
        "    # à lista de compras principal.\n",
        "    orders.append(order)\n",
        "    \n",
        "  return orders"
      ],
      "execution_count": null,
      "outputs": []
    },
    {
      "cell_type": "code",
      "metadata": {
        "id": "CaIkbOMiM2ne"
      },
      "source": [
        "# Aqui separamos as listas de listas de compras. Este código\n",
        "# demora cerca de 1 minuto para rodar\n",
        "orders_train = compile_orders(customers_train, df_train)\n",
        "orders_val = compile_orders(customers_test, df_test)"
      ],
      "execution_count": null,
      "outputs": []
    },
    {
      "cell_type": "markdown",
      "metadata": {
        "id": "VCqVu7rsQDeQ"
      },
      "source": [
        "## Passo 5: Treinar o Embedding Word2Vec\n",
        "\n",
        "Esta é a última etapa, onde utilizamos a lista de compras (lista de listas com códigos de produtos) para treinar nosso embedding. Essa lista de listas funcionará de forma análoga a uma lista de frases, onde cada frase é uma lista de palavras: lista de listas de palavras. A diferença é que aqui as strings que seriam palavras foram substituídas por códigos de produtos."
      ]
    },
    {
      "cell_type": "code",
      "metadata": {
        "id": "u49iedUAQThF"
      },
      "source": [
        "# Aqui importamos o módulo GenSim\n",
        "import gensim\n",
        "\n",
        "# Importamos o NumPy\n",
        "import numpy as np\n",
        "\n",
        "# Código para ignorar warnings\n",
        "# (só para 'despoluir' as saídas\n",
        "#  por motivos didáticos, ignorar\n",
        "#  warnings não é prática recomendada\n",
        "#  exceto quando o código já foi\n",
        "#  testado e os warnings examinados\n",
        "#  e determinados como seguros)\n",
        "import warnings;\n",
        "warnings.filterwarnings('ignore')"
      ],
      "execution_count": null,
      "outputs": []
    },
    {
      "cell_type": "code",
      "metadata": {
        "id": "CWoNEmF9Q99o"
      },
      "source": [
        "# Criamos o objeto da classe Word2Vec. Já no\n",
        "# construtor passamos os parâmetros de treinamento,\n",
        "# pois o modelo será treinado ao criar o objeto.\n",
        "\n",
        "model = gensim.models.Word2Vec(orders_train, \\\n",
        "                               size=50, \\\n",
        "                               window=5, \\\n",
        "                               workers=10, \\\n",
        "                               iter=10)"
      ],
      "execution_count": null,
      "outputs": []
    },
    {
      "cell_type": "code",
      "metadata": {
        "id": "aRUDgNq6Rd-_",
        "colab": {
          "base_uri": "https://localhost:8080/"
        },
        "outputId": "65033f30-6cf3-48e7-ddba-2c4b16ed9fe8"
      },
      "source": [
        "# Mostra os dados básicos do objeto\n",
        "\n",
        "print(model)"
      ],
      "execution_count": null,
      "outputs": [
        {
          "output_type": "stream",
          "name": "stdout",
          "text": [
            "Word2Vec(vocab=3181, size=50, alpha=0.025)\n"
          ]
        }
      ]
    },
    {
      "cell_type": "markdown",
      "metadata": {
        "id": "rHWIan6WBhU4"
      },
      "source": [
        "## Passo 5: Resultados\n",
        "\n",
        "Finalmente podemos agora examinar como ficou o resultado.\n",
        "\n",
        "### Passo 5.1: Produtos semelhantes\n",
        "\n",
        "Para facilitar nossos testes, definimos abaixo uma função que retorna os 10 produtos mais semelhantes a um produto específico, passado como argumento."
      ]
    },
    {
      "cell_type": "code",
      "metadata": {
        "id": "D8o6X7LbSxM3"
      },
      "source": [
        "def most_similar(product_id):\n",
        "  ''' Essa função mostra os 10 produtos mais semelhantes\n",
        "      ao produto cujo código foi passado como argumento.\n",
        "      Na verdade o método most_similar() do objeto Word2Vec\n",
        "      já faz isso. Aqui apenas acrescentamos as descrições,\n",
        "      para facilitar examinar o resultado, já que olhando\n",
        "      apenas os códigos ficaria difícil de dizer se o\n",
        "      conjunto de produtos semelhantes faz sentido.\n",
        "  '''\n",
        "\n",
        "  # Primeiro mostramos a descrição do produto consultado\n",
        "  print('Most similar to:', products_dict[product_id])\n",
        "\n",
        "  # Aqui buscamos a lista de códigos mais semelhantes\n",
        "  # ao apresentado no embedding.\n",
        "  s = model.most_similar(positive=product_id)\n",
        "\n",
        "  # Para cada código, mostramos a descrição\n",
        "  for product, prob in s:\n",
        "    print(products_dict[product], prob)"
      ],
      "execution_count": null,
      "outputs": []
    },
    {
      "cell_type": "code",
      "metadata": {
        "id": "VPUMtcNgJY8Q",
        "colab": {
          "base_uri": "https://localhost:8080/"
        },
        "outputId": "5bf9b568-4c89-4ae8-8703-1139dc1be7ae"
      },
      "source": [
        "model.wv.index2entity[1000:1010]"
      ],
      "execution_count": null,
      "outputs": [
        {
          "output_type": "execute_result",
          "data": {
            "text/plain": [
              "['21714',\n",
              " '22653',\n",
              " '23299',\n",
              " '23340',\n",
              " '23096',\n",
              " '23376',\n",
              " '22805',\n",
              " '23374',\n",
              " '22859',\n",
              " '23053']"
            ]
          },
          "metadata": {},
          "execution_count": 39
        }
      ]
    },
    {
      "cell_type": "code",
      "metadata": {
        "id": "wxfEa_-bKAQd",
        "colab": {
          "base_uri": "https://localhost:8080/"
        },
        "outputId": "336fd289-6e9f-447e-b6c6-348d5e15fcc4"
      },
      "source": [
        "products_dict.keys()"
      ],
      "execution_count": null,
      "outputs": [
        {
          "output_type": "execute_result",
          "data": {
            "text/plain": [
              "dict_keys(['10002', '10080', '10120', '10123C', '10124A', '10124G', '10125', '10133', '10135', '11001', '15030', '15034', '15036', '15039', '15044A', '15044B', '15044C', '15044D', '15056BL', '15056N', '15056P', '15058A', '15058B', '15058C', '15060B', '16008', '16010', '16011', '16012', '16014', '16015', '16016', '16020C', '16033', '16043', '16045', '16046', '16048', '16049', '16052', '16054', '16151A', '16156L', '16156S', '16161G', '16161M', '16161P', '16161U', '16162L', '16162M', '16168M', '16169E', '16169K', '16169M', '16169N', '16169P', '16202A', '16202B', '16202E', '16206B', '16207A', '16207B', '16216', '16218', '16219', '16225', '16235', '16236', '16237', '16238', '16244B', '16248B', '16254', '16258A', '16259', '17001', '17003', '17007B', '17011F', '17012A', '17012B', '17012C', '17012D', '17012E', '17012F', '17013D', '17014A', '17021', '17028J', '17038', '17084A', '17084J', '17084N', '17084P', '17084R', '17090A', '17090D', '17091A', '17091J', '17096', '17107D', '17109D', '17129F', '17136A', '17164B', '17165D', '17174', '17191A', '18007', '18094C', '18097A', '18097C', '18098C', '20615', '20616', '20617', '20618', '20619', '20622', '20652', '20653', '20654', '20655', '20657', '20658', '20659', '20661', '20662', '20663', '20664', '20665', '20666', '20667', '20668', '20669', '20670', '20671', '20674', '20675', '20676', '20677', '20678', '20679', '20681', '20682', '20684', '20685', '20686', '20694', '20695', '20696', '20697', '20698', '20699', '20700', '20701', '20702', '20703', '20704', '20705', '20707', '20711', '20712', '20713', '20716', '20717', '20718', '20719', '20723', '20724', '20725', '20726', '20727', '20728', '20731', '20733', '20735', '20748', '20749', '20750', '20751', '20752', '20754', '20755', '20756', '20757', '20758', '20759', '20760', '20761', '20762', '20763', '20764', '20765', '20766', '20767', '20768', '20769', '20770', '20771', '20772', '20773', '20774', '20775', '20777', '20778', '20780', '20781', '20782', '20785', '20793', '20794', '20795', '20796', '20798', '20801', '20802', '20803', '20816', '20818', '20819', '20820', '20821', '20823', '20826', '20827', '20828', '20829', '20830', '20831', '20832', '20835', '20836', '20837', '20838', '20839', '20840', '20845', '20846', '20847', '20848', '20851', '20854', '20856', '20857', '20861', '20866', '20867', '20868', '20869', '20878', '20886', '20892', '20893', '20894', '20897', '20898', '20901', '20902', '20903', '20906', '20910', '20914', '20931', '20932', '20933', '20934', '20935', '20936', '20941', '20956', '20957', '20961', '20963', '20964', '20966', '20967', '20969', '20970', '20971', '20972', '20973', '20974', '20975', '20977', '20978', '20979', '20980', '20981', '20982', '20983', '20984', '20985', '20986', '20992', '20996', '20997', '20998', '21000', '21001', '21002', '21003', '21011', '21012', '21014', '21015', '21018', '21025', '21026', '21027', '21028', '21030', '21031', '21032', '21033', '21034', '21035', '21038', '21039', '21040', '21041', '21042', '21043', '21051', '21054', '21055', '21056', '21058', '21059', '21060', '21061', '21062', '21063', '21064', '21065', '21066', '21067', '21068', '21069', '21070', '21071', '21078', '21080', '21084', '21086', '21087', '21088', '21089', '21090', '21094', '21095', '21096', '21098', '21100', '21106', '21107', '21108', '21109', '21110', '21111', '21112', '21114', '21115', '21116', '21117', '21121', '21122', '21123', '21124', '21125', '21126', '21128', '21129', '21131', '21132', '21135', '21136', '21137', '21143', '21144', '21145', '21147', '21154', '21155', '21156', '21157', '21158', '21159', '21161', '21162', '21163', '21164', '21165', '21166', '21167', '21169', '21171', '21172', '21174', '21175', '21179', '21181', '21187', '21188', '21189', '21190', '21191', '21192', '21194', '21195', '21196', '21197', '21198', '21199', '21200', '21201', '21202', '21204', '21205', '21206', '21207', '21208', '21209', '21210', '21211', '21212', '21213', '21215', '21216', '21217', '21218', '21219', '21220', '21221', '21222', '21224', '21226', '21228', '21231', '21232', '21238', '21239', '21240', '21242', '21243', '21244', '21245', '21246', '21248', '21249', '21250', '21251', '21253', '21257', '21258', '21259', '21260', '21261', '21262', '21263', '21264', '21265', '21268', '21269', '21270', '21272', '21275', '21277', '21278', '21279', '21280', '21281', '21284', '21285', '21286', '21287', '21288', '21289', '21291', '21292', '21293', '21294', '21306', '21307', '21310', '21311', '21313', '21314', '21316', '21317', '21318', '21319', '21320', '21324', '21326', '21327', '21328', '21329', '21331', '21332', '21333', '21336', '21340', '21344', '21348', '21349', '21351', '21352', '21354', '21355', '21356', '21357', '21358', '21359', '21360', '21361', '21363', '21364', '21365', '21366', '21367', '21368', '21369', '21370', '21371', '21372', '21373', '21374', '21375', '21376', '21377', '21378', '21379', '21380', '21381', '21382', '21383', '21385', '21386', '21389', '21390', '21391', '21392', '21393', '21394', '21395', '21397', '21398', '21399', '21400', '21401', '21402', '21403', '21407', '21408', '21411', '21412', '21413', '21414', '21415', '21416', '21417', '21418', '21420', '21421', '21422', '21424', '21425', '21426', '21427', '21428', '21429', '21430', '21439', '21441', '21442', '21445', '21446', '21447', '21448', '21452', '21454', '21455', '21456', '21457', '21458', '21459', '21460', '21461', '21462', '21463', '21464', '21465', '21466', '21467', '21468', '21469', '21470', '21471', '21472', '21473', '21476', '21479', '21481', '21484', '21485', '21486', '21488', '21494', '21495', '21497', '21498', '21499', '21500', '21503', '21504', '21506', '21507', '21508', '21509', '21518', '21519', '21520', '21523', '21524', '21527', '21528', '21530', '21531', '21533', '21534', '21535', '21537', '21538', '21539', '21544', '21547', '21555', '21556', '21557', '21558', '21559', '21561', '21562', '21563', '21564', '21576', '21577', '21578', '21579', '21580', '21581', '21584', '21586', '21587', '21588', '21591', '21592', '21609', '21613', '21614', '21615', '21616', '21617', '21618', '21619', '21620', '21621', '21622', '21623', '21624', '21625', '21626', '21627', '21628', '21629', '21630', '21631', '21632', '21633', '21634', '21635', '21636', '21637', '21638', '21640', '21641', '21642', '21643', '21644', '21645', '21647', '21648', '21650', '21651', '21654', '21655', '21656', '21657', '21658', '21661', '21662', '21664', '21666', '21667', '21668', '21669', '21670', '21671', '21672', '21673', '21675', '21676', '21677', '21678', '21679', '21680', '21681', '21682', '21683', '21684', '21686', '21688', '21689', '21690', '21692', '21693', '21694', '21695', '21696', '21698', '21700', '21703', '21704', '21705', '21706', '21707', '21708', '21709', '21710', '21711', '21713', '21714', '21715', '21716', '21717', '21718', '21719', '21720', '21721', '21722', '21723', '21724', '21725', '21726', '21730', '21731', '21733', '21735', '21736', '21738', '21739', '21741', '21742', '21743', '21744', '21745', '21746', '21747', '21749', '21750', '21754', '21755', '21756', '21757', '21758', '21761', '21763', '21769', '21770', '21773', '21774', '21775', '21777', '21781', '21784', '21785', '21786', '21787', '21788', '21789', '21790', '21791', '21792', '21793', '21794', '21801', '21802', '21803', '21804', '21807', '21808', '21809', '21810', '21811', '21812', '21813', '21814', '21815', '21816', '21817', '21818', '21819', '21820', '21821', '21822', '21823', '21824', '21826', '21827', '21828', '21829', '21830', '21832', '21833', '21836', '21839', '21841', '21843', '21844', '21845', '21846', '21847', '21849', '21850', '21851', '21864', '21865', '21866', '21867', '21868', '21870', '21871', '21872', '21873', '21874', '21875', '21876', '21877', '21878', '21879', '21880', '21881', '21882', '21883', '21884', '21888', '21889', '21890', '21891', '21892', '21894', '21895', '21896', '21897', '21898', '21899', '21900', '21901', '21902', '21903', '21904', '21905', '21906', '21907', '21908', '21910', '21911', '21912', '21913', '21914', '21915', '21916', '21917', '21918', '21922', '21925', '21926', '21927', '21928', '21929', '21930', '21931', '21932', '21933', '21934', '21935', '21936', '21937', '21942', '21943', '21944', '21945', '21946', '21947', '21948', '21949', '21955', '21967', '21972', '21973', '21974', '21975', '21976', '21977', '21980', '21981', '21982', '21983', '21984', '21985', '21986', '21987', '21988', '21989', '21990', '21991', '21992', '21993', '22021', '22023', '22024', '22025', '22026', '22027', '22028', '22029', '22030', '22031', '22032', '22033', '22034', '22035', '22037', '22038', '22039', '22040', '22041', '22042', '22043', '22044', '22045', '22046', '22047', '22048', '22049', '22050', '22051', '22052', '22053', '22055', '22057', '22059', '22060', '22061', '22062', '22063', '22064', '22065', '22066', '22067', '22068', '22069', '22070', '22071', '22072', '22073', '22074', '22075', '22076', '22077', '22078', '22079', '22080', '22081', '22082', '22083', '22084', '22085', '22086', '22087', '22088', '22089', '22090', '22091', '22092', '22093', '22094', '22095', '22096', '22097', '22098', '22099', '22100', '22101', '22102', '22103', '22104', '22105', '22106', '22107', '22108', '22109', '22110', '22111', '22112', '22113', '22114', '22115', '22116', '22117', '22118', '22119', '22120', '22121', '22123', '22124', '22125', '22127', '22128', '22129', '22130', '22131', '22132', '22133', '22134', '22135', '22136', '22137', '22138', '22139', '22141', '22142', '22144', '22145', '22146', '22147', '22148', '22149', '22150', '22151', '22152', '22153', '22154', '22155', '22156', '22157', '22158', '22161', '22162', '22163', '22164', '22165', '22166', '22167', '22168', '22169', '22170', '22171', '22173', '22174', '22175', '22176', '22178', '22179', '22180', '22181', '22182', '22183', '22184', '22185', '22186', '22187', '22188', '22189', '22190', '22191', '22192', '22193', '22194', '22195', '22196', '22197', '22198', '22199', '22200', '22201', '22202', '22203', '22204', '22207', '22208', '22209', '22210', '22211', '22212', '22214', '22215', '22216', '22217', '22218', '22219', '22220', '22221', '22222', '22223', '22224', '22227', '22228', '22229', '22230', '22231', '22232', '22233', '22236', '22241', '22242', '22243', '22244', '22245', '22246', '22247', '22248', '22249', '22250', '22251', '22252', '22254', '22255', '22256', '22257', '22258', '22259', '22260', '22261', '22262', '22263', '22264', '22265', '22266', '22267', '22268', '22269', '22270', '22271', '22272', '22273', '22274', '22275', '22276', '22277', '22278', '22279', '22280', '22281', '22282', '22283', '22284', '22285', '22286', '22287', '22288', '22289', '22291', '22292', '22293', '22294', '22295', '22296', '22297', '22299', '22300', '22301', '22302', '22303', '22304', '22305', '22306', '22307', '22308', '22309', '22310', '22311', '22312', '22313', '22314', '22315', '22316', '22317', '22318', '22319', '22320', '22321', '22322', '22323', '22324', '22325', '22326', '22327', '22328', '22329', '22331', '22332', '22333', '22334', '22335', '22336', '22337', '22338', '22339', '22340', '22341', '22342', '22343', '22344', '22345', '22346', '22348', '22349', '22350', '22351', '22352', '22353', '22354', '22355', '22356', '22357', '22358', '22359', '22360', '22361', '22362', '22363', '22364', '22365', '22366', '22367', '22371', '22372', '22374', '22375', '22376', '22377', '22378', '22379', '22380', '22381', '22382', '22383', '22384', '22385', '22386', '22389', '22390', '22391', '22393', '22394', '22395', '22396', '22398', '22399', '22400', '22402', '22403', '22405', '22406', '22407', '22408', '22409', '22410', '22411', '22412', '22413', '22414', '22415', '22416', '22417', '22418', '22419', '22420', '22421', '22422', '22423', '22424', '22425', '22426', '22427', '22428', '22429', '22430', '22431', '22432', '22433', '22434', '22435', '22436', '22437', '22438', '22439', '22440', '22441', '22442', '22443', '22444', '22445', '22446', '22447', '22448', '22449', '22450', '22451', '22452', '22453', '22454', '22456', '22457', '22458', '22459', '22460', '22461', '22464', '22465', '22466', '22467', '22468', '22469', '22470', '22471', '22472', '22473', '22474', '22475', '22476', '22477', '22478', '22479', '22480', '22481', '22482', '22483', '22485', '22486', '22487', '22488', '22489', '22491', '22492', '22493', '22494', '22495', '22496', '22497', '22498', '22499', '22500', '22501', '22502', '22503', '22504', '22505', '22507', '22508', '22509', '22510', '22511', '22512', '22513', '22514', '22515', '22516', '22517', '22518', '22519', '22520', '22521', '22522', '22523', '22524', '22525', '22526', '22529', '22530', '22531', '22532', '22533', '22534', '22535', '22536', '22537', '22538', '22539', '22540', '22541', '22543', '22544', '22545', '22546', '22547', '22548', '22549', '22550', '22551', '22553', '22554', '22555', '22556', '22557', '22558', '22559', '22560', '22561', '22562', '22563', '22564', '22565', '22566', '22567', '22568', '22569', '22570', '22571', '22572', '22573', '22574', '22575', '22576', '22577', '22578', '22579', '22580', '22581', '22582', '22583', '22584', '22585', '22586', '22587', '22588', '22589', '22591', '22592', '22593', '22594', '22595', '22596', '22597', '22598', '22599', '22600', '22601', '22602', '22603', '22604', '22605', '22606', '22607', '22608', '22609', '22610', '22611', '22613', '22614', '22615', '22616', '22617', '22618', '22619', '22620', '22621', '22622', '22623', '22624', '22625', '22626', '22627', '22628', '22629', '22630', '22631', '22632', '22633', '22634', '22635', '22636', '22637', '22638', '22639', '22640', '22641', '22642', '22643', '22644', '22645', '22646', '22647', '22649', '22650', '22651', '22652', '22653', '22654', '22655', '22656', '22659', '22660', '22661', '22662', '22663', '22664', '22665', '22666', '22667', '22668', '22669', '22670', '22671', '22672', '22673', '22674', '22675', '22676', '22677', '22678', '22679', '22680', '22681', '22682', '22683', '22684', '22685', '22686', '22687', '22688', '22689', '22690', '22691', '22692', '22693', '22694', '22695', '22696', '22697', '22698', '22699', '22700', '22701', '22702', '22703', '22704', '22705', '22706', '22707', '22708', '22709', '22710', '22711', '22712', '22713', '22714', '22715', '22716', '22717', '22718', '22719', '22720', '22721', '22722', '22723', '22725', '22726', '22727', '22728', '22729', '22730', '22731', '22732', '22733', '22734', '22735', '22736', '22737', '22738', '22739', '22740', '22741', '22742', '22743', '22744', '22745', '22746', '22747', '22748', '22749', '22750', '22751', '22752', '22753', '22754', '22755', '22756', '22757', '22758', '22759', '22760', '22761', '22762', '22763', '22764', '22765', '22766', '22767', '22768', '22769', '22770', '22771', '22772', '22773', '22774', '22775', '22776', '22777', '22778', '22779', '22780', '22781', '22782', '22783', '22784', '22785', '22786', '22788', '22789', '22791', '22792', '22794', '22795', '22796', '22797', '22798', '22799', '22800', '22801', '22802', '22803', '22804', '22805', '22806', '22807', '22808', '22809', '22810', '22811', '22812', '22813', '22814', '22815', '22816', '22817', '22818', '22819', '22820', '22821', '22822', '22823', '22824', '22825', '22826', '22827', '22828', '22829', '22830', '22831', '22832', '22833', '22834', '22835', '22837', '22838', '22839', '22840', '22841', '22842', '22843', '22844', '22845', '22846', '22847', '22848', '22849', '22851', '22852', '22853', '22854', '22855', '22856', '22857', '22858', '22859', '22860', '22861', '22862', '22863', '22865', '22866', '22867', '22868', '22869', '22870', '22871', '22872', '22873', '22874', '22875', '22876', '22877', '22878', '22879', '22880', '22881', '22882', '22883', '22884', '22885', '22886', '22887', '22888', '22889', '22890', '22891', '22892', '22893', '22894', '22895', '22896', '22897', '22898', '22899', '22900', '22902', '22903', '22904', '22905', '22906', '22907', '22908', '22909', '22910', '22911', '22912', '22913', '22914', '22915', '22916', '22917', '22918', '22919', '22920', '22921', '22922', '22923', '22924', '22925', '22926', '22927', '22928', '22929', '22930', '22931', '22932', '22933', '22934', '22935', '22936', '22937', '22938', '22939', '22940', '22941', '22942', '22943', '22944', '22945', '22946', '22947', '22948', '22949', '22950', '22951', '22952', '22953', '22954', '22955', '22956', '22957', '22959', '22960', '22961', '22962', '22963', '22964', '22965', '22966', '22967', '22968', '22969', '22970', '22971', '22972', '22973', '22974', '22975', '22976', '22977', '22978', '22979', '22980', '22981', '22982', '22983', '22984', '22985', '22986', '22987', '22988', '22989', '22990', '22991', '22992', '22993', '22994', '22995', '22996', '22997', '22998', '22999', '23000', '23002', '23003', '23004', '23005', '23006', '23007', '23008', '23009', '23010', '23012', '23013', '23014', '23015', '23016', '23017', '23018', '23019', '23020', '23021', '23022', '23023', '23024', '23025', '23026', '23027', '23028', '23029', '23031', '23032', '23033', '23034', '23035', '23036', '23037', '23038', '23039', '23040', '23041', '23042', '23043', '23044', '23045', '23046', '23047', '23048', '23049', '23050', '23051', '23052', '23053', '23054', '23055', '23056', '23057', '23058', '23060', '23061', '23064', '23065', '23066', '23067', '23068', '23069', '23070', '23071', '23072', '23073', '23074', '23075', '23076', '23077', '23078', '23079', '23080', '23081', '23082', '23083', '23084', '23085', '23086', '23087', '23088', '23089', '23090', '23091', '23092', '23093', '23094', '23096', '23099', '23100', '23101', '23102', '23103', '23104', '23106', '23107', '23108', '23109', '23110', '23111', '23112', '23113', '23114', '23115', '23116', '23117', '23118', '23119', '23120', '23121', '23122', '23123', '23124', '23125', '23126', '23127', '23128', '23129', '23130', '23131', '23132', '23133', '23134', '23135', '23136', '23137', '23138', '23139', '23140', '23141', '23142', '23143', '23144', '23145', '23146', '23147', '23148', '23149', '23150', '23151', '23152', '23153', '23154', '23155', '23156', '23157', '23158', '23159', '23160', '23161', '23162', '23163', '23164', '23165', '23166', '23167', '23168', '23169', '23170', '23171', '23172', '23173', '23174', '23175', '23176', '23177', '23178', '23179', '23180', '23181', '23182', '23183', '23184', '23185', '23186', '23187', '23188', '23189', '23190', '23191', '23192', '23193', '23194', '23196', '23197', '23198', '23199', '23200', '23201', '23202', '23203', '23204', '23205', '23206', '23207', '23208', '23209', '23210', '23211', '23212', '23213', '23214', '23215', '23216', '23217', '23218', '23219', '23220', '23221', '23222', '23223', '23224', '23225', '23226', '23227', '23228', '23229', '23230', '23231', '23232', '23233', '23234', '23235', '23236', '23237', '23238', '23239', '23240', '23241', '23242', '23243', '23244', '23245', '23247', '23249', '23250', '23251', '23252', '23253', '23254', '23255', '23256', '23263', '23264', '23265', '23266', '23267', '23268', '23269', '23270', '23271', '23272', '23273', '23274', '23275', '23280', '23281', '23282', '23283', '23284', '23285', '23286', '23287', '23288', '23289', '23290', '23291', '23292', '23293', '23294', '23295', '23296', '23297', '23298', '23299', '23300', '23301', '23302', '23303', '23304', '23305', '23306', '23307', '23308', '23309', '23310', '23311', '23312', '23313', '23314', '23315', '23316', '23317', '23318', '23319', '23320', '23321', '23322', '23323', '23324', '23325', '23326', '23327', '23328', '23329', '23330', '23331', '23332', '23333', '23334', '23335', '23336', '23337', '23338', '23339', '23340', '23341', '23342', '23343', '23344', '23345', '23346', '23347', '23348', '23349', '23350', '23351', '23352', '23353', '23354', '23355', '23356', '23357', '23358', '23359', '23360', '23365', '23366', '23367', '23368', '23369', '23370', '23371', '23372', '23373', '23374', '23375', '23376', '23377', '23378', '23379', '23380', '23381', '23382', '23388', '23389', '23390', '23391', '23392', '23393', '23394', '23395', '23396', '23397', '23398', '23399', '23400', '23401', '23402', '23403', '23404', '23405', '23406', '23407', '23408', '23409', '23410', '23411', '23412', '23413', '23414', '23415', '23416', '23417', '23418', '23419', '23420', '23421', '23422', '23423', '23424', '23425', '23426', '23427', '23428', '23429', '23430', '23431', '23432', '23433', '23434', '23435', '23436', '23437', '23438', '23439', '23440', '23441', '23442', '23444', '23445', '23446', '23447', '23448', '23449', '23451', '23452', '23453', '23454', '23455', '23456', '23457', '23458', '23459', '23460', '23461', '23462', '23463', '23464', '23465', '23466', '23467', '23468', '23469', '23470', '23471', '23472', '23473', '23474', '23475', '23476', '23477', '23478', '23479', '23480', '23481', '23482', '23483', '23484', '23485', '23486', '23487', '23489', '23490', '23491', '23492', '23493', '23494', '23495', '23496', '23497', '23498', '23499', '23500', '23501', '23502', '23503', '23504', '23505', '23506', '23507', '23508', '23509', '23510', '23511', '23512', '23513', '23514', '23515', '23516', '23517', '23518', '23519', '23520', '23521', '23522', '23523', '23524', '23525', '23526', '23527', '23528', '23529', '23530', '23531', '23532', '23533', '23534', '23535', '23536', '23537', '23538', '23539', '23540', '23541', '23542', '23543', '23544', '23545', '23546', '23547', '23548', '23549', '23550', '23551', '23552', '23553', '23554', '23555', '23556', '23557', '23558', '23559', '23560', '23561', '23562', '23564', '23565', '23566', '23567', '23568', '23569', '23570', '23571', '23574', '23575', '23576', '23578', '23579', '23580', '23581', '23582', '23583', '23597', '23598', '23630', '23660', '23661', '23664', '23681', '23691', '23692', '23694', '23695', '23697', '23702', '23843', '35001G', '35001W', '35004B', '35004C', '35004G', '35004P', '35095A', '35095B', '35241', '35265', '35271S', '35400', '35443', '35471D', '35591T', '35597A', '35597B', '35597D', '35598A', '35598B', '35598C', '35598D', '35599B', '35599D', '35607A', '35607B', '35610A', '35610B', '35610C', '35637A', '35637C', '35638A', '35638B', '35645', '35646', '35647', '35648', '35649', '35650', '35651', '35653', '35809A', '35809B', '35810A', '35810B', '35815P', '35816P', '35817P', '35818B', '35818P', '35819B', '35819P', '35832', '35833P', '35909A', '35909B', '35910A', '35910B', '35911A', '35911B', '35912B', '35913B', '35914', '35915B', '35915C', '35916A', '35916B', '35916C', '35920', '35921', '35922', '35923', '35924', '35933', '35953', '35954', '35957', '35958', '35961', '35964', '35965', '35966', '35967', '35968', '35970', '35971', '35972', '37327', '37330', '37333', '37340', '37342', '37343', '37351', '37370', '37379A', '37413', '37423', '37444A', '37444B', '37444C', '37446', '37447', '37448', '37449', '37450', '37461', '37462E', '37464', '37467', '37468', '37471', '37475', '37476', '37479B', '37479P', '37482P', '37487B', '37488A', '37489A', '37489B', '37489C', '37489D', '37491B', '37491C', '37491D', '37495', '37500', '37501', '37503', '37509', '40001', '40003', '40005B', '40016', '40046A', '44089A', '44089C', '44091A', '44092B', '44092C', '44228', '44234', '44235', '44236', '44242A', '44242B', '44265', '45013', '46000M', '46000P', '46000R', '46000S', '46000U', '46115B', '46118', '46126A', '46138B', '46775D', '46776A', '46776B', '46776C', '46776D', '46776E', '46776F', '47013A', '47013C', '47016', '47021G', '47310M', '47341A', '47341B', '47343A', '47344B', '47348A', '47351B', '47367B', '47369A', '47369B', '47420', '47421', '47422', '47469', '47471', '47480', '47481', '47503A', '47503H', '47503J', '47504H', '47504K', '47518F', '47556B', '47559B', '47563A', '47566', '47566B', '47567B', '47570B', '47574A', '47574B', '47578A', '47579', '47580', '47585A', '47586A', '47589', '47590A', '47590B', '47591B', '47591D', '47593A', '47593B', '47594A', '47594B', '47599A', '47599B', '48111', '48116', '48129', '48138', '48173C', '48184', '48185', '48187', '48188', '48194', '51008', '51014A', '51014C', '51014L', '51020A', '51020B', '62018', '62043B', '62074B', '62086A', '62094B', '62096A', '62096B', '62097B', '70006', '70007', '71038', '71050', '71053', '71101E', '71143', '71215', '71270', '71279', '71403', '71406C', '71459', '71477', '71495A', '71495B', '71496A', '71496B', '71510', '72024U', '72051S', '72122', '72127', '72128', '72130', '72131', '72132', '72133', '72134', '72140E', '72225C', '72232', '72349B', '72351A', '72351B', '72369A', '72586', '72598', '72709', '72741', '72760B', '72780', '72783', '72798C', '72799C', '72799E', '72799F', '72800B', '72800C', '72800D', '72800E', '72801C', '72801D', '72801G', '72802A', '72802B', '72802C', '72803A', '72807A', '72807B', '72807C', '72811', '72812', '72815', '72816', '72817', '72818', '72819', '72821', '75011', '75013B', '75049L', '75131', '75172', '75178', '77079', '77101A', '78033', '78034B', '78124', '79000', '79026B', '79030D', '79030G', '79051A', '79062D', '79063C', '79063D', '79066K', '79067', '79071B', '79144B', '79144C', '79149B', '79151B', '79157B', '79157V', '79160', '79161A', '79163', '79164', '79190A', '79190B', '79190D', '79191B', '79191C', '79191D', '79192A', '79302M', '79320', '79321', '79323B', '79323P', '79323W', '79329', '79331', '79336', '79337', '79403', '79406', '81950B', '81950V', '81952B', '81952V', '81953B', '81953P', '82001S', '82011A', '82011B', '82011C', '82095', '82482', '82483', '82484', '82486', '82494L', '82551', '82552', '82567', '82578', '82580', '82581', '82582', '82583', '82599', '82600', '82605', '82613A', '82613B', '82613C', '82613D', '82615', '82616B', '82616C', '84006', '84012', '84016', '84029E', '84029G', '84030E', '84031A', '84031B', '84032A', '84032B', '84033', '84050', '84051', '84077', '84078A', '84086B', '84086C', '84192', '84199', '84201B', '84201C', '84206A', '84206B', '84206C', '84212', '84218', '84226', '84227', '84228', '84231', '84247E', '84247G', '84247K', '84247L', '84247N', '84249A', '84251B', '84251C', '84251G', '84279B', '84279P', '84306', '84313B', '84313C', '84341B', '84347', '84352', '84356', '84358', '84360', '84375', '84378', '84380', '84387A', '84388', '84402B', '84406B', '84415A', '84415B', '84422', '84429A', '84452', '84457', '84459A', '84459B', '84461', '84462', '84465', '84466', '84497', '84499', '84507B', '84507C', '84508A', '84508B', '84508C', '84509A', '84509B', '84509C', '84509E', '84509G', '84510A', '84510C', '84510E', '84519A', '84519B', '84520B', '84522', '84527', '84531A', '84531B', '84534B', '84535A', '84535B', '84536A', '84536B', '84539', '84548', '84549', '84550', '84551', '84558A', '84559A', '84559B', '84562A', '84563A', '84563B', '84568', '84569A', '84569B', '84569C', '84569D', '84575A', '84576', '84580', '84581', '84584', '84592', '84593', '84595E', '84596B', '84596E', '84596F', '84596G', '84596J', '84596L', '84597B', '84597C', '84598', '84600', '84609', '84613A', '84613C', '84614A', '84616', '84617', '84620', '84625A', '84625C', '84629', '84631', '84632', '84637', '84638', '84658', '84659A', '84660A', '84660B', '84660C', '84661A', '84661B', '84661C', '84663A', '84665', '84666', '84673A', '84673B', '84674', '84675', '84678', '84679', '84683', '84685', '84686', '84687', '84688', '84689', '84691', '84692', '84705C', '84706D', '84706F', '84707A', '84707B', '84708B', '84709B', '84711A', '84711B', '84712B', '84715', '84723', '84725', '84731', '84732B', '84732D', '84741C', '84743C', '84744', '84745A', '84745B', '84746', '84748', '84750A', '84750B', '84751B', '84754', '84755', '84760S', '84763', '84766', '84773', '84789', '84792', '84795B', '84795C', '84796A', '84796B', '84798A', '84798B', '84799', '84800L', '84800M', '84800S', '84801A', '84801B', '84802A', '84802B', '84803B', '84804A', '84804B', '84805A', '84805B', '84806A', '84806B', '84809A', '84809B', '84813', '84816', '84817', '84818', '84819', '84820', '84821', '84823', '84824', '84826', '84827', '84828', '84832', '84836', '84839', '84840', '84842', '84843', '84846A', '84847', '84849A', '84849B', '84849D', '84854', '84856S', '84857B', '84857C', '84858C', '84859A', '84859B', '84859C', '84865', '84870B', '84870C', '84872A', '84873A', '84874B', '84875B', '84875D', '84876B', '84876D', '84877A', '84877B', '84877D', '84879', '84880', '84881', '84882', '84884A', '84898F', '84905', '84906', '84907', '84910A', '84912A', '84912B', '84913A', '84913B', '84915', '84916', '84917', '84919', '84920', '84921', '84922', '84924A', '84924F', '84925D', '84925F', '84926A', '84926D', '84926E', '84926F', '84927A', '84927D', '84927E', '84927F', '84929', '84931A', '84931B', '84944', '84945', '84946', '84947', '84949', '84950', '84951A', '84951B', '84952A', '84952B', '84952C', '84963A', '84963B', '84968A', '84968B', '84968C', '84968D', '84968E', '84968F', '84969', '84970L', '84970S', '84971S', '84974', '84975', '84976', '84978', '84984A', '84984B', '84984D', '84985A', '84987', '84988', '84989A', '84990', '84991', '84992', '84993A', '84993B', '84997A', '84997B', '84997C', '84997D', '85006', '85008', '85014A', '85014B', '85015', '85016', '85017A', '85017B', '85017C', '85018D', '85019A', '85019B', '85019C', '85020', '85023B', '85023C', '85024B', '85024C', '85025B', '85025C', '85026B', '85027L', '85028L', '85028S', '85030', '85031A', '85031B', '85031C', '85032A', '85032B', '85032C', '85032D', '85034A', '85034B', '85034C', '85035A', '85035B', '85035C', '85036A', '85036B', '85036C', '85038', '85039A', '85039B', '85039C', '85040A', '85040B', '85042', '85045', '85047', '85048', '85049A', '85049B', '85049C', '85049D', '85049E', '85049F', '85049G', '85049H', '85053', '85054', '85055', '85059', '85061W', '85062', '85063', '85064', '85065', '85066', '85067', '85068', '85071A', '85071B', '85071C', '85071D', '85078', '85084', '85086A', '85087', '85088', '85089', '85092', '85093', '85094', '85095', '85096', '85098B', '85099B', '85099C', '85099F', '85103', '85104', '85106', '85107', '85109', '85111', '85114A', '85114B', '85114C', '85116', '85118', '85123A', '85124B', '85124C', '85125', '85126', '85127', '85129B', '85129C', '85129D', '85130A', '85130B', '85130C', '85130D', '85131A', '85131B', '85131C', '85131D', '85132A', '85132B', '85132C', '85135A', '85135B', '85135C', '85136A', '85136B', '85136C', '85141', '85144', '85145', '85146', '85150', '85152', '85159A', '85159B', '85160B', '85161', '85163A', '85163B', '85167B', '85168B', '85169A', '85169B', '85169C', '85169D', '85170A', '85170B', '85170C', '85170D', '85172', '85173', '85174', '85175', '85176', '85177', '85178', '85179A', '85179C', '85180A', '85180B', '85183A', '85183B', '85184C', '85185B', '85185D', '85186A', '85186C', '85187', '85188A', '85188B', '85189', '85194L', '85194S', '85195', '85197', '85198', '85199L', '85199S', '85200', '85202', '85203', '85204', '85205B', '85206A', '85206B', '85208', '85211', '85212', '85213', '85214', '85215', '85216', '85224', '85225', '85227', '85230A', '85230B', '85230E', '85230F', '85230G', '85231B', '85231G', '85232A', '85232B', '85232D', '90000A', '90000B', '90000D', '90001A', '90001B', '90001C', '90001D', '90002D', '90003B', '90003C', '90003D', '90003E', '90010A', '90010B', '90010E', '90011A', '90011B', '90012A', '90012B', '90013A', '90013C', '90014A', '90014B', '90014C', '90016A', '90016B', '90018A', '90018B', '90018C', '90019A', '90019B', '90019C', '90021', '90022', '90023', '90024B', '90024C', '90024D', '90024F', '90025A', '90025F', '90026A', '90026B', '90026C', '90026D', '90027A', '90027D', '90028', '90029', '90030A', '90030B', '90030C', '90031', '90032', '90033', '90035A', '90035C', '90036A', '90036B', '90036C', '90036D', '90036E', '90036F', '90037B', '90038A', '90038B', '90038C', '90039A', '90039B', '90039C', '90039D', '90040A', '90040B', '90040C', '90041', '90042A', '90043', '90046', '90048', '90049', '90050', '90051', '90054', '90055', '90057', '90058A', '90058B', '90059A', '90059B', '90059C', '90059D', '90059E', '90059F', '90060B', '90060D', '90062', '90063A', '90063B', '90064A', '90064B', '90065A', '90065B', '90067A', '90069', '90070', '90071', '90072', '90073', '90074', '90076', '90078', '90079', '90081A', '90081C', '90082A', '90082B', '90082D', '90083', '90084', '90085', '90086', '90087', '90089', '90093', '90094', '90096', '90098', '90099', '90100', '90101', '90102', '90103', '90104', '90108', '90114', '90116', '90118', '90119', '90120B', '90120C', '90120D', '90122A', '90122B', '90122C', '90123A', '90123B', '90123C', '90123D', '90124A', '90124B', '90124C', '90125A', '90125B', '90125C', '90125D', '90125E', '90128B', '90129A', '90129B', '90129C', '90129D', '90129E', '90129F', '90130A', '90130B', '90131', '90133', '90135', '90136', '90138', '90141A', '90141B', '90141C', '90141D', '90141E', '90142D', '90143', '90144', '90145', '90146', '90147', '90148', '90149', '90151', '90152A', '90152B', '90152C', '90154', '90155', '90156', '90157', '90158', '90159', '90160A', '90160B', '90160C', '90160D', '90161A', '90161B', '90161C', '90161D', '90162A', '90162B', '90162C', '90162D', '90163A', '90163B', '90164A', '90164B', '90165B', '90166', '90167', '90168', '90169', '90170', '90173', '90174', '90175A', '90175C', '90175D', '90176A', '90176B', '90176C', '90176D', '90176E', '90177A', '90177B', '90177C', '90177D', '90177E', '90178A', '90178B', '90179A', '90179C', '90180A', '90180B', '90181A', '90182C', '90183A', '90183C', '90184A', '90184B', '90184C', '90185A', '90185B', '90185C', '90185D', '90186A', '90186B', '90187B', '90188', '90189A', '90190A', '90190B', '90190C', '90191', '90192', '90194', '90195A', '90195B', '90196A', '90196B', '90197B', '90198A', '90198B', '90199A', '90199B', '90199C', '90199D', '90200A', '90200B', '90200C', '90200D', '90200E', '90201A', '90201B', '90201C', '90201D', '90202A', '90202B', '90202C', '90202D', '90204', '90205A', '90205C', '90206A', '90206C', '90208', '90209A', '90209B', '90209C', '90210A', '90210B', '90210C', '90210D', '90211A', '90211B', '90212B', '90212C', '90214A', '90214B', '90214C', '90214D', '90214E', '90214F', '90214G', '90214H', '90214I', '90214J', '90214K', '90214L', '90214M', '90214N', '90214O', '90214P', '90214R', '90214S', '90214T', '90214U', '90214V', '90214W', '90214Y', '90214Z', 'BANK CHARGES', 'C2', 'CRUK', 'D', 'DOT', 'M', 'PADS', 'POST'])"
            ]
          },
          "metadata": {},
          "execution_count": 40
        }
      ]
    },
    {
      "cell_type": "code",
      "metadata": {
        "id": "BJyuZm-6UKeP",
        "colab": {
          "base_uri": "https://localhost:8080/"
        },
        "outputId": "e58c2947-a775-4bfa-82ae-f15749b450db"
      },
      "source": [
        "# Aqui vamos verificar o produto mais semelhante\n",
        "# ao produto de código 23188.\n",
        "\n",
        "most_similar('23188')"
      ],
      "execution_count": null,
      "outputs": [
        {
          "output_type": "stream",
          "name": "stdout",
          "text": [
            "Most similar to: ['VINTAGE  2 METRE FOLDING RULER']\n",
            "['GIRAFFE WOODEN RULER'] 0.7502602934837341\n",
            "['BICYCLE PUNCTURE REPAIR KIT '] 0.7451046705245972\n",
            "['CLASSIC BICYCLE CLIPS '] 0.7391630411148071\n",
            "['BUNDLE OF 3 SCHOOL EXERCISE BOOKS  '] 0.7165471911430359\n",
            "['TRADITIONAL PICK UP STICKS GAME '] 0.7159835696220398\n",
            "['REVOLVER WOODEN RULER '] 0.7125531435012817\n",
            "['SNACK TRAY RED GINGHAM'] 0.7121554613113403\n",
            "['TRADTIONAL ALPHABET STAMP SET'] 0.7099510431289673\n",
            "['PLAYING CARDS I LOVE LONDON '] 0.7048859000205994\n",
            "['BUNDLE OF 3 ALPHABET EXERCISE BOOKS'] 0.6992409825325012\n"
          ]
        }
      ]
    },
    {
      "cell_type": "markdown",
      "metadata": {
        "id": "G8LcgPfnCw4m"
      },
      "source": [
        "## Passo 5.2: Sugestão de produtos\n",
        "\n",
        "Agora sim, podemos fazer nosso sistema de sugestões de compras. Na variável orders_val temos os conjuntos de itens em cada compra, de cada cliente. Por exemplo, abaixo, podemos listar as compras da ordem número 32, no código abaixo:"
      ]
    },
    {
      "cell_type": "code",
      "metadata": {
        "id": "41eY2zY1UjIT",
        "colab": {
          "base_uri": "https://localhost:8080/"
        },
        "outputId": "88543bdd-9ab4-4bc6-e489-f4c4ef8b2fc4"
      },
      "source": [
        "# Lista os códigos dos produtos comprados\n",
        "# na ordem de compras número 32.\n",
        "\n",
        "orders_val[32]"
      ],
      "execution_count": null,
      "outputs": [
        {
          "output_type": "execute_result",
          "data": {
            "text/plain": [
              "['84997C',\n",
              " '84997D',\n",
              " 'POST',\n",
              " '84997B',\n",
              " '84997A',\n",
              " '84997D',\n",
              " '84997A',\n",
              " '84997C',\n",
              " 'POST',\n",
              " '22488',\n",
              " '82578',\n",
              " '82580',\n",
              " '82581',\n",
              " '22467',\n",
              " '84997D',\n",
              " '84997C',\n",
              " '84997A',\n",
              " 'POST',\n",
              " '22467',\n",
              " '84997D',\n",
              " '84997C',\n",
              " 'POST',\n",
              " '84997D',\n",
              " 'POST',\n",
              " '84997C',\n",
              " '84997A',\n",
              " 'POST',\n",
              " 'POST',\n",
              " '84997C',\n",
              " '84997A',\n",
              " '84997D',\n",
              " 'POST',\n",
              " '84997D',\n",
              " 'POST',\n",
              " '84997C',\n",
              " '84997D',\n",
              " '84997A',\n",
              " 'POST']"
            ]
          },
          "metadata": {},
          "execution_count": 42
        }
      ]
    },
    {
      "cell_type": "markdown",
      "metadata": {
        "id": "jaQ58JsNDY5i"
      },
      "source": [
        "Para sugerir compras, basta recuperarmos os vetores de embedding de cada um desses itens de uma ordem de compra, calcular um vetor médio (soma todos vetores e divide pela quantidade) e buscar os produtos mais semelhantes, como fizemos antes!"
      ]
    },
    {
      "cell_type": "code",
      "metadata": {
        "id": "9Me8QvWIVXi-"
      },
      "source": [
        "def get_suggestions(orders):\n",
        "  ''' Nesta função, passa-se como argumento uma lista\n",
        "      de códigos de produtos, que representa as compras\n",
        "      de um cliente, em um determinado momento. Com base\n",
        "      nos embeddings desses itens, calculamos um vetor\n",
        "      médio, que captura a \"semântica\" das compras e\n",
        "      baseado nesse vetor, buscamos os produtos mais\n",
        "      similares para sugerir. Apenas sugerimos os\n",
        "      produtos que já não estiverem na lista.\n",
        "  '''\n",
        "  # Esse será o array que armazenará o embedding médio\n",
        "  v = np.zeros((50))\n",
        "\n",
        "  # Essa variável vai receber a quantidade de produtos,\n",
        "  # para calcular a média mais tarde.\n",
        "  count = 0\n",
        "\n",
        "  # Aqui mostramos as descrições dos produtos já na lista\n",
        "  # para facilitar a conferência.\n",
        "  print('Orders so far:')\n",
        "  for product in orders:\n",
        "    print(products_dict[product])\n",
        "    # Para cada produto no embedding (aqui testamos,\n",
        "    # para evitar incluir um produto que não esteja\n",
        "    # no embedding treinado, pois isso geraria um erro)\n",
        "    if product in model.wv:\n",
        "      # somamos o vetor de embedding daquele produto\n",
        "      # no array v\n",
        "      v += model.wv[product]\n",
        "      # e contamos +1 em count\n",
        "      count += 1\n",
        "  # Dividmos o resultado por count para calcular\n",
        "  # o vetor médio, no espaço de embeddings\n",
        "  v /= count\n",
        "  # E por fim buscamos os 10 produtos mais semelhantes\n",
        "  # como fizemos originalmente.\n",
        "  s = model.similar_by_vector(v)\n",
        "  print('Suggestions:')\n",
        "  for product, prob in s:\n",
        "    # Mostramos apenas os produtos que já não estiverem\n",
        "    # na lista original.\n",
        "    if product not in orders:\n",
        "      # Mostramos as descrições para facilitar a leitura\n",
        "      print(products_dict[product], prob)"
      ],
      "execution_count": null,
      "outputs": []
    },
    {
      "cell_type": "markdown",
      "metadata": {
        "id": "-i31ZVGuFCH7"
      },
      "source": [
        "Abaixo testamos o código de sugestões definido acima."
      ]
    },
    {
      "cell_type": "code",
      "metadata": {
        "id": "MEku0QXUXhxp",
        "colab": {
          "base_uri": "https://localhost:8080/"
        },
        "outputId": "459085c6-d4aa-41cd-b461-342365a82c8c"
      },
      "source": [
        "get_suggestions(orders_val[32])"
      ],
      "execution_count": null,
      "outputs": [
        {
          "output_type": "stream",
          "name": "stdout",
          "text": [
            "Orders so far:\n",
            "['CHILDRENS CUTLERY POLKADOT BLUE']\n",
            "['CHILDRENS CUTLERY POLKADOT PINK']\n",
            "['POSTAGE']\n",
            "['CHILDRENS CUTLERY RETROSPOT RED ']\n",
            "['CHILDRENS CUTLERY POLKADOT GREEN ']\n",
            "['CHILDRENS CUTLERY POLKADOT PINK']\n",
            "['CHILDRENS CUTLERY POLKADOT GREEN ']\n",
            "['CHILDRENS CUTLERY POLKADOT BLUE']\n",
            "['POSTAGE']\n",
            "['NATURAL SLATE RECTANGLE CHALKBOARD']\n",
            "['KITCHEN METAL SIGN']\n",
            "['BATHROOM METAL SIGN']\n",
            "['TOILET METAL SIGN']\n",
            "['GUMBALL COAT RACK']\n",
            "['CHILDRENS CUTLERY POLKADOT PINK']\n",
            "['CHILDRENS CUTLERY POLKADOT BLUE']\n",
            "['CHILDRENS CUTLERY POLKADOT GREEN ']\n",
            "['POSTAGE']\n",
            "['GUMBALL COAT RACK']\n",
            "['CHILDRENS CUTLERY POLKADOT PINK']\n",
            "['CHILDRENS CUTLERY POLKADOT BLUE']\n",
            "['POSTAGE']\n",
            "['CHILDRENS CUTLERY POLKADOT PINK']\n",
            "['POSTAGE']\n",
            "['CHILDRENS CUTLERY POLKADOT BLUE']\n",
            "['CHILDRENS CUTLERY POLKADOT GREEN ']\n",
            "['POSTAGE']\n",
            "['POSTAGE']\n",
            "['CHILDRENS CUTLERY POLKADOT BLUE']\n",
            "['CHILDRENS CUTLERY POLKADOT GREEN ']\n",
            "['CHILDRENS CUTLERY POLKADOT PINK']\n",
            "['POSTAGE']\n",
            "['CHILDRENS CUTLERY POLKADOT PINK']\n",
            "['POSTAGE']\n",
            "['CHILDRENS CUTLERY POLKADOT BLUE']\n",
            "['CHILDRENS CUTLERY POLKADOT PINK']\n",
            "['CHILDRENS CUTLERY POLKADOT GREEN ']\n",
            "['POSTAGE']\n",
            "Suggestions:\n",
            "['CHILDRENS CUTLERY CIRCUS PARADE'] 0.8136934041976929\n",
            "['CHILDRENS CUTLERY SPACEBOY '] 0.7963977456092834\n",
            "['CHILDRENS CUTLERY DOLLY GIRL '] 0.7731815576553345\n",
            "['WOODLAND  HEIGHT CHART STICKERS '] 0.5507212281227112\n",
            "['PICNIC BOXES SET OF 3 RETROSPOT '] 0.5448473691940308\n",
            "['GREEN POLKADOT PLATE '] 0.5387856364250183\n"
          ]
        }
      ]
    },
    {
      "cell_type": "code",
      "metadata": {
        "id": "-DzmHZYJVu5N",
        "colab": {
          "base_uri": "https://localhost:8080/"
        },
        "outputId": "31f71960-4fd7-4fe4-9b4f-03da4053be2d"
      },
      "source": [
        "get_suggestions(orders_val[67])"
      ],
      "execution_count": null,
      "outputs": [
        {
          "output_type": "stream",
          "name": "stdout",
          "text": [
            "Orders so far:\n",
            "['ANTIQUE SILVER TEA GLASS ENGRAVED']\n",
            "['VINTAGE BILLBOARD LOVE/HATE MUG']\n",
            "['MIRROR LOVE BIRD T-LIGHT HOLDER']\n",
            "['REVOLVER WOODEN RULER ']\n",
            "['BATHROOM METAL SIGN ']\n",
            "['MIRROR LOVE BIRD T-LIGHT HOLDER']\n",
            "['EASTER TIN CHICKS IN GARDEN']\n",
            "['FOLDING UMBRELLA CHOCOLATE POLKADOT']\n",
            "['SET OF 3 BIRD LIGHT PINK FEATHER ']\n",
            "['PLASTERS IN TIN SPACEBOY']\n",
            "['PLASTERS IN TIN SKULLS']\n",
            "['PLASTERS IN TIN VINTAGE PAISLEY ']\n",
            "['PLASTERS IN TIN WOODLAND ANIMALS']\n",
            "['WORLD WAR 2 GLIDERS ASSTD DESIGNS']\n",
            "['3 STRIPEY MICE FELTCRAFT']\n",
            "['FELTCRAFT BUTTERFLY HEARTS']\n",
            "['FELTCRAFT 6 FLOWER FRIENDS']\n",
            "['MAKE YOUR OWN MONSOON CARD KIT']\n",
            "['MAKE YOUR OWN PLAYTIME CARD KIT']\n",
            "['MAKE YOUR OWN FLOWERPOWER CARD KIT']\n",
            "['TOOL BOX SOFT TOY ']\n",
            "['POPART WOODEN PENCILS ASST']\n",
            "['CHOCOLATE CALCULATOR']\n",
            "['FELTCRAFT DOLL EMILY']\n",
            "['SET/6 PURPLE BUTTERFLY T-LIGHTS']\n",
            "['SET/10 RED POLKADOT PARTY CANDLES']\n",
            "['FELTCRAFT DOLL ROSIE']\n",
            "['FELTCRAFT CUSHION RABBIT']\n",
            "['FELTCRAFT BOY JEAN-PAUL KIT']\n",
            "['FELTCRAFT PRINCESS CHARLOTTE DOLL']\n",
            "['FELTCRAFT CUSHION BUTTERFLY']\n",
            "['RETROSPOT TEA SET CERAMIC 11 PC ']\n",
            "[\"DOCTOR'S BAG SOFT TOY\"]\n",
            "['TREASURE TIN GYMKHANA DESIGN']\n",
            "['BUBBLEGUM RING ASSORTED']\n",
            "['BUNDLE OF 3 ALPHABET EXERCISE BOOKS']\n",
            "['GLITTER BUTTERFLY CLIPS']\n",
            "['DOG TOY WITH PINK CROCHET SKIRT']\n",
            "['SWALLOW SQUARE TISSUE BOX']\n",
            "['ASSORTED COLOURS SILK FAN']\n",
            "['PAPER CHAIN KIT RETROSPOT']\n",
            "['WASH BAG VINTAGE ROSE PAISLEY']\n",
            "['SET 7 BABUSHKA NESTING BOXES']\n",
            "['RED RETROSPOT MINI CASES']\n",
            "['JUMBO STORAGE BAG SUKI']\n",
            "['BABY MOUSE RED GINGHAM DRESS']\n",
            "['FELTCRAFT GIRL NICOLE KIT']\n",
            "['FELTCRAFT GIRL AMELIE KIT']\n",
            "['PINK GINGHAM CAT WITH SCARF']\n",
            "['RED GINGHAM TEDDY BEAR ']\n",
            "['BAG 250g SWIRLY MARBLES']\n",
            "['CHRISTMAS CRAFT WHITE FAIRY ']\n",
            "['CHRISTMAS CRAFT LITTLE FRIENDS']\n",
            "['CHRISTMAS CRAFT TREE TOP ANGEL']\n",
            "['BOX OF 6 MINI VINTAGE CRACKERS']\n",
            "['BUNDLE OF 3 RETRO NOTE BOOKS']\n",
            "['BUNDLE OF 3 ALPHABET EXERCISE BOOKS']\n",
            "['RATTLE SNAKE EGGS']\n",
            "['ROLL WRAP VINTAGE CHRISTMAS']\n",
            "[\"ROLL WRAP 50'S CHRISTMAS\"]\n",
            "['TRAVEL SEWING KIT']\n",
            "['VINTAGE DOILY TRAVEL SEWING KIT']\n",
            "['PINK UNION JACK  PASSPORT COVER ']\n",
            "['VIP HOLIDAY PURSE']\n",
            "['SET OF 3 PANTRY WOODEN SPOONS']\n",
            "['SET OF 20 VINTAGE CHRISTMAS NAPKINS']\n",
            "['PACK OF 6 HANDBAG GIFT BOXES']\n",
            "['PACK OF 6 SWEETIE GIFT BOXES']\n",
            "['SET OF 2 TEA TOWELS APPLE AND PEARS']\n",
            "['EMBROIDERED RIBBON REEL RUBY ']\n",
            "[\"PAPER CHAIN KIT 50'S CHRISTMAS \"]\n",
            "['PAPER CHAIN KIT VINTAGE CHRISTMAS']\n",
            "['LUNCH BAG PAISLEY PARK  ']\n",
            "['ROSE 3 WICK MORRIS BOX CANDLE']\n",
            "['3 ROSE MORRIS BOXED CANDLES']\n",
            "['LAUREL HEART ANTIQUE SILVER']\n",
            "['LAUREL STAR ANTIQUE SILVER ']\n",
            "['LAUREL HEART ANTIQUE GOLD']\n",
            "['CHRISTMAS TREE PAINTED ZINC ']\n",
            "['REINDEER HEART DECORATION GOLD']\n",
            "['CHRISTMAS METAL TAGS ASSORTED ']\n",
            "['GARLAND WITH STARS AND BELLS']\n",
            "['GLITTER HEART GARLAND WITH BELLS ']\n",
            "['DOORMAT UNION FLAG']\n",
            "['PHOTO CUBE']\n",
            "[\"GIANT 50'S CHRISTMAS CRACKER\"]\n",
            "['SET OF 12  VINTAGE POSTCARD SET']\n",
            "['GYMKHANA TREASURE BOOK BOX']\n",
            "['SET/6 PURPLE BUTTERFLY T-LIGHTS']\n",
            "['ROSE 1 WICK MORRIS BOXED CANDLE']\n",
            "['SET/6 TURQUOISE BUTTERFLY T-LIGHTS']\n",
            "['BAG 125g SWIRLY MARBLES']\n",
            "['OVEN MITT APPLES DESIGN']\n",
            "['JUMBO STORAGE BAG SUKI']\n",
            "['MAGIC TREE -PAPER FLOWERS']\n",
            "['VINTAGE DOILY DELUXE SEWING KIT ']\n",
            "['PARLOUR CERAMIC WALL HOOK']\n",
            "['SCOTTIE DOG HOT WATER BOTTLE']\n",
            "['HOT WATER BOTTLE KEEP CALM']\n",
            "['GREEN ROSE WASHBAG']\n",
            "['ALARM CLOCK BAKELIKE PINK']\n",
            "['ROUND CACTUS CANDLE']\n",
            "['GRASS HOPPER WOODEN WALL CLOCK ']\n",
            "['POSTE FRANCE CUSHION COVER']\n",
            "['LE JARDIN BOTANIQUE CUSHION COVER']\n",
            "['BELLE JARDINIERE CUSHION COVER']\n",
            "['POLYESTER FILLER PAD 40x40cm']\n",
            "Suggestions:\n",
            "['FROG SOCK PUPPET'] 0.7780236005783081\n",
            "['SUMMER DAISIES BAG CHARM'] 0.7724838852882385\n",
            "['CREAM AND PINK FLOWERS PONY '] 0.7497909069061279\n",
            "['ASS COLOUR GLOWING TIARAS'] 0.7398884892463684\n",
            "['YELLOW FLOWERS FELT HANDBAG KIT'] 0.7363005876541138\n",
            "['NECKLACE+BRACELET SET BLUE HIBISCUS'] 0.7324913144111633\n",
            "['SET 4 PICNIC CUTLERY BLUEBERRY'] 0.7324570417404175\n",
            "['LAZER CUT NECKLACE W PASTEL BEADS'] 0.7316114902496338\n",
            "['FELTCRAFT HAIRBAND RED AND BLUE'] 0.7300305962562561\n",
            "['HILDA CANDY SPOT RABBIT'] 0.7272065877914429\n"
          ]
        }
      ]
    },
    {
      "cell_type": "code",
      "metadata": {
        "id": "D6rk6No3XkpS",
        "colab": {
          "base_uri": "https://localhost:8080/"
        },
        "outputId": "f094494b-c933-46a8-af93-1aec5b58fa7f"
      },
      "source": [
        "get_suggestions(orders_val[88])"
      ],
      "execution_count": null,
      "outputs": [
        {
          "output_type": "stream",
          "name": "stdout",
          "text": [
            "Orders so far:\n",
            "['VICTORIAN GLASS HANGING T-LIGHT']\n",
            "['CLASSICAL ROSE CANDLESTAND']\n",
            "['BLUE STONES ON WIRE FOR CANDLE']\n",
            "['JUMBO BAG RED RETROSPOT']\n",
            "['SMALL GLASS HEART TRINKET POT']\n",
            "['STRAWBERRY CERAMIC TRINKET POT']\n",
            "['PACK OF 12 HEARTS DESIGN TISSUES ']\n",
            "['NATURAL SLATE HEART CHALKBOARD ']\n",
            "['GINGHAM HEART DECORATION']\n",
            "['CREAM HANGING HEART T-LIGHT HOLDER']\n",
            "['FENG SHUI PILLAR CANDLE']\n",
            "['SET OF 6 VINTAGE NOTELETS KIT']\n",
            "['PANTRY SCRUBBING BRUSH']\n",
            "['LIGHT GARLAND BUTTERFILES PINK']\n",
            "Suggestions:\n",
            "['HANGING HEART JAR T-LIGHT HOLDER'] 0.7547391057014465\n",
            "['GLASS HEART T-LIGHT HOLDER '] 0.7278977036476135\n",
            "['HANGING METAL STAR LANTERN'] 0.6911719441413879\n",
            "['LANTERN CREAM GAZEBO '] 0.6829525828361511\n",
            "['T-LIGHT HOLDER SWEETHEART HANGING'] 0.674238383769989\n",
            "['HANGING METAL HEART LANTERN'] 0.6727345585823059\n",
            "['PEARL CRYSTAL PUMPKIN T-LIGHT HLDR'] 0.6700406670570374\n",
            "['WHITE MOROCCAN METAL LANTERN'] 0.6683446764945984\n"
          ]
        }
      ]
    }
  ]
}