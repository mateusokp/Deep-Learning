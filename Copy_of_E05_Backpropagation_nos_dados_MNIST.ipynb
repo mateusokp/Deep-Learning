{
  "nbformat": 4,
  "nbformat_minor": 0,
  "metadata": {
    "colab": {
      "name": "Copy of E05 - Backpropagation nos dados MNIST.ipynb",
      "provenance": [],
      "collapsed_sections": [],
      "include_colab_link": true
    },
    "kernelspec": {
      "name": "python3",
      "display_name": "Python 3"
    }
  },
  "cells": [
    {
      "cell_type": "markdown",
      "metadata": {
        "id": "view-in-github",
        "colab_type": "text"
      },
      "source": [
        "<a href=\"https://colab.research.google.com/github/mateusokp/Deep-Learning/blob/main/Copy_of_E05_Backpropagation_nos_dados_MNIST.ipynb\" target=\"_parent\"><img src=\"https://colab.research.google.com/assets/colab-badge.svg\" alt=\"Open In Colab\"/></a>"
      ]
    },
    {
      "cell_type": "markdown",
      "metadata": {
        "id": "uJDhTNdYJpU9"
      },
      "source": [
        "# E05 - Backpropagation nos dados MNIST\n",
        "\n",
        "Neste exercício você irá implementar manualmente uma rede neural para o reconhecimento dos dígitos da base de dados MNIST. Esta base de dados consiste em imagens de dígitos manuscritos, contendo $60$ mil amostras para treinamento e $10$ mil amostras para teste. A imagem abaixo ilustra algumas dessas amostras.\n",
        "\n",
        "<center>\n",
        "<img src=\"https://drive.google.com/uc?id=1ZLiPiJcC6ptyPDKt-lVni-2N53ROZ1ju\" />\n",
        "</center>\n",
        "\n",
        "Para resolver este exercício, acompanhe passo a passo as etapas implementadas no código abaixo e siga as instruções ao final."
      ]
    },
    {
      "cell_type": "code",
      "metadata": {
        "id": "7sXLurP3PYww",
        "cellView": "form"
      },
      "source": [
        "#@title\n",
        "%%capture\n",
        "!pip install git+https://github.com/grading/gradememaybe.git\n",
        "!gdown --id '1EBcNjuNcnkFiPVSc89nfyFgW9iWgYLf1'\n",
        "!gdown --id '1RBh0vbz2nKjwv9ua6RNNkFUKnXX1-nP2'\n",
        "!gdown --id '1nV3_BjjeyO_4sacnceJemOHTBGGGnZZc'\n",
        "!gdown --id '1u4EvdwDwE1j2hZZU4A2FIVV1DVVOCVwj'\n",
        "!gdown --id '1hk8OJMXGVHbPooHovB3OBCIsK7m4dsV9'\n",
        "!gdown --id '1kyUeMWw46rrlDwxqIVlX5bQb82xPdfHy'\n",
        "!gdown --id '1A3g8vBh3u3MyO99Pm-KVvv_lcrKxDDlW'\n",
        "!gdown --id '1WhiS-x3M6Am-st0TnSOqyB2_8QsP8wDH'\n",
        "!gdown --id '1_FzSx9FGy4zaYzuyxILjFjF8tR8u3Kbe'\n",
        "!gdown --id '1BC2wPJws86yumNfsBB80HApfk4k88TZa'\n",
        "from gofer import ok"
      ],
      "execution_count": null,
      "outputs": []
    },
    {
      "cell_type": "markdown",
      "metadata": {
        "id": "OrgR4QVdZr0a"
      },
      "source": [
        "## Passo 1: Obtenção dos Dados\n",
        "\n",
        "Este código baixa os arquivos do [_dataset_ MNIST](https://en.wikipedia.org/wiki/MNIST_database) a partir do [site](http://yann.lecun.com/exdb/mnist/) do [Prof. Yann LeCun](https://en.wikipedia.org/wiki/Yann_LeCun)."
      ]
    },
    {
      "cell_type": "code",
      "metadata": {
        "id": "D1ysJPoDYhDm",
        "colab": {
          "base_uri": "https://localhost:8080/"
        },
        "outputId": "1e58f39e-83a2-4f8a-fc5d-1b5725793b05"
      },
      "source": [
        "# Imagens de treinamento\n",
        "!wget http://yann.lecun.com/exdb/mnist/train-images-idx3-ubyte.gz -O train-images-idx3-ubyte.gz\n",
        "# Rótulos (classes)\n",
        "!wget http://yann.lecun.com/exdb/mnist/train-labels-idx1-ubyte.gz -O train-labels-idx1-ubyte.gz\n",
        "# Imagens de validação\n",
        "!wget http://yann.lecun.com/exdb/mnist/t10k-images-idx3-ubyte.gz -O t10k-images-idx3-ubyte.gz\n",
        "# Rótulos de validação (classes)\n",
        "!wget http://yann.lecun.com/exdb/mnist/t10k-labels-idx1-ubyte.gz -O t10k-labels-idx1-ubyte.gz"
      ],
      "execution_count": null,
      "outputs": [
        {
          "output_type": "stream",
          "name": "stdout",
          "text": [
            "--2021-12-08 00:54:27--  http://yann.lecun.com/exdb/mnist/train-images-idx3-ubyte.gz\n",
            "Resolving yann.lecun.com (yann.lecun.com)... 172.67.171.76, 104.21.29.36, 2606:4700:3036::ac43:ab4c, ...\n",
            "Connecting to yann.lecun.com (yann.lecun.com)|172.67.171.76|:80... connected.\n",
            "HTTP request sent, awaiting response... 200 OK\n",
            "Length: 9912422 (9.5M) [application/x-gzip]\n",
            "Saving to: ‘train-images-idx3-ubyte.gz’\n",
            "\n",
            "train-images-idx3-u 100%[===================>]   9.45M  32.4MB/s    in 0.3s    \n",
            "\n",
            "2021-12-08 00:54:28 (32.4 MB/s) - ‘train-images-idx3-ubyte.gz’ saved [9912422/9912422]\n",
            "\n",
            "--2021-12-08 00:54:28--  http://yann.lecun.com/exdb/mnist/train-labels-idx1-ubyte.gz\n",
            "Resolving yann.lecun.com (yann.lecun.com)... 172.67.171.76, 104.21.29.36, 2606:4700:3036::ac43:ab4c, ...\n",
            "Connecting to yann.lecun.com (yann.lecun.com)|172.67.171.76|:80... connected.\n",
            "HTTP request sent, awaiting response... 200 OK\n",
            "Length: 28881 (28K) [application/x-gzip]\n",
            "Saving to: ‘train-labels-idx1-ubyte.gz’\n",
            "\n",
            "train-labels-idx1-u 100%[===================>]  28.20K  --.-KB/s    in 0.005s  \n",
            "\n",
            "2021-12-08 00:54:28 (6.10 MB/s) - ‘train-labels-idx1-ubyte.gz’ saved [28881/28881]\n",
            "\n",
            "--2021-12-08 00:54:28--  http://yann.lecun.com/exdb/mnist/t10k-images-idx3-ubyte.gz\n",
            "Resolving yann.lecun.com (yann.lecun.com)... 172.67.171.76, 104.21.29.36, 2606:4700:3036::ac43:ab4c, ...\n",
            "Connecting to yann.lecun.com (yann.lecun.com)|172.67.171.76|:80... connected.\n",
            "HTTP request sent, awaiting response... 200 OK\n",
            "Length: 1648877 (1.6M) [application/x-gzip]\n",
            "Saving to: ‘t10k-images-idx3-ubyte.gz’\n",
            "\n",
            "t10k-images-idx3-ub 100%[===================>]   1.57M  7.05MB/s    in 0.2s    \n",
            "\n",
            "2021-12-08 00:54:28 (7.05 MB/s) - ‘t10k-images-idx3-ubyte.gz’ saved [1648877/1648877]\n",
            "\n",
            "--2021-12-08 00:54:28--  http://yann.lecun.com/exdb/mnist/t10k-labels-idx1-ubyte.gz\n",
            "Resolving yann.lecun.com (yann.lecun.com)... 172.67.171.76, 104.21.29.36, 2606:4700:3036::ac43:ab4c, ...\n",
            "Connecting to yann.lecun.com (yann.lecun.com)|172.67.171.76|:80... connected.\n",
            "HTTP request sent, awaiting response... 200 OK\n",
            "Length: 4542 (4.4K) [application/x-gzip]\n",
            "Saving to: ‘t10k-labels-idx1-ubyte.gz’\n",
            "\n",
            "t10k-labels-idx1-ub 100%[===================>]   4.44K  --.-KB/s    in 0s      \n",
            "\n",
            "2021-12-08 00:54:28 (510 MB/s) - ‘t10k-labels-idx1-ubyte.gz’ saved [4542/4542]\n",
            "\n"
          ]
        }
      ]
    },
    {
      "cell_type": "markdown",
      "metadata": {
        "id": "h-9Bk13cH3Qp"
      },
      "source": [
        "Abaixo extraímos os arquivos comprimidos. "
      ]
    },
    {
      "cell_type": "code",
      "metadata": {
        "id": "0Y07CnRjaJYU"
      },
      "source": [
        "# Extrai os arquivos treinamento\n",
        "# (esse comando demora um pouco)\n",
        "!gunzip -f *.gz"
      ],
      "execution_count": null,
      "outputs": []
    },
    {
      "cell_type": "markdown",
      "metadata": {
        "id": "X4O4zi5lf04t"
      },
      "source": [
        "## Passo 2: Leitura dos Dados\n",
        "\n",
        "Abaixo definimos as funções auxiliares para leitura do arquivo de imagens"
      ]
    },
    {
      "cell_type": "code",
      "metadata": {
        "id": "3-GlQ5rjbPwg"
      },
      "source": [
        "import numpy as np\n",
        "from struct import unpack\n",
        "\n",
        "def read_imgs(img_filename):\n",
        "  ''' Esta função lê o arquivo de imagens\n",
        "      da base de dados MNIST\n",
        "  '''\n",
        "\n",
        "  # Abre o arquivo\n",
        "  img_file = open(img_filename,'rb')\n",
        "\n",
        "  # Lê o cabeçalho do arquivo\n",
        "  magic = unpack('>i', img_file.read(4))[0]\n",
        "  total = unpack('>i', img_file.read(4))[0]\n",
        "  height = unpack('>i', img_file.read(4))[0]\n",
        "  width = unpack('>i', img_file.read(4))[0]\n",
        "\n",
        "  # Verifica se o arquivo passa no teste\n",
        "  # básico (este número deve ser sempre 2051)\n",
        "  if magic != 2051:\n",
        "    print('Erro, este arquivo não parece ser um arquivo de imagens MNIST')\n",
        "\n",
        "  # Aqui criamos a array do NumPy que armazenará\n",
        "  # as imagens\n",
        "  imgs = np.zeros((total,height,width))\n",
        "\n",
        "  # Nesse laço vamos lendo cada pixel e preenchendo\n",
        "  # no array\n",
        "  for k in range(total): # Cada amostra k\n",
        "    for i in range(height): # Cada linha i\n",
        "      for j in range(width): # Cada coluna j\n",
        "        imgs[k,i,j] = ord(img_file.read(1)) # Lemos 1 byte\n",
        "  \n",
        "  # Retornamos o array preenchido\n",
        "  return imgs"
      ],
      "execution_count": null,
      "outputs": []
    },
    {
      "cell_type": "markdown",
      "metadata": {
        "id": "ex6SljeojCtM"
      },
      "source": [
        "De forma semelhante ao realizado acima, aqui abaixo definimos as funções auxiliares para leitura do arquivo de rótulos."
      ]
    },
    {
      "cell_type": "code",
      "metadata": {
        "id": "gpK1CJ0mgAzn"
      },
      "source": [
        "def read_labels(labels_filename):\n",
        "  ''' Esta função lê o arquivo de rótulos\n",
        "      da base de dados MNIST\n",
        "  '''\n",
        "\n",
        "  # Abre o arquivo\n",
        "  labels_file = open(labels_filename,'rb')\n",
        "\n",
        "  # Lê o cabeçalho do arquivo\n",
        "  magic = unpack('>i', labels_file.read(4))[0]\n",
        "  total = unpack('>i', labels_file.read(4))[0]\n",
        "\n",
        "  # Verifica se o arquivo passa no teste\n",
        "  # básico (este número deve ser sempre 2051)\n",
        "  if magic != 2049:\n",
        "    print('Erro, este arquivo não parece ser um arquivo de imagens MNIST')\n",
        "\n",
        "  # Aqui criamos a array do NumPy que armazenará\n",
        "  # as imagens\n",
        "  labels = np.zeros((total))\n",
        "\n",
        "  # Nesse laço vamos lendo cada label e preenchendo\n",
        "  # no array\n",
        "  for k in range(total): # Cada amostra k\n",
        "    labels[k] = ord(labels_file.read(1)) # Lemos 1 byte\n",
        "  \n",
        "  # Retornamos o array preenchido\n",
        "  return labels"
      ],
      "execution_count": null,
      "outputs": []
    },
    {
      "cell_type": "markdown",
      "metadata": {
        "id": "PgwpORvVjHBf"
      },
      "source": [
        "Nas linhas abaixo chamamos as função de leitura para carregar as imagens e os respectivos rótulos"
      ]
    },
    {
      "cell_type": "code",
      "metadata": {
        "id": "JEEgfzZli9yF"
      },
      "source": [
        "# Lê dados de treinamento\n",
        "imgs = read_imgs('train-images-idx3-ubyte')\n",
        "labels = read_labels('train-labels-idx1-ubyte')\n",
        "\n",
        "# Lê dados de validação\n",
        "imgs_val = read_imgs('t10k-images-idx3-ubyte')\n",
        "labels_val = read_labels('t10k-labels-idx1-ubyte')"
      ],
      "execution_count": null,
      "outputs": []
    },
    {
      "cell_type": "markdown",
      "metadata": {
        "id": "2VrUcPJsaYcV"
      },
      "source": [
        "## Passo 3: Entendendo os dados\n",
        "\n",
        "No bloco de código abaixo vamos examinar em detalhe como é o formato desses dados que acabamos de ler como tensores do NumPy."
      ]
    },
    {
      "cell_type": "code",
      "metadata": {
        "id": "EhdY9vfOZ7Dq",
        "colab": {
          "base_uri": "https://localhost:8080/"
        },
        "outputId": "8d17fa30-52c4-4dc2-b420-83dd9b2071c8"
      },
      "source": [
        "print('Imagens de treinamento', imgs.shape)\n",
        "print('Etiquetas de treinamento', labels.shape)\n",
        "print('Imagens de validação',imgs_val.shape)\n",
        "print('Etiquetas de validação', labels_val.shape)"
      ],
      "execution_count": null,
      "outputs": [
        {
          "output_type": "stream",
          "name": "stdout",
          "text": [
            "Imagens de treinamento (60000, 28, 28)\n",
            "Etiquetas de treinamento (60000,)\n",
            "Imagens de validação (10000, 28, 28)\n",
            "Etiquetas de validação (10000,)\n"
          ]
        }
      ]
    },
    {
      "cell_type": "markdown",
      "metadata": {
        "id": "f88ng4joastd"
      },
      "source": [
        "### Passo 3.1: Imagens\n",
        "\n",
        "Podemos notar acima que as imagens são tensores de três dimensões, enquanto as etiquetas são vetores de uma única dimensão.\n",
        "\n",
        "Vamos examinar a estrutura do tensor `imgs` em maior detalhe na figura abaixo. Esse é um tensor de tamanho 60000x28x28. Podemos imaginar este tensor como uma pilha de imagens, onde a primeira coordenada seleciona uma das 60 mil imagens, e as próximas duas coordenadas indicam respectivamente a linha e a coluna referente ao píxel que queremos examinar. O valor ali contido é um inteiro representando uma escala de cinza no intervalo de 0 a 255, onde 0 representa o valor mais escuro e 255 o valor mais claro, respectivamente. Esse conceito é ilustrado na figura abaixo.\n",
        "\n",
        "<center>\n",
        "<img src=\"https://drive.google.com/uc?id=1E0w4hac4TmPx41pt8dBkzw3OIkVBDnWY\" width=\"400\"/>\n",
        "</center>\n",
        "\n",
        "A estrutura do tensor `imgs_val` é idêntica, exceto que este tensor contém apenas 10 mil imagens."
      ]
    },
    {
      "cell_type": "markdown",
      "metadata": {
        "id": "harypu-PJPUM"
      },
      "source": [
        "### Passo 3.2: Etiquetas\n",
        "\n",
        "Agora vamos dar uma olhada nas etiquetas `labels` e `labels_val`"
      ]
    },
    {
      "cell_type": "code",
      "metadata": {
        "id": "w2oHhkxzJVX8",
        "colab": {
          "base_uri": "https://localhost:8080/"
        },
        "outputId": "26b3fd0d-3bfc-4b3b-b24c-0f86c7b2a0b4"
      },
      "source": [
        "print('labels =',labels,'é um array de',len(labels),'elementos')\n",
        "print('labels_val =',labels_val,'é um array de',len(labels_val),'elementos')"
      ],
      "execution_count": null,
      "outputs": [
        {
          "output_type": "stream",
          "name": "stdout",
          "text": [
            "labels = [5. 0. 4. ... 5. 6. 8.] é um array de 60000 elementos\n",
            "labels_val = [7. 2. 1. ... 4. 5. 6.] é um array de 10000 elementos\n"
          ]
        }
      ]
    },
    {
      "cell_type": "markdown",
      "metadata": {
        "id": "0puSSrc_KEat"
      },
      "source": [
        "Como podemos observar acima, cada elemento de um array de etiquetas é um número inteiro entre 0 e 9. Para um índice `i` entre $0$ e $59999$, `labels[i]` representa a etiqueta da imagem em `imgs[i,:,:]`. O mesmo acontece entre `labels_val[i]` e `imgs_val[i]`, para índices entre $0$ e $9999$.\n",
        "\n",
        "Para verificar isso, podemos utilizar a função `imshow()` do módulo `pyplot`. Essa função recebe como entrada um array de duas dimensões, e mostra seus valores na tela na forma de uma imagem, onde o brilho de cada píxel corresponde ao valor na respectiva posição de linha e coluna do array."
      ]
    },
    {
      "cell_type": "code",
      "metadata": {
        "id": "YJP0QNZwLu9V"
      },
      "source": [
        "from matplotlib import pyplot as plt"
      ],
      "execution_count": null,
      "outputs": []
    },
    {
      "cell_type": "code",
      "metadata": {
        "id": "4Nhb5RpMLyV8",
        "colab": {
          "base_uri": "https://localhost:8080/",
          "height": 813
        },
        "outputId": "c6fa3d08-53c6-44b5-e128-73115f43872c"
      },
      "source": [
        "# No laço abaixo sorteamos três amostras aleatórias\n",
        "# e mostramos a etiqueta e a respectiva imagem.\n",
        "for _ in range(3):\n",
        "  # Sorteamos uma amostra\n",
        "  i = np.random.randint(0,60000)\n",
        "  # Imprimimos a etiqueta e a respectiva imagem\n",
        "  print('A imagem abaixo mostra o dígito', labels[i])\n",
        "  plt.imshow(imgs[i,:,:],cmap='gray')\n",
        "  plt.show()"
      ],
      "execution_count": null,
      "outputs": [
        {
          "output_type": "stream",
          "name": "stdout",
          "text": [
            "A imagem abaixo mostra o dígito 2.0\n"
          ]
        },
        {
          "output_type": "display_data",
          "data": {
            "image/png": "[encoded data removed]",
            "text/plain": [
              "<Figure size 432x288 with 1 Axes>"
            ]
          },
          "metadata": {
            "needs_background": "light"
          }
        },
        {
          "output_type": "stream",
          "name": "stdout",
          "text": [
            "A imagem abaixo mostra o dígito 8.0\n"
          ]
        },
        {
          "output_type": "display_data",
          "data": {
            "image/png": "[encoded data removed]",
            "text/plain": [
              "<Figure size 432x288 with 1 Axes>"
            ]
          },
          "metadata": {
            "needs_background": "light"
          }
        },
        {
          "output_type": "stream",
          "name": "stdout",
          "text": [
            "A imagem abaixo mostra o dígito 5.0\n"
          ]
        },
        {
          "output_type": "display_data",
          "data": {
            "image/png": "[encoded data removed]",
            "text/plain": [
              "<Figure size 432x288 with 1 Axes>"
            ]
          },
          "metadata": {
            "needs_background": "light"
          }
        }
      ]
    },
    {
      "cell_type": "markdown",
      "metadata": {
        "id": "ujNsuuc_NROj"
      },
      "source": [
        "## Passo 4: Embaralhamento das amostras\n",
        "\n",
        "Apesar que os dados MNIST baixados aqui já vêm embaralhados, é considerado uma boa prática sempre embaralhar os dados antes de utilizar. No código abaixo faça isso, embaralhando os pares `imgs` e `labels`, tomando o cuidado para que a amostra em cada posição mantenha a correspondência.\n",
        "\n",
        "\n",
        "\n"
      ]
    },
    {
      "cell_type": "code",
      "metadata": {
        "id": "cailF8ekfd8V"
      },
      "source": [
        "# Escreva aqui seu código para embaralhar\n",
        "# os pares de treinamento. Mantenha os mesmos\n",
        "# nomes de variáveis originais.\n",
        "import random\n",
        "shuffler = np.random.permutation(len(labels))\n",
        "\n",
        "imgs = imgs[shuffler]\n",
        "\n",
        "labels = labels[shuffler]"
      ],
      "execution_count": null,
      "outputs": []
    },
    {
      "cell_type": "code",
      "metadata": {
        "id": "auAZ1jwRY1-7",
        "colab": {
          "base_uri": "https://localhost:8080/",
          "height": 46
        },
        "outputId": "aa1032aa-5699-4ca2-b8ba-99592b818aef"
      },
      "source": [
        "# Este teste avalia o embaralhamento\n",
        "ok.check('e05_1.py')"
      ],
      "execution_count": null,
      "outputs": [
        {
          "output_type": "execute_result",
          "data": {
            "text/html": [
              "\n",
              "    \n",
              "    \n",
              "        <p>All tests passed!</p>\n",
              "    \n",
              "    "
            ],
            "text/plain": [
              "<gofer.ok.OKTestsResult at 0x7f3747364d10>"
            ]
          },
          "metadata": {},
          "execution_count": 12
        }
      ]
    },
    {
      "cell_type": "markdown",
      "metadata": {
        "id": "tkyOV_z-fw7g"
      },
      "source": [
        "## Passo 5: Normalização\n",
        "\n",
        "Note que os dados de brilho de cada pixel são números inteiros convertidos de uma representação de $8$ bits. Isso significa que cada valor está no intervalo $0$ a $255$. No código abaixo, ajuste o intervalo de valores para essas entradas de forma que os valores fiquem no intervalo $0$ a $1$."
      ]
    },
    {
      "cell_type": "code",
      "metadata": {
        "id": "EyPMGMZAgYfp"
      },
      "source": [
        "# Escreva aqui seu código para normalizar\n",
        "# as imagens dos dados de treinamento, colocando\n",
        "# os valores no intervalo de 0 a 1\n",
        "def Normalize(data):\n",
        "  return (data - np.min(data)) / (np.max(data) - np.min(data))\n",
        "\n",
        "imgs = Normalize(imgs)\n",
        "imgs_val = Normalize(imgs_val)\n",
        "\n"
      ],
      "execution_count": null,
      "outputs": []
    },
    {
      "cell_type": "code",
      "metadata": {
        "id": "vlICzR2xgkMK",
        "colab": {
          "base_uri": "https://localhost:8080/",
          "height": 46
        },
        "outputId": "f37edfa6-6c26-47e1-af7d-fe799ea716f7"
      },
      "source": [
        "# Esse teste avalia a normalização\n",
        "ok.check('e05_2.py')"
      ],
      "execution_count": null,
      "outputs": [
        {
          "output_type": "execute_result",
          "data": {
            "text/html": [
              "\n",
              "    \n",
              "    \n",
              "        <p>All tests passed!</p>\n",
              "    \n",
              "    "
            ],
            "text/plain": [
              "<gofer.ok.OKTestsResult at 0x7f36ccf43990>"
            ]
          },
          "metadata": {},
          "execution_count": 14
        }
      ]
    },
    {
      "cell_type": "markdown",
      "metadata": {
        "id": "Wcnsbat0k2-L"
      },
      "source": [
        "## Passo 6: One-Hot\n",
        "\n",
        "Agora você deve converter as etiquetas `labels` e `labels_val` para o formato _one-hot_. Mantenha os mesmos nomes de variável. O resultado deve ser os arrays `labels` com dimensões $60000 \\times 10$ e `labels_val` com $10000 \\times 10$.\n",
        "\n",
        "\n",
        "`0 => 1 0 0 0 0 0 0 0 0`\n",
        "\n",
        "`1 => 0 1 0 0 0 0 0 0 0`\n",
        "\n",
        "`2 => 0 0 1 0 0 0 0 0 0`\n",
        "\n",
        "`3 => 0 0 0 1 0 0 0 0 0`\n",
        "\n",
        "(...)"
      ]
    },
    {
      "cell_type": "code",
      "metadata": {
        "id": "pTerroaAlu-U"
      },
      "source": [
        "# Escreva aqui o código que converte os\n",
        "# arrays labels e labels_val para o formato\n",
        "# one-hot\n",
        "def onehot(value):\n",
        "  a = value.astype(int)\n",
        "  b = np.zeros((value.size, a.max()+1))\n",
        "  b[np.arange(value.size),a] = 1\n",
        "  return b\n",
        "\n",
        "labels = onehot(labels)\n",
        "labels_val = onehot(labels_val)"
      ],
      "execution_count": null,
      "outputs": []
    },
    {
      "cell_type": "code",
      "metadata": {
        "id": "r2_gqLTAl2nA",
        "colab": {
          "base_uri": "https://localhost:8080/",
          "height": 46
        },
        "outputId": "3d8cdc99-2047-4829-c310-eb2bd47b3fce"
      },
      "source": [
        "# Este teste avalia a conversão para\n",
        "# o formato one-hot\n",
        "ok.check('e05_3.py')"
      ],
      "execution_count": null,
      "outputs": [
        {
          "output_type": "execute_result",
          "data": {
            "text/html": [
              "\n",
              "    \n",
              "    \n",
              "        <p>All tests passed!</p>\n",
              "    \n",
              "    "
            ],
            "text/plain": [
              "<gofer.ok.OKTestsResult at 0x7f36ccf2c390>"
            ]
          },
          "metadata": {},
          "execution_count": 16
        }
      ]
    },
    {
      "cell_type": "markdown",
      "metadata": {
        "id": "jlrTTreNzJQl"
      },
      "source": [
        "## Passo 7: Função softmax\n",
        "\n",
        "Implemente a função _softmax_. Essa função deve ser definida com o nome `softmax(x)`, recebendo o parâmetro `x` que será um vetor coluna com `10` elementos. Essa função deve retornar a versão softmax desse vetor, ou seja, cada componente $i$ deve ser calculada como:\n",
        "\n",
        "<center>\n",
        "$\\frac{\\exp(x_i)}{\\sum_{j=0}^{9} \\exp(x_j)}$\n",
        "</center>"
      ]
    },
    {
      "cell_type": "code",
      "metadata": {
        "id": "x_MYH0QWzEfX"
      },
      "source": [
        "# Implemente aqui a função softmax\n",
        "def softmax(x):\n",
        "    ex = np.exp(x - np.max(x))\n",
        "    return ex / ex.sum()"
      ],
      "execution_count": null,
      "outputs": []
    },
    {
      "cell_type": "code",
      "metadata": {
        "id": "mXZHuDc50jkV",
        "colab": {
          "base_uri": "https://localhost:8080/",
          "height": 46
        },
        "outputId": "00883ee1-291f-46c4-adb8-22c53cd7c421"
      },
      "source": [
        "# Este teste avalia a função softmax\n",
        "ok.check('e05_4.py')"
      ],
      "execution_count": null,
      "outputs": [
        {
          "output_type": "execute_result",
          "data": {
            "text/html": [
              "\n",
              "    \n",
              "    \n",
              "        <p>All tests passed!</p>\n",
              "    \n",
              "    "
            ],
            "text/plain": [
              "<gofer.ok.OKTestsResult at 0x7f36cbef3890>"
            ]
          },
          "metadata": {},
          "execution_count": 18
        }
      ]
    },
    {
      "cell_type": "markdown",
      "metadata": {
        "id": "MZQNESwPb-jC"
      },
      "source": [
        "## Passo 8: Função sigmoide\n",
        "\n",
        "Implemente a função de ativação _sigmoide_. Essa função deve ser definida com o nome `sigmoid(x)`, recebendo o parâmetro `x` que será um vetor coluna com `n` elementos. Essa função deve retornar um vetor de mesmas dimensões onde o valor de cada elemento é igual a:\n",
        "\n",
        "<center>\n",
        " $\\frac{1}{1 + \\exp(-x)}$\n",
        "</center>"
      ]
    },
    {
      "cell_type": "code",
      "metadata": {
        "id": "nmPtJQ3Nd6D9"
      },
      "source": [
        "# Implemente aqui a função sigmoide\n",
        "def sigmoid(x):\n",
        "  return 1 / (1 + np.exp(-x))"
      ],
      "execution_count": null,
      "outputs": []
    },
    {
      "cell_type": "code",
      "metadata": {
        "id": "pzViNL20eBnK",
        "colab": {
          "base_uri": "https://localhost:8080/",
          "height": 46
        },
        "outputId": "dc70a9b3-13fd-4079-bd15-118582346b05"
      },
      "source": [
        "# Este teste avalia a função sigmoide\n",
        "ok.check('e05_5.py')"
      ],
      "execution_count": null,
      "outputs": [
        {
          "output_type": "execute_result",
          "data": {
            "text/html": [
              "\n",
              "    \n",
              "    \n",
              "        <p>All tests passed!</p>\n",
              "    \n",
              "    "
            ],
            "text/plain": [
              "<gofer.ok.OKTestsResult at 0x7f36cbe81f10>"
            ]
          },
          "metadata": {},
          "execution_count": 20
        }
      ]
    },
    {
      "cell_type": "markdown",
      "metadata": {
        "id": "me3gTd3zknix"
      },
      "source": [
        "# Rede Neural\n",
        "\n",
        "Agora você começará a escrever o código que representa a classe que implementa a rede neural. Esta será uma rede neural estilo perceptron. A implementação seguirá vários passos. Para cada passo você deve ler as instruções e retornar a ao mesmo código desta classe, acrescentando as alterações necessárias para atender aquela etapa."
      ]
    },
    {
      "cell_type": "code",
      "metadata": {
        "id": "E8WhQ55m7Krt"
      },
      "source": [
        "# Implemente aqui, passo a passo, a classe de sua rede neural\n",
        "class Perceptron:\n",
        "  def __init__(self):\n",
        "    self.W1 = np.random.uniform(low=-1.0, high=1.0, size=(256,784))\n",
        "    self.b1 = np.random.uniform(low=-1.0, high=1.0, size=(256,1))\n",
        "    self.W2 = np.random.uniform(low=-1.0, high=1.0, size=(64,256))\n",
        "    self.b2 = np.random.uniform(low=-1.0, high=1.0, size=(64,1))\n",
        "    self.W3 = np.random.uniform(low=-1.0, high=1.0, size=(10,64))\n",
        "    self.b3 = np.random.uniform(low=-1.0, high=1.0, size=(10,1))\n",
        "\n",
        "  def forward(self,x):\n",
        "\n",
        "    x = np.reshape(x,(784,1))\n",
        "\n",
        "    self.s1 = np.dot(self.W1,x) + self.b1\n",
        "    self.z1 = sigmoid(self.s1)\n",
        "\n",
        "    self.s2 = np.dot(self.W2,self.z1) + self.b2\n",
        "    self.z2 = sigmoid(self.s2)\n",
        "\n",
        "    self.s3 = np.dot(self.W3,self.z2) + self.b3\n",
        "    self.z3 = softmax(self.s3)\n",
        "\n",
        "    return self.z3"
      ],
      "execution_count": null,
      "outputs": []
    },
    {
      "cell_type": "markdown",
      "metadata": {
        "id": "d07HpCy_qnV3"
      },
      "source": [
        "#### ATENÇÃO: Os passos abaixo devem ser todos implementados no código acima ###"
      ]
    },
    {
      "cell_type": "markdown",
      "metadata": {
        "id": "fp1a4Kcx7CPw"
      },
      "source": [
        "## Passo 9: Definição da Classe\n",
        "\n",
        "Crie uma classe de nome `Perceptron`. Essa classe deve incluir um construtor `__init__(self)` que não recebe parâmetro nenhum.\n",
        "\n",
        "No construtor vamos criar as matrizes de pesos e vetores de bias para uma rede neural com as seguintes características:\n",
        "- $28 \\times 28 = 784$ entradas (brilho dos pixels da imagem de uma das amostras, serializados num vetor coluna)\n",
        "- Camada de $256$ neurônios na primeira camada, com ativação sigmoide\n",
        "- Camada de $64$ neurônios na segunda camada, com ativação sigmoide\n",
        "- Camada de $10$ neurônios de saída na última camada, com ativação softmax\n",
        "\n",
        "A matriz dos pesos e vetores de bias de cada camada deverão ser chamados, respectivamente de: `w1`, `b1`, `w2`, `b2`, `w3`, `b3`. Crie e inicialize cada matriz de pesos e vetor de bias com valores aleatórios entre $-1$ e $+1$. Certifique-se de que cada uma dessas arrays tenha as dimensões corretas."
      ]
    },
    {
      "cell_type": "code",
      "metadata": {
        "id": "DfSjyaXZ9wp8",
        "colab": {
          "base_uri": "https://localhost:8080/",
          "height": 46
        },
        "outputId": "bb71e5e5-513f-4a99-c838-77db6d789ee5"
      },
      "source": [
        "# Este teste avalia a definição da classe\n",
        "ok.check('e05_6.py')"
      ],
      "execution_count": null,
      "outputs": [
        {
          "output_type": "execute_result",
          "data": {
            "text/html": [
              "\n",
              "    \n",
              "    \n",
              "        <p>All tests passed!</p>\n",
              "    \n",
              "    "
            ],
            "text/plain": [
              "<gofer.ok.OKTestsResult at 0x7f36ccf372d0>"
            ]
          },
          "metadata": {},
          "execution_count": 27
        }
      ]
    },
    {
      "cell_type": "markdown",
      "metadata": {
        "id": "XbyQYMsN77aP"
      },
      "source": [
        "## Passo 10: Método `forward(x)`\n",
        "\n",
        "Agora crie o método `forward(x)` dentro da classe `Perceptron` (lembre que todos métodos que pertencem a classes, no Python, devem receber `self` como primeiro argumento, ou seja, na realidade o método é `forward(self,x)`). Esse método deve receber o vetor coluna `x` que é a imagem de uma amostra de um dígito da base de dados MNIST, com todos os valores de brilho dos píxels em um vetor coluna de $28 \\times 28 = 784$ linhas.\n",
        "\n",
        "Dentro desse método você deve seguir os seguintes passos:\n",
        "\n",
        "* Calcule os valores de `s1` a partir das entradas `x`, usando os pesos `W1` e bias `b1`.\n",
        "* Aplique a função de ativação sigmoide em `s1` para encontrar `z1`.\n",
        "* Calcule os valores de `s2` a partir das ativações `z1` usando os pesos `W2` e bias `b2`.\n",
        "* Aplique a função de ativação sigmoide em `s2` para encontrar `z2`\n",
        "* Calcule os valores de `s3` a partir das ativações `z2` usando os pesos `W3` e bias `b3`.\n",
        "* Aplique a função `softmax()` em `s3` para encontrar `z3`.\n",
        "* Garanta que todas essas $6$ variáveis, `s1`,`z1`,`s2`,`z2`,`s3`,`z3`, sejam variáveis membro (por exemplo, `self.s1 = ...`, etc)\n",
        "* Retorne `z3`\n"
      ]
    },
    {
      "cell_type": "code",
      "metadata": {
        "id": "C2_PJUMNq1B8",
        "colab": {
          "base_uri": "https://localhost:8080/",
          "height": 46
        },
        "outputId": "41563872-f598-4996-aff2-271d7d42d494"
      },
      "source": [
        "# Este teste avalia o método forward(x)\n",
        "ok.check('e05_7.py')"
      ],
      "execution_count": null,
      "outputs": [
        {
          "output_type": "execute_result",
          "data": {
            "text/html": [
              "\n",
              "    \n",
              "    \n",
              "        <p>All tests passed!</p>\n",
              "    \n",
              "    "
            ],
            "text/plain": [
              "<gofer.ok.OKTestsResult at 0x7f36cbecb410>"
            ]
          },
          "metadata": {},
          "execution_count": 28
        }
      ]
    },
    {
      "cell_type": "markdown",
      "metadata": {
        "id": "HygZ3aZ7xzx5"
      },
      "source": [
        "## Passo 11: Backpropagation\n",
        "\n",
        "Finalmente, neste último passo, vamos implementar o algoritmo backpropagation nesta rede neural. Aqui consideramos minimizar o custo _entropia cruzada_ (CE - cross entropy).\n",
        "\n",
        "Para isso você vai seguir os seguintes passos:\n",
        "\n",
        "* Crie um método de nome `backprop(x,y_des)` que recebe o par `x` e `y_des`, onde `x` é a entrada e `y_des` é a respectiva saída desejada. Lembre sempre que métodos (funções que pertencem a classes) precisam do parâmetro obrigatório `self` (por exemplo `def backprop(self,x,y)`).\n",
        "\n",
        "* Dentro deste método, chame a função `forward(x)` com o valor de `x` que é a entrada do par passado no argumento. Salve o resultado da saída obtida na variável de nome `y`.\n",
        "\n",
        "* Dentro deste método, calcule o vetor de deltas $\\delta^3$ da camada de saída, dando o nome `d3`. Lembre que para uma camada de saída _softmax_, considerando custo CE, temos `d3` = `y - y_des`.\n",
        "\n",
        "* Calcule agora os deltas de trás para frente, descobrindo `d2` a partir de `d3`, e em seguida `d1` a partir de `d2`, usando para ambos a fórmula $\\delta^l=(W^{l+1})^T\\delta^{l+1}\\odot\\sigma'(s^l)$, lembrando que para a sigmoide, a derivada da função de ativação é $\\sigma'(s^l) = z^l (1 - z^l)$\n",
        "\n",
        "* Compute as matrizes e vetores de derivadas parciais (o gradiente) do custo em relação aos pesos e bias de todas camadas, usando essas fórmulas abaixo. Use os nomes `dW1`, `db1`, `dW2`, `db2`, `dW3`, `db3`.\n",
        "  \n",
        "  `dW..` = $\\frac{\\partial{E_{CE}}}{\\partial{W^l}} = \\delta^l \\times \\left(z^{l-1}\\right)^T $\n",
        "  \n",
        "  `db..` = $\\frac{\\partial{E_{CE}}}{\\partial{b^l}} = \\delta^l $\n",
        "\n",
        "* Considerando um passo `eta=0.1`, atualize os pesos e biases exatamente um passo na direção oposta.\n",
        "\n",
        "* Usando os valores de entrada `x`, `y_des` e a saída calculada `y`, calcule a função de custo entropia cruzada, na variável `ce`. Use esse valor como valor de retorno da função.\n",
        "\n",
        "* Grave as variáveis `y`, `d1`, `d2`, `d3`, `dW1`, `dW2`, `dW3`, `db1`, `db2`, `db3`, `ce` como variáveis membro da classe (use, por exemplo, `self.y = ...`)\n",
        "\n",
        "Atenção: não crie um laço. Faça essa implementação ajustando no sentido oposto do gradiente em apenas um passo."
      ]
    },
    {
      "cell_type": "code",
      "metadata": {
        "id": "RZyICTVXH4B1",
        "colab": {
          "base_uri": "https://localhost:8080/",
          "height": 1000
        },
        "outputId": "939d4909-12aa-4357-f740-ff75aae5c62b"
      },
      "source": [
        "# Este teste avalia sua implementação do\n",
        "# algoritmo backpropagation\n",
        "ok.check('e05_8.py')"
      ],
      "execution_count": null,
      "outputs": [
        {
          "output_type": "execute_result",
          "data": {
            "text/html": [
              "\n",
              "    \n",
              "    \n",
              "        <p>0 of 1 tests passed</p>\n",
              "        \n",
              "        \n",
              "        <p> <strong>Tests failed: </strong>\n",
              "            <ul>\n",
              "            \n",
              "                <li> \n",
              "    <p><strong style='color: red;'>e05_8.py</strong></p>\n",
              "\n",
              "    <p><strong>Test code:</strong><pre><div class=\"highlight\" style=\"background: #f8f8f8\"><pre style=\"line-height: 125%\"><span></span><span style=\"color: #000080; font-weight: bold\">&gt;&gt;&gt; </span><span style=\"color: #408080; font-style: italic\"># O método forward deve criar as variáveis membro</span>\n",
              "<span style=\"color: #000080; font-weight: bold\">&gt;&gt;&gt; </span><span style=\"color: #408080; font-style: italic\"># y, d1, d2, d3, dW1, dW2, dW3, db1, db2, db3, ce</span>\n",
              "<span style=\"color: #000080; font-weight: bold\">&gt;&gt;&gt; </span>p <span style=\"color: #666666\">=</span> Perceptron()\n",
              "<span style=\"color: #000080; font-weight: bold\">&gt;&gt;&gt; </span>i <span style=\"color: #666666\">=</span> np<span style=\"color: #666666\">.</span>random<span style=\"color: #666666\">.</span>randint(<span style=\"color: #666666\">0</span>,<span style=\"color: #666666\">60000</span>)\n",
              "<span style=\"color: #000080; font-weight: bold\">&gt;&gt;&gt; </span>x <span style=\"color: #666666\">=</span> np<span style=\"color: #666666\">.</span>reshape(imgs[i,:,:],(<span style=\"color: #666666\">784</span>,<span style=\"color: #666666\">1</span>))\n",
              "<span style=\"color: #000080; font-weight: bold\">&gt;&gt;&gt; </span>y_des <span style=\"color: #666666\">=</span> np<span style=\"color: #666666\">.</span>reshape(labels[i,:],(<span style=\"color: #666666\">10</span>,<span style=\"color: #666666\">1</span>))\n",
              "<span style=\"color: #000080; font-weight: bold\">&gt;&gt;&gt; </span>ce <span style=\"color: #666666\">=</span> p<span style=\"color: #666666\">.</span>backprop(x,y_des)\n",
              "<span style=\"color: #000080; font-weight: bold\">&gt;&gt;&gt; </span><span style=\"color: #008000\">hasattr</span>(p,<span style=\"color: #BA2121\">&#39;y&#39;</span>)\n",
              "<span style=\"color: #888888\">True</span>\n",
              "</pre></div>\n",
              "</pre></p>\n",
              "\n",
              "    <p><strong>Test result:</strong><pre>Trying:\n",
              "    p = Perceptron()\n",
              "Expecting nothing\n",
              "ok\n",
              "Trying:\n",
              "    i = np.random.randint(0,60000)\n",
              "Expecting nothing\n",
              "ok\n",
              "Trying:\n",
              "    x = np.reshape(imgs[i,:,:],(784,1))\n",
              "Expecting nothing\n",
              "ok\n",
              "Trying:\n",
              "    y_des = np.reshape(labels[i,:],(10,1))\n",
              "Expecting nothing\n",
              "ok\n",
              "Trying:\n",
              "    ce = p.backprop(x,y_des)\n",
              "Expecting nothing\n",
              "**********************************************************************\n",
              "Line 8, in e05_8.py 3\n",
              "Failed example:\n",
              "    ce = p.backprop(x,y_des)\n",
              "Exception raised:\n",
              "    Traceback (most recent call last):\n",
              "      File \"/usr/lib/python3.7/doctest.py\", line 1337, in __run\n",
              "        compileflags, 1), test.globs)\n",
              "      File \"<doctest e05_8.py 3[4]>\", line 1, in <module>\n",
              "        ce = p.backprop(x,y_des)\n",
              "      File \"<ipython-input-32-96ae8859192d>\", line 27, in backprop\n",
              "        self.y = forward(x)\n",
              "    NameError: name 'forward' is not defined\n",
              "Trying:\n",
              "    hasattr(p,'y')\n",
              "Expecting:\n",
              "    True\n",
              "**********************************************************************\n",
              "Line 9, in e05_8.py 3\n",
              "Failed example:\n",
              "    hasattr(p,'y')\n",
              "Expected:\n",
              "    True\n",
              "Got:\n",
              "    False\n",
              "</pre></p>\n",
              "     </li>\n",
              "            \n",
              "            </ul>\n",
              "        \n",
              "    \n",
              "    "
            ],
            "text/plain": [
              "<gofer.ok.OKTestsResult at 0x7f36c0403ed0>"
            ]
          },
          "metadata": {},
          "execution_count": 33
        }
      ]
    },
    {
      "cell_type": "markdown",
      "metadata": {
        "id": "hueBmOdhV3C_"
      },
      "source": [
        "# Treinando\n",
        "\n",
        "A função abaixo faz o treinamento da rede neural que você acabou de programar, em lotes."
      ]
    },
    {
      "cell_type": "code",
      "metadata": {
        "id": "97LdoaGiV2U7"
      },
      "source": [
        "def train_batch(p, X, Y_desired, batch_size=250):\n",
        "    ''' Esta função faz o treinamento da rede\n",
        "        neural, percorrendo todo dataset, por\n",
        "        lotes de 250 amostras\n",
        "\n",
        "        PS.: Aqui os lotes não importam muito\n",
        "             pois ajustamos os pesos um pouco\n",
        "             a para cada amostra individual.\n",
        "    '''\n",
        "\n",
        "    # Total de amostras\n",
        "    total = X.shape[0]\n",
        "\n",
        "    # Erro global vai ser somado aqui\n",
        "    Err = 0.0\n",
        "\n",
        "    # Vamos percorrer as amostras em lotes\n",
        "    for i in range(0,total,batch_size):\n",
        "\n",
        "      # Erro de cada lote\n",
        "      err_batch = 0.0\n",
        "\n",
        "      # Aqui neste laço vamos treinar o lote\n",
        "      for j in range(i,i+batch_size):\n",
        "\n",
        "        # Separamos os dados de entrada\n",
        "        x = np.reshape(X[j,:,:],(784,1))\n",
        "\n",
        "        # Separamos os dados de treinamento correspondentes\n",
        "        y_desired = np.reshape(Y_desired[j,:],(10,1))\n",
        "\n",
        "        # Calculamos o fator de correção dos pesos e biases\n",
        "        ce = p.backprop(x, y_desired)\n",
        "\n",
        "        # Computamos o erro do lote\n",
        "        err_batch += ce\n",
        "\n",
        "      # Normalização do erro do lote\n",
        "      err_batch /= batch_size\n",
        "\n",
        "      # Soma do erro do lote ao erro global\n",
        "      # já com fator de normalização\n",
        "      Err += err_batch / (total/batch_size)\n",
        "\n",
        "    return Err"
      ],
      "execution_count": null,
      "outputs": []
    },
    {
      "cell_type": "markdown",
      "metadata": {
        "id": "817-GbFnWrRq"
      },
      "source": [
        "A função abaixo roda o treinamento completo"
      ]
    },
    {
      "cell_type": "code",
      "metadata": {
        "id": "u0PWv44SWpzD",
        "colab": {
          "base_uri": "https://localhost:8080/",
          "height": 356
        },
        "outputId": "901fd155-c49c-41d0-b2bf-a245f5008aa5"
      },
      "source": [
        "import time\n",
        "\n",
        "# Aqui criamos a rede neural\n",
        "p = Perceptron()\n",
        "\n",
        "# Nesta lista gravaremos a evolução do erro\n",
        "# para plotar num gráfico mais tarde\n",
        "Errs = []\n",
        "\n",
        "# Treinaremos 10 épocas (cada época demora em torno de 2 min)\n",
        "for i in range(10):\n",
        "\n",
        "  # Marcamos o tempo de início para computar o tempo\n",
        "  # que demoramos para treinar cada época (isso ajuda\n",
        "  # a estimar o tempo total)\n",
        "  start_time = time.time()\n",
        "\n",
        "  # Aqui fazemos o treinamento\n",
        "  Err = train_batch(p, imgs, labels)\n",
        "\n",
        "  # Mostramos os resultados parciais na tela\n",
        "  print('Elapsed time:', time.time() - start_time, 's', \\\n",
        "        'Err:', Err)\n",
        "  \n",
        "  # Guardamos o erro calculado em cada época para\n",
        "  # plotar no gráfico em seguida\n",
        "  Errs.append(Err)"
      ],
      "execution_count": null,
      "outputs": [
        {
          "output_type": "error",
          "ename": "AttributeError",
          "evalue": "ignored",
          "traceback": [
            "\u001b[0;31m---------------------------------------------------------------------------\u001b[0m",
            "\u001b[0;31mAttributeError\u001b[0m                            Traceback (most recent call last)",
            "\u001b[0;32m<ipython-input-26-a62fe4647a2b>\u001b[0m in \u001b[0;36m<module>\u001b[0;34m()\u001b[0m\n\u001b[1;32m     17\u001b[0m \u001b[0;34m\u001b[0m\u001b[0m\n\u001b[1;32m     18\u001b[0m   \u001b[0;31m# Aqui fazemos o treinamento\u001b[0m\u001b[0;34m\u001b[0m\u001b[0;34m\u001b[0m\u001b[0;34m\u001b[0m\u001b[0m\n\u001b[0;32m---> 19\u001b[0;31m   \u001b[0mErr\u001b[0m \u001b[0;34m=\u001b[0m \u001b[0mtrain_batch\u001b[0m\u001b[0;34m(\u001b[0m\u001b[0mp\u001b[0m\u001b[0;34m,\u001b[0m \u001b[0mimgs\u001b[0m\u001b[0;34m,\u001b[0m \u001b[0mlabels\u001b[0m\u001b[0;34m)\u001b[0m\u001b[0;34m\u001b[0m\u001b[0;34m\u001b[0m\u001b[0m\n\u001b[0m\u001b[1;32m     20\u001b[0m \u001b[0;34m\u001b[0m\u001b[0m\n\u001b[1;32m     21\u001b[0m   \u001b[0;31m# Mostramos os resultados parciais na tela\u001b[0m\u001b[0;34m\u001b[0m\u001b[0;34m\u001b[0m\u001b[0;34m\u001b[0m\u001b[0m\n",
            "\u001b[0;32m<ipython-input-25-43d398905b7c>\u001b[0m in \u001b[0;36mtrain_batch\u001b[0;34m(p, X, Y_desired, batch_size)\u001b[0m\n\u001b[1;32m     31\u001b[0m \u001b[0;34m\u001b[0m\u001b[0m\n\u001b[1;32m     32\u001b[0m         \u001b[0;31m# Calculamos o fator de correção dos pesos e biases\u001b[0m\u001b[0;34m\u001b[0m\u001b[0;34m\u001b[0m\u001b[0;34m\u001b[0m\u001b[0m\n\u001b[0;32m---> 33\u001b[0;31m         \u001b[0mce\u001b[0m \u001b[0;34m=\u001b[0m \u001b[0mp\u001b[0m\u001b[0;34m.\u001b[0m\u001b[0mbackprop\u001b[0m\u001b[0;34m(\u001b[0m\u001b[0mx\u001b[0m\u001b[0;34m,\u001b[0m \u001b[0my_desired\u001b[0m\u001b[0;34m)\u001b[0m\u001b[0;34m\u001b[0m\u001b[0;34m\u001b[0m\u001b[0m\n\u001b[0m\u001b[1;32m     34\u001b[0m \u001b[0;34m\u001b[0m\u001b[0m\n\u001b[1;32m     35\u001b[0m         \u001b[0;31m# Computamos o erro do lote\u001b[0m\u001b[0;34m\u001b[0m\u001b[0;34m\u001b[0m\u001b[0;34m\u001b[0m\u001b[0m\n",
            "\u001b[0;31mAttributeError\u001b[0m: 'Perceptron' object has no attribute 'backprop'"
          ]
        }
      ]
    },
    {
      "cell_type": "markdown",
      "metadata": {
        "id": "jWzPz9eRW5pd"
      },
      "source": [
        "# Avaliação dos Resultados"
      ]
    },
    {
      "cell_type": "code",
      "metadata": {
        "id": "VyQ0R0bsW8GD"
      },
      "source": [
        "# Plotamos o gráfico da evolução do erro\n",
        "# no tempo. Esta é a chamada \"curva de\n",
        "# aprendizagem\"\n",
        "\n",
        "plt.plot(Errs)\n",
        "plt.show()"
      ],
      "execution_count": null,
      "outputs": []
    },
    {
      "cell_type": "markdown",
      "metadata": {
        "id": "WdSLgA5UXBO6"
      },
      "source": [
        "A função abaixo serve para calcular a taxa de acerto dessa rede neural"
      ]
    },
    {
      "cell_type": "code",
      "metadata": {
        "id": "E-QlZ2rbXDgQ"
      },
      "source": [
        "def accuracy(p, X, Y):\n",
        "  ''' Esta função vai calcular a taxa\n",
        "      de acerto da rede neural p\n",
        "      nos dados fornecidos\n",
        "  '''\n",
        "\n",
        "  # Contador de acertos\n",
        "  correct_count = 0\n",
        "\n",
        "  # Total de amostras\n",
        "  total = X.shape[0]\n",
        "\n",
        "  # Laço vai percorrer todas amostras\n",
        "  for k in range(total):\n",
        "\n",
        "    # Esta é a resposta que desejamos\n",
        "    correct_answer = np.argmax(Y[k,:])\n",
        "\n",
        "    # Esta é a resposta encontrada\n",
        "    guess = np.argmax(p.forward(np.reshape(X[k,:,:],(784,1))))\n",
        "\n",
        "    # Se ambas estiverem corretas\n",
        "    if correct_answer == guess:\n",
        "\n",
        "      # Contabilizamos como resposta correta\n",
        "      correct_count += 1\n",
        "\n",
        "  # Aqui retornamos o resultado\n",
        "  return correct_count / total"
      ],
      "execution_count": null,
      "outputs": []
    },
    {
      "cell_type": "markdown",
      "metadata": {
        "id": "QX_j8B41Xl-k"
      },
      "source": [
        "Aqui avaliamos a performance da rede neural nos próprios dados de treinamento."
      ]
    },
    {
      "cell_type": "code",
      "metadata": {
        "id": "0bOGBb9-XrBz"
      },
      "source": [
        "print('Taxa de acerto nos dados de treinamento:', \\\n",
        "      100*accuracy(p, imgs, labels), '%')"
      ],
      "execution_count": null,
      "outputs": []
    },
    {
      "cell_type": "markdown",
      "metadata": {
        "id": "6_tH4GX3Xtvx"
      },
      "source": [
        "No código abaixo avaliamos a performance da rede neural nos dados de validação, que são dados nunca usados durante o treinamento."
      ]
    },
    {
      "cell_type": "code",
      "metadata": {
        "id": "cWdf2fvNXwL0"
      },
      "source": [
        "print('Taxa de acerto nos dados de validação:', \\\n",
        "      100*accuracy(p, imgs_val, labels_val), '%')"
      ],
      "execution_count": null,
      "outputs": []
    }
  ]
}